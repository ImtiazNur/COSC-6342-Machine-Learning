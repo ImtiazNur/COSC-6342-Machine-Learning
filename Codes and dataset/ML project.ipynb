{
 "cells": [
  {
   "cell_type": "code",
   "execution_count": 1,
   "metadata": {},
   "outputs": [],
   "source": [
    "#import lux\n",
    "import itertools\n",
    "import numpy as np\n",
    "import pandas as pd\n",
    "import matplotlib.pyplot as plt\n",
    "import matplotlib.gridspec as gridspec\n",
    "import seaborn as sns\n",
    "pd.set_option('display.max_columns', None)\n",
    "pd.set_option('display.max_rows', None)\n",
    "\n",
    "from sklearn import metrics\n",
    "from sklearn.tree import DecisionTreeClassifier\n",
    "from sklearn.neighbors import KNeighborsClassifier\n",
    "from sklearn.linear_model import LogisticRegression\n",
    "from sklearn.ensemble import RandomForestClassifier\n",
    "\n",
    "from sklearn.ensemble import BaggingClassifier\n",
    "from sklearn.model_selection import cross_val_score, train_test_split\n",
    "\n",
    "from sklearn.model_selection import GridSearchCV\n",
    "#from sklearn.linear_model import LinearRegression\n",
    "#from sklearn.multioutput import MultiOutputClassifier\n",
    "\n"
   ]
  },
  {
   "cell_type": "code",
   "execution_count": 2,
   "metadata": {},
   "outputs": [],
   "source": [
    "data = pd.read_csv('ComputerSmartDevice_for_ml.csv')"
   ]
  },
  {
   "cell_type": "code",
   "execution_count": 3,
   "metadata": {},
   "outputs": [
    {
     "data": {
      "text/html": [
       "<div>\n",
       "<style scoped>\n",
       "    .dataframe tbody tr th:only-of-type {\n",
       "        vertical-align: middle;\n",
       "    }\n",
       "\n",
       "    .dataframe tbody tr th {\n",
       "        vertical-align: top;\n",
       "    }\n",
       "\n",
       "    .dataframe thead th {\n",
       "        text-align: right;\n",
       "    }\n",
       "</style>\n",
       "<table border=\"1\" class=\"dataframe\">\n",
       "  <thead>\n",
       "    <tr style=\"text-align: right;\">\n",
       "      <th></th>\n",
       "      <th>survey_timestamp</th>\n",
       "      <th>participant_class</th>\n",
       "      <th>college</th>\n",
       "      <th>department</th>\n",
       "      <th>Gender</th>\n",
       "      <th>race</th>\n",
       "      <th>computer_user_type</th>\n",
       "      <th>pc/laptop</th>\n",
       "      <th>purchase_year</th>\n",
       "      <th>screen_size</th>\n",
       "      <th>screen_size_other</th>\n",
       "      <th>warranty</th>\n",
       "      <th>webcam</th>\n",
       "      <th>computer_rating</th>\n",
       "      <th>computer_model</th>\n",
       "      <th>computer_ownership</th>\n",
       "      <th>os</th>\n",
       "      <th>os_version</th>\n",
       "      <th>processor</th>\n",
       "      <th>memory</th>\n",
       "      <th>harddisk</th>\n",
       "      <th>data_sizein_computer</th>\n",
       "      <th>data_backup</th>\n",
       "      <th>backup_method</th>\n",
       "      <th>external_backup_disk_brand</th>\n",
       "      <th>cloud_brand</th>\n",
       "      <th>backup_freq</th>\n",
       "      <th>automatic_backup</th>\n",
       "      <th>loss_of_data</th>\n",
       "      <th>have-secondary_computer</th>\n",
       "      <th>secondary_primary_sync</th>\n",
       "      <th>have_smartphone</th>\n",
       "      <th>smartphone_brand</th>\n",
       "      <th>smartphone_model</th>\n",
       "      <th>have_smartwatch</th>\n",
       "      <th>smartwatch_brand</th>\n",
       "      <th>smartwatch_model</th>\n",
       "      <th>confidence_level_on_sw_installation</th>\n",
       "      <th>internet_speed</th>\n",
       "      <th>internet_connection_reliability</th>\n",
       "      <th>Completion_status</th>\n",
       "    </tr>\n",
       "  </thead>\n",
       "  <tbody>\n",
       "    <tr>\n",
       "      <th>0</th>\n",
       "      <td>[not completed]</td>\n",
       "      <td>Senior</td>\n",
       "      <td>NaN</td>\n",
       "      <td>Computer Science</td>\n",
       "      <td>Male</td>\n",
       "      <td>African American</td>\n",
       "      <td>NaN</td>\n",
       "      <td>NaN</td>\n",
       "      <td>NaN</td>\n",
       "      <td>NaN</td>\n",
       "      <td>NaN</td>\n",
       "      <td>NaN</td>\n",
       "      <td>NaN</td>\n",
       "      <td>NaN</td>\n",
       "      <td>NaN</td>\n",
       "      <td>NaN</td>\n",
       "      <td>NaN</td>\n",
       "      <td>NaN</td>\n",
       "      <td>NaN</td>\n",
       "      <td>NaN</td>\n",
       "      <td>NaN</td>\n",
       "      <td>NaN</td>\n",
       "      <td>NaN</td>\n",
       "      <td>NaN</td>\n",
       "      <td>NaN</td>\n",
       "      <td>NaN</td>\n",
       "      <td>NaN</td>\n",
       "      <td>NaN</td>\n",
       "      <td>NaN</td>\n",
       "      <td>NaN</td>\n",
       "      <td>NaN</td>\n",
       "      <td>NaN</td>\n",
       "      <td>NaN</td>\n",
       "      <td>NaN</td>\n",
       "      <td>NaN</td>\n",
       "      <td>NaN</td>\n",
       "      <td>NaN</td>\n",
       "      <td>NaN</td>\n",
       "      <td>NaN</td>\n",
       "      <td>NaN</td>\n",
       "      <td>Incomplete</td>\n",
       "    </tr>\n",
       "    <tr>\n",
       "      <th>1</th>\n",
       "      <td>[not completed]</td>\n",
       "      <td>Freshman</td>\n",
       "      <td>NaN</td>\n",
       "      <td>Chemistry</td>\n",
       "      <td>Male</td>\n",
       "      <td>African American</td>\n",
       "      <td>NaN</td>\n",
       "      <td>Laptop</td>\n",
       "      <td>NaN</td>\n",
       "      <td>14''</td>\n",
       "      <td>NaN</td>\n",
       "      <td>3 year</td>\n",
       "      <td>External</td>\n",
       "      <td>Good</td>\n",
       "      <td>NaN</td>\n",
       "      <td>University property</td>\n",
       "      <td>Windows OS</td>\n",
       "      <td>NaN</td>\n",
       "      <td>NaN</td>\n",
       "      <td>16 GB</td>\n",
       "      <td>1 TB</td>\n",
       "      <td>NaN</td>\n",
       "      <td>Yes</td>\n",
       "      <td>Both</td>\n",
       "      <td>WD</td>\n",
       "      <td>Google Drive</td>\n",
       "      <td>Weekly</td>\n",
       "      <td>Yes</td>\n",
       "      <td>No</td>\n",
       "      <td>Yes</td>\n",
       "      <td>No</td>\n",
       "      <td>NaN</td>\n",
       "      <td>Google</td>\n",
       "      <td>NaN</td>\n",
       "      <td>NaN</td>\n",
       "      <td>Fitbit</td>\n",
       "      <td>NaN</td>\n",
       "      <td>NaN</td>\n",
       "      <td>NaN</td>\n",
       "      <td>NaN</td>\n",
       "      <td>Incomplete</td>\n",
       "    </tr>\n",
       "    <tr>\n",
       "      <th>2</th>\n",
       "      <td>6/15/2020 17:36</td>\n",
       "      <td>Doctoral Student (PhD)</td>\n",
       "      <td>NaN</td>\n",
       "      <td>Computer Science</td>\n",
       "      <td>Male</td>\n",
       "      <td>International (visa holders)</td>\n",
       "      <td>NaN</td>\n",
       "      <td>Laptop</td>\n",
       "      <td>NaN</td>\n",
       "      <td>14''</td>\n",
       "      <td>NaN</td>\n",
       "      <td>1 year</td>\n",
       "      <td>Built-in to my computer</td>\n",
       "      <td>Good</td>\n",
       "      <td>NaN</td>\n",
       "      <td>University property</td>\n",
       "      <td>Chrome OS</td>\n",
       "      <td>NaN</td>\n",
       "      <td>NaN</td>\n",
       "      <td>16 GB</td>\n",
       "      <td>512 GB</td>\n",
       "      <td>NaN</td>\n",
       "      <td>Yes</td>\n",
       "      <td>Both</td>\n",
       "      <td>WD</td>\n",
       "      <td>Google Drive</td>\n",
       "      <td>Daily</td>\n",
       "      <td>Yes</td>\n",
       "      <td>No</td>\n",
       "      <td>Yes</td>\n",
       "      <td>No</td>\n",
       "      <td>NaN</td>\n",
       "      <td>Samsung</td>\n",
       "      <td>NaN</td>\n",
       "      <td>NaN</td>\n",
       "      <td>Samsung</td>\n",
       "      <td>NaN</td>\n",
       "      <td>Neutral</td>\n",
       "      <td>NaN</td>\n",
       "      <td>Average</td>\n",
       "      <td>Complete</td>\n",
       "    </tr>\n",
       "    <tr>\n",
       "      <th>3</th>\n",
       "      <td>6/16/2020 8:34</td>\n",
       "      <td>Freshman</td>\n",
       "      <td>NaN</td>\n",
       "      <td>Biology and Biochemistry</td>\n",
       "      <td>Male</td>\n",
       "      <td>White</td>\n",
       "      <td>NaN</td>\n",
       "      <td>Laptop</td>\n",
       "      <td>NaN</td>\n",
       "      <td>15''</td>\n",
       "      <td>NaN</td>\n",
       "      <td>3 year</td>\n",
       "      <td>Built-in to my computer</td>\n",
       "      <td>Average</td>\n",
       "      <td>NaN</td>\n",
       "      <td>University property</td>\n",
       "      <td>Mac OS</td>\n",
       "      <td>NaN</td>\n",
       "      <td>NaN</td>\n",
       "      <td>4 GB</td>\n",
       "      <td>128 GB</td>\n",
       "      <td>NaN</td>\n",
       "      <td>Yes</td>\n",
       "      <td>Cloud</td>\n",
       "      <td>NaN</td>\n",
       "      <td>Microsoft OneDrive</td>\n",
       "      <td>Weekly</td>\n",
       "      <td>Yes</td>\n",
       "      <td>Yes</td>\n",
       "      <td>Yes</td>\n",
       "      <td>Yes</td>\n",
       "      <td>NaN</td>\n",
       "      <td>Samsung</td>\n",
       "      <td>NaN</td>\n",
       "      <td>NaN</td>\n",
       "      <td>Samsung</td>\n",
       "      <td>NaN</td>\n",
       "      <td>Somewhat confident</td>\n",
       "      <td>NaN</td>\n",
       "      <td>Average</td>\n",
       "      <td>Complete</td>\n",
       "    </tr>\n",
       "    <tr>\n",
       "      <th>4</th>\n",
       "      <td>6/16/2020 10:41</td>\n",
       "      <td>Senior</td>\n",
       "      <td>NaN</td>\n",
       "      <td>Computer Science</td>\n",
       "      <td>Male</td>\n",
       "      <td>International (visa holders)</td>\n",
       "      <td>NaN</td>\n",
       "      <td>Laptop</td>\n",
       "      <td>NaN</td>\n",
       "      <td>14''</td>\n",
       "      <td>NaN</td>\n",
       "      <td>1 year</td>\n",
       "      <td>Built-in to my computer</td>\n",
       "      <td>Average</td>\n",
       "      <td>NaN</td>\n",
       "      <td>Own</td>\n",
       "      <td>Windows OS</td>\n",
       "      <td>NaN</td>\n",
       "      <td>NaN</td>\n",
       "      <td>16 GB</td>\n",
       "      <td>512 GB</td>\n",
       "      <td>NaN</td>\n",
       "      <td>Yes</td>\n",
       "      <td>Both</td>\n",
       "      <td>WD</td>\n",
       "      <td>Microsoft OneDrive</td>\n",
       "      <td>Weekly</td>\n",
       "      <td>Yes</td>\n",
       "      <td>Yes</td>\n",
       "      <td>Yes</td>\n",
       "      <td>No</td>\n",
       "      <td>NaN</td>\n",
       "      <td>Google</td>\n",
       "      <td>NaN</td>\n",
       "      <td>NaN</td>\n",
       "      <td>Samsung</td>\n",
       "      <td>NaN</td>\n",
       "      <td>Neutral</td>\n",
       "      <td>NaN</td>\n",
       "      <td>Average</td>\n",
       "      <td>Complete</td>\n",
       "    </tr>\n",
       "  </tbody>\n",
       "</table>\n",
       "</div>"
      ],
      "text/plain": [
       "  survey_timestamp       participant_class college                 department  \\\n",
       "0  [not completed]                  Senior      NaN          Computer Science   \n",
       "1  [not completed]                Freshman      NaN                 Chemistry   \n",
       "2  6/15/2020 17:36  Doctoral Student (PhD)      NaN          Computer Science   \n",
       "3   6/16/2020 8:34                Freshman      NaN  Biology and Biochemistry   \n",
       "4  6/16/2020 10:41                  Senior      NaN          Computer Science   \n",
       "\n",
       "  Gender                          race computer_user_type pc/laptop  \\\n",
       "0   Male              African American                NaN       NaN   \n",
       "1   Male              African American                NaN    Laptop   \n",
       "2   Male  International (visa holders)                NaN    Laptop   \n",
       "3   Male                         White                NaN    Laptop   \n",
       "4   Male  International (visa holders)                NaN    Laptop   \n",
       "\n",
       "   purchase_year screen_size screen_size_other warranty  \\\n",
       "0            NaN         NaN               NaN      NaN   \n",
       "1            NaN        14''               NaN   3 year   \n",
       "2            NaN        14''               NaN   1 year   \n",
       "3            NaN        15''               NaN   3 year   \n",
       "4            NaN        14''               NaN   1 year   \n",
       "\n",
       "                    webcam computer_rating computer_model  \\\n",
       "0                      NaN             NaN            NaN   \n",
       "1                 External            Good            NaN   \n",
       "2  Built-in to my computer            Good            NaN   \n",
       "3  Built-in to my computer         Average            NaN   \n",
       "4  Built-in to my computer         Average            NaN   \n",
       "\n",
       "    computer_ownership          os os_version processor memory harddisk  \\\n",
       "0                  NaN         NaN        NaN       NaN    NaN      NaN   \n",
       "1  University property  Windows OS        NaN       NaN  16 GB     1 TB   \n",
       "2  University property   Chrome OS        NaN       NaN  16 GB   512 GB   \n",
       "3  University property      Mac OS        NaN       NaN   4 GB   128 GB   \n",
       "4                  Own  Windows OS        NaN       NaN  16 GB   512 GB   \n",
       "\n",
       "  data_sizein_computer data_backup backup_method external_backup_disk_brand  \\\n",
       "0                  NaN         NaN           NaN                        NaN   \n",
       "1                  NaN         Yes          Both                         WD   \n",
       "2                  NaN         Yes          Both                         WD   \n",
       "3                  NaN         Yes         Cloud                        NaN   \n",
       "4                  NaN         Yes          Both                         WD   \n",
       "\n",
       "          cloud_brand backup_freq automatic_backup loss_of_data  \\\n",
       "0                 NaN         NaN              NaN          NaN   \n",
       "1        Google Drive      Weekly              Yes           No   \n",
       "2        Google Drive       Daily              Yes           No   \n",
       "3  Microsoft OneDrive      Weekly              Yes          Yes   \n",
       "4  Microsoft OneDrive      Weekly              Yes          Yes   \n",
       "\n",
       "  have-secondary_computer secondary_primary_sync have_smartphone  \\\n",
       "0                     NaN                    NaN             NaN   \n",
       "1                     Yes                     No             NaN   \n",
       "2                     Yes                     No             NaN   \n",
       "3                     Yes                    Yes             NaN   \n",
       "4                     Yes                     No             NaN   \n",
       "\n",
       "  smartphone_brand smartphone_model have_smartwatch smartwatch_brand  \\\n",
       "0              NaN              NaN             NaN              NaN   \n",
       "1           Google              NaN             NaN           Fitbit   \n",
       "2          Samsung              NaN             NaN          Samsung   \n",
       "3          Samsung              NaN             NaN          Samsung   \n",
       "4           Google              NaN             NaN          Samsung   \n",
       "\n",
       "  smartwatch_model confidence_level_on_sw_installation internet_speed  \\\n",
       "0              NaN                                 NaN            NaN   \n",
       "1              NaN                                 NaN            NaN   \n",
       "2              NaN                             Neutral            NaN   \n",
       "3              NaN                  Somewhat confident            NaN   \n",
       "4              NaN                             Neutral            NaN   \n",
       "\n",
       "  internet_connection_reliability Completion_status  \n",
       "0                             NaN        Incomplete  \n",
       "1                             NaN        Incomplete  \n",
       "2                         Average          Complete  \n",
       "3                         Average          Complete  \n",
       "4                         Average          Complete  "
      ]
     },
     "execution_count": 3,
     "metadata": {},
     "output_type": "execute_result"
    }
   ],
   "source": [
    "data.head()"
   ]
  },
  {
   "cell_type": "code",
   "execution_count": 4,
   "metadata": {},
   "outputs": [
    {
     "data": {
      "text/html": [
       "<div>\n",
       "<style scoped>\n",
       "    .dataframe tbody tr th:only-of-type {\n",
       "        vertical-align: middle;\n",
       "    }\n",
       "\n",
       "    .dataframe tbody tr th {\n",
       "        vertical-align: top;\n",
       "    }\n",
       "\n",
       "    .dataframe thead th {\n",
       "        text-align: right;\n",
       "    }\n",
       "</style>\n",
       "<table border=\"1\" class=\"dataframe\">\n",
       "  <thead>\n",
       "    <tr style=\"text-align: right;\">\n",
       "      <th></th>\n",
       "      <th>purchase_year</th>\n",
       "    </tr>\n",
       "  </thead>\n",
       "  <tbody>\n",
       "    <tr>\n",
       "      <th>count</th>\n",
       "      <td>1397.000000</td>\n",
       "    </tr>\n",
       "    <tr>\n",
       "      <th>mean</th>\n",
       "      <td>2017.257695</td>\n",
       "    </tr>\n",
       "    <tr>\n",
       "      <th>std</th>\n",
       "      <td>2.257942</td>\n",
       "    </tr>\n",
       "    <tr>\n",
       "      <th>min</th>\n",
       "      <td>2010.000000</td>\n",
       "    </tr>\n",
       "    <tr>\n",
       "      <th>25%</th>\n",
       "      <td>2016.000000</td>\n",
       "    </tr>\n",
       "    <tr>\n",
       "      <th>50%</th>\n",
       "      <td>2018.000000</td>\n",
       "    </tr>\n",
       "    <tr>\n",
       "      <th>75%</th>\n",
       "      <td>2019.000000</td>\n",
       "    </tr>\n",
       "    <tr>\n",
       "      <th>max</th>\n",
       "      <td>2020.000000</td>\n",
       "    </tr>\n",
       "  </tbody>\n",
       "</table>\n",
       "</div>"
      ],
      "text/plain": [
       "       purchase_year\n",
       "count    1397.000000\n",
       "mean     2017.257695\n",
       "std         2.257942\n",
       "min      2010.000000\n",
       "25%      2016.000000\n",
       "50%      2018.000000\n",
       "75%      2019.000000\n",
       "max      2020.000000"
      ]
     },
     "execution_count": 4,
     "metadata": {},
     "output_type": "execute_result"
    }
   ],
   "source": [
    "data.describe()"
   ]
  },
  {
   "cell_type": "code",
   "execution_count": 5,
   "metadata": {},
   "outputs": [],
   "source": [
    "data_purch_drop = data.drop('purchase_year', axis = 1)"
   ]
  },
  {
   "cell_type": "code",
   "execution_count": 6,
   "metadata": {},
   "outputs": [
    {
     "data": {
      "text/html": [
       "<div>\n",
       "<style scoped>\n",
       "    .dataframe tbody tr th:only-of-type {\n",
       "        vertical-align: middle;\n",
       "    }\n",
       "\n",
       "    .dataframe tbody tr th {\n",
       "        vertical-align: top;\n",
       "    }\n",
       "\n",
       "    .dataframe thead th {\n",
       "        text-align: right;\n",
       "    }\n",
       "</style>\n",
       "<table border=\"1\" class=\"dataframe\">\n",
       "  <thead>\n",
       "    <tr style=\"text-align: right;\">\n",
       "      <th></th>\n",
       "      <th>survey_timestamp</th>\n",
       "      <th>participant_class</th>\n",
       "      <th>college</th>\n",
       "      <th>department</th>\n",
       "      <th>Gender</th>\n",
       "      <th>race</th>\n",
       "      <th>computer_user_type</th>\n",
       "      <th>pc/laptop</th>\n",
       "      <th>screen_size</th>\n",
       "      <th>screen_size_other</th>\n",
       "      <th>warranty</th>\n",
       "      <th>webcam</th>\n",
       "      <th>computer_rating</th>\n",
       "      <th>computer_model</th>\n",
       "      <th>computer_ownership</th>\n",
       "      <th>os</th>\n",
       "      <th>os_version</th>\n",
       "      <th>processor</th>\n",
       "      <th>memory</th>\n",
       "      <th>harddisk</th>\n",
       "      <th>data_sizein_computer</th>\n",
       "      <th>data_backup</th>\n",
       "      <th>backup_method</th>\n",
       "      <th>external_backup_disk_brand</th>\n",
       "      <th>cloud_brand</th>\n",
       "      <th>backup_freq</th>\n",
       "      <th>automatic_backup</th>\n",
       "      <th>loss_of_data</th>\n",
       "      <th>have-secondary_computer</th>\n",
       "      <th>secondary_primary_sync</th>\n",
       "      <th>have_smartphone</th>\n",
       "      <th>smartphone_brand</th>\n",
       "      <th>smartphone_model</th>\n",
       "      <th>have_smartwatch</th>\n",
       "      <th>smartwatch_brand</th>\n",
       "      <th>smartwatch_model</th>\n",
       "      <th>confidence_level_on_sw_installation</th>\n",
       "      <th>internet_speed</th>\n",
       "      <th>internet_connection_reliability</th>\n",
       "      <th>Completion_status</th>\n",
       "    </tr>\n",
       "  </thead>\n",
       "  <tbody>\n",
       "    <tr>\n",
       "      <th>count</th>\n",
       "      <td>1573</td>\n",
       "      <td>1562</td>\n",
       "      <td>1017</td>\n",
       "      <td>1557</td>\n",
       "      <td>1561</td>\n",
       "      <td>1561</td>\n",
       "      <td>1546</td>\n",
       "      <td>1403</td>\n",
       "      <td>1399</td>\n",
       "      <td>164</td>\n",
       "      <td>1398</td>\n",
       "      <td>1397</td>\n",
       "      <td>1399</td>\n",
       "      <td>1396</td>\n",
       "      <td>1400</td>\n",
       "      <td>1359</td>\n",
       "      <td>1354</td>\n",
       "      <td>1107</td>\n",
       "      <td>1105</td>\n",
       "      <td>1102</td>\n",
       "      <td>1101</td>\n",
       "      <td>1073</td>\n",
       "      <td>534</td>\n",
       "      <td>232</td>\n",
       "      <td>405</td>\n",
       "      <td>534</td>\n",
       "      <td>534</td>\n",
       "      <td>1073</td>\n",
       "      <td>1073</td>\n",
       "      <td>468</td>\n",
       "      <td>1059</td>\n",
       "      <td>1050</td>\n",
       "      <td>1047</td>\n",
       "      <td>1059</td>\n",
       "      <td>323</td>\n",
       "      <td>319</td>\n",
       "      <td>1046</td>\n",
       "      <td>1042</td>\n",
       "      <td>1045</td>\n",
       "      <td>1573</td>\n",
       "    </tr>\n",
       "    <tr>\n",
       "      <th>unique</th>\n",
       "      <td>717</td>\n",
       "      <td>17</td>\n",
       "      <td>2</td>\n",
       "      <td>20</td>\n",
       "      <td>5</td>\n",
       "      <td>10</td>\n",
       "      <td>2</td>\n",
       "      <td>3</td>\n",
       "      <td>5</td>\n",
       "      <td>84</td>\n",
       "      <td>8</td>\n",
       "      <td>3</td>\n",
       "      <td>5</td>\n",
       "      <td>11</td>\n",
       "      <td>3</td>\n",
       "      <td>7</td>\n",
       "      <td>29</td>\n",
       "      <td>5</td>\n",
       "      <td>5</td>\n",
       "      <td>5</td>\n",
       "      <td>4</td>\n",
       "      <td>2</td>\n",
       "      <td>3</td>\n",
       "      <td>4</td>\n",
       "      <td>5</td>\n",
       "      <td>4</td>\n",
       "      <td>2</td>\n",
       "      <td>2</td>\n",
       "      <td>2</td>\n",
       "      <td>2</td>\n",
       "      <td>2</td>\n",
       "      <td>4</td>\n",
       "      <td>74</td>\n",
       "      <td>2</td>\n",
       "      <td>4</td>\n",
       "      <td>11</td>\n",
       "      <td>5</td>\n",
       "      <td>4</td>\n",
       "      <td>5</td>\n",
       "      <td>2</td>\n",
       "    </tr>\n",
       "    <tr>\n",
       "      <th>top</th>\n",
       "      <td>[not completed]</td>\n",
       "      <td>Freshman</td>\n",
       "      <td>College of Liberal Arts and Social Sciences</td>\n",
       "      <td>Biology and Biochemistry</td>\n",
       "      <td>Female</td>\n",
       "      <td>White</td>\n",
       "      <td>Standard User [document writing/email/web]</td>\n",
       "      <td>Laptop</td>\n",
       "      <td>13''</td>\n",
       "      <td>11\"</td>\n",
       "      <td>No</td>\n",
       "      <td>Built-in to my computer</td>\n",
       "      <td>Good</td>\n",
       "      <td>Other</td>\n",
       "      <td>Own</td>\n",
       "      <td>Windows OS</td>\n",
       "      <td>Windows 10 Home</td>\n",
       "      <td>Intel Core i5</td>\n",
       "      <td>8 GB</td>\n",
       "      <td>128 GB</td>\n",
       "      <td>100 GB - 500 GB</td>\n",
       "      <td>No</td>\n",
       "      <td>Cloud</td>\n",
       "      <td>WD</td>\n",
       "      <td>Apple iCloud</td>\n",
       "      <td>Daily</td>\n",
       "      <td>Yes</td>\n",
       "      <td>No</td>\n",
       "      <td>No</td>\n",
       "      <td>No</td>\n",
       "      <td>Yes</td>\n",
       "      <td>iPhone</td>\n",
       "      <td>iPhone X Series</td>\n",
       "      <td>No</td>\n",
       "      <td>Apple Watch</td>\n",
       "      <td>Apple Watch 3</td>\n",
       "      <td>Moderately confident</td>\n",
       "      <td>100 - 300 Mbps</td>\n",
       "      <td>Good</td>\n",
       "      <td>Complete</td>\n",
       "    </tr>\n",
       "    <tr>\n",
       "      <th>freq</th>\n",
       "      <td>530</td>\n",
       "      <td>361</td>\n",
       "      <td>851</td>\n",
       "      <td>318</td>\n",
       "      <td>1018</td>\n",
       "      <td>436</td>\n",
       "      <td>1272</td>\n",
       "      <td>1190</td>\n",
       "      <td>592</td>\n",
       "      <td>14</td>\n",
       "      <td>988</td>\n",
       "      <td>1198</td>\n",
       "      <td>530</td>\n",
       "      <td>557</td>\n",
       "      <td>1269</td>\n",
       "      <td>680</td>\n",
       "      <td>545</td>\n",
       "      <td>425</td>\n",
       "      <td>435</td>\n",
       "      <td>392</td>\n",
       "      <td>556</td>\n",
       "      <td>539</td>\n",
       "      <td>295</td>\n",
       "      <td>81</td>\n",
       "      <td>159</td>\n",
       "      <td>151</td>\n",
       "      <td>303</td>\n",
       "      <td>918</td>\n",
       "      <td>605</td>\n",
       "      <td>314</td>\n",
       "      <td>1047</td>\n",
       "      <td>770</td>\n",
       "      <td>249</td>\n",
       "      <td>740</td>\n",
       "      <td>245</td>\n",
       "      <td>119</td>\n",
       "      <td>260</td>\n",
       "      <td>369</td>\n",
       "      <td>381</td>\n",
       "      <td>1043</td>\n",
       "    </tr>\n",
       "  </tbody>\n",
       "</table>\n",
       "</div>"
      ],
      "text/plain": [
       "       survey_timestamp participant_class  \\\n",
       "count              1573              1562   \n",
       "unique              717                17   \n",
       "top     [not completed]          Freshman   \n",
       "freq                530               361   \n",
       "\n",
       "                                           college                 department  \\\n",
       "count                                          1017                      1557   \n",
       "unique                                            2                        20   \n",
       "top     College of Liberal Arts and Social Sciences  Biology and Biochemistry   \n",
       "freq                                            851                       318   \n",
       "\n",
       "        Gender   race                          computer_user_type pc/laptop  \\\n",
       "count     1561   1561                                        1546      1403   \n",
       "unique       5     10                                           2         3   \n",
       "top     Female  White  Standard User [document writing/email/web]    Laptop   \n",
       "freq      1018    436                                        1272      1190   \n",
       "\n",
       "       screen_size screen_size_other warranty                   webcam  \\\n",
       "count         1399               164     1398                     1397   \n",
       "unique           5                84        8                        3   \n",
       "top           13''               11\"       No  Built-in to my computer   \n",
       "freq           592                14      988                     1198   \n",
       "\n",
       "       computer_rating computer_model computer_ownership          os  \\\n",
       "count             1399           1396               1400        1359   \n",
       "unique               5             11                  3           7   \n",
       "top               Good          Other                Own  Windows OS   \n",
       "freq               530            557               1269         680   \n",
       "\n",
       "             os_version      processor memory harddisk data_sizein_computer  \\\n",
       "count              1354           1107   1105     1102                 1101   \n",
       "unique               29              5      5        5                    4   \n",
       "top     Windows 10 Home  Intel Core i5   8 GB   128 GB      100 GB - 500 GB   \n",
       "freq                545            425    435      392                  556   \n",
       "\n",
       "       data_backup backup_method external_backup_disk_brand   cloud_brand  \\\n",
       "count         1073           534                        232           405   \n",
       "unique           2             3                          4             5   \n",
       "top             No         Cloud                         WD  Apple iCloud   \n",
       "freq           539           295                         81           159   \n",
       "\n",
       "       backup_freq automatic_backup loss_of_data have-secondary_computer  \\\n",
       "count          534              534         1073                    1073   \n",
       "unique           4                2            2                       2   \n",
       "top          Daily              Yes           No                      No   \n",
       "freq           151              303          918                     605   \n",
       "\n",
       "       secondary_primary_sync have_smartphone smartphone_brand  \\\n",
       "count                     468            1059             1050   \n",
       "unique                      2               2                4   \n",
       "top                        No             Yes           iPhone   \n",
       "freq                      314            1047              770   \n",
       "\n",
       "       smartphone_model have_smartwatch smartwatch_brand smartwatch_model  \\\n",
       "count              1047            1059              323              319   \n",
       "unique               74               2                4               11   \n",
       "top     iPhone X Series              No      Apple Watch    Apple Watch 3   \n",
       "freq                249             740              245              119   \n",
       "\n",
       "       confidence_level_on_sw_installation  internet_speed  \\\n",
       "count                                 1046            1042   \n",
       "unique                                   5               4   \n",
       "top                   Moderately confident  100 - 300 Mbps   \n",
       "freq                                   260             369   \n",
       "\n",
       "       internet_connection_reliability Completion_status  \n",
       "count                             1045              1573  \n",
       "unique                               5                 2  \n",
       "top                               Good          Complete  \n",
       "freq                               381              1043  "
      ]
     },
     "execution_count": 6,
     "metadata": {},
     "output_type": "execute_result"
    }
   ],
   "source": [
    "data_purch_drop.describe()"
   ]
  },
  {
   "cell_type": "markdown",
   "metadata": {},
   "source": [
    "# Dropping null values"
   ]
  },
  {
   "cell_type": "code",
   "execution_count": 7,
   "metadata": {},
   "outputs": [],
   "source": [
    "data_1 = data_purch_drop.dropna(subset= ['participant_class'])\n",
    "#'department', 'race','computer_user_type', 'computer_model','computer_ownership', 'os', 'os_version', 'processor', 'memory','harddisk'"
   ]
  },
  {
   "cell_type": "code",
   "execution_count": 8,
   "metadata": {},
   "outputs": [],
   "source": [
    "data_1 = data_1.dropna(subset= ['department'])"
   ]
  },
  {
   "cell_type": "code",
   "execution_count": 9,
   "metadata": {},
   "outputs": [],
   "source": [
    "data_1 = data_1.dropna(subset= ['race'])"
   ]
  },
  {
   "cell_type": "code",
   "execution_count": 10,
   "metadata": {},
   "outputs": [],
   "source": [
    "data_1 = data_1.dropna(subset= ['computer_user_type'])"
   ]
  },
  {
   "cell_type": "code",
   "execution_count": 11,
   "metadata": {},
   "outputs": [],
   "source": [
    "data_1 = data_1.dropna(subset= ['computer_model'])"
   ]
  },
  {
   "cell_type": "code",
   "execution_count": 12,
   "metadata": {},
   "outputs": [],
   "source": [
    "data_1 = data_1.dropna(subset= ['computer_ownership'])"
   ]
  },
  {
   "cell_type": "code",
   "execution_count": 13,
   "metadata": {},
   "outputs": [],
   "source": [
    "data_1 = data_1.dropna(subset= ['os'])"
   ]
  },
  {
   "cell_type": "code",
   "execution_count": 14,
   "metadata": {},
   "outputs": [],
   "source": [
    "data_1 = data_1.dropna(subset= ['os_version'])"
   ]
  },
  {
   "cell_type": "code",
   "execution_count": 15,
   "metadata": {},
   "outputs": [],
   "source": [
    "data_1 = data_1.dropna(subset= ['processor'])"
   ]
  },
  {
   "cell_type": "code",
   "execution_count": 16,
   "metadata": {},
   "outputs": [],
   "source": [
    "data_1 = data_1.dropna(subset= ['memory'])"
   ]
  },
  {
   "cell_type": "code",
   "execution_count": 17,
   "metadata": {},
   "outputs": [],
   "source": [
    "data_1 = data_1.dropna(subset= ['harddisk'])"
   ]
  },
  {
   "cell_type": "code",
   "execution_count": 18,
   "metadata": {},
   "outputs": [
    {
     "data": {
      "text/html": [
       "<div>\n",
       "<style scoped>\n",
       "    .dataframe tbody tr th:only-of-type {\n",
       "        vertical-align: middle;\n",
       "    }\n",
       "\n",
       "    .dataframe tbody tr th {\n",
       "        vertical-align: top;\n",
       "    }\n",
       "\n",
       "    .dataframe thead th {\n",
       "        text-align: right;\n",
       "    }\n",
       "</style>\n",
       "<table border=\"1\" class=\"dataframe\">\n",
       "  <thead>\n",
       "    <tr style=\"text-align: right;\">\n",
       "      <th></th>\n",
       "      <th>survey_timestamp</th>\n",
       "      <th>participant_class</th>\n",
       "      <th>college</th>\n",
       "      <th>department</th>\n",
       "      <th>Gender</th>\n",
       "      <th>race</th>\n",
       "      <th>computer_user_type</th>\n",
       "      <th>pc/laptop</th>\n",
       "      <th>screen_size</th>\n",
       "      <th>screen_size_other</th>\n",
       "      <th>warranty</th>\n",
       "      <th>webcam</th>\n",
       "      <th>computer_rating</th>\n",
       "      <th>computer_model</th>\n",
       "      <th>computer_ownership</th>\n",
       "      <th>os</th>\n",
       "      <th>os_version</th>\n",
       "      <th>processor</th>\n",
       "      <th>memory</th>\n",
       "      <th>harddisk</th>\n",
       "      <th>data_sizein_computer</th>\n",
       "      <th>data_backup</th>\n",
       "      <th>backup_method</th>\n",
       "      <th>external_backup_disk_brand</th>\n",
       "      <th>cloud_brand</th>\n",
       "      <th>backup_freq</th>\n",
       "      <th>automatic_backup</th>\n",
       "      <th>loss_of_data</th>\n",
       "      <th>have-secondary_computer</th>\n",
       "      <th>secondary_primary_sync</th>\n",
       "      <th>have_smartphone</th>\n",
       "      <th>smartphone_brand</th>\n",
       "      <th>smartphone_model</th>\n",
       "      <th>have_smartwatch</th>\n",
       "      <th>smartwatch_brand</th>\n",
       "      <th>smartwatch_model</th>\n",
       "      <th>confidence_level_on_sw_installation</th>\n",
       "      <th>internet_speed</th>\n",
       "      <th>internet_connection_reliability</th>\n",
       "      <th>Completion_status</th>\n",
       "    </tr>\n",
       "  </thead>\n",
       "  <tbody>\n",
       "    <tr>\n",
       "      <th>count</th>\n",
       "      <td>1088</td>\n",
       "      <td>1088</td>\n",
       "      <td>717</td>\n",
       "      <td>1088</td>\n",
       "      <td>1088</td>\n",
       "      <td>1088</td>\n",
       "      <td>1088</td>\n",
       "      <td>1088</td>\n",
       "      <td>1088</td>\n",
       "      <td>132</td>\n",
       "      <td>1088</td>\n",
       "      <td>1088</td>\n",
       "      <td>1088</td>\n",
       "      <td>1088</td>\n",
       "      <td>1088</td>\n",
       "      <td>1088</td>\n",
       "      <td>1088</td>\n",
       "      <td>1088</td>\n",
       "      <td>1088</td>\n",
       "      <td>1088</td>\n",
       "      <td>1088</td>\n",
       "      <td>1061</td>\n",
       "      <td>524</td>\n",
       "      <td>224</td>\n",
       "      <td>396</td>\n",
       "      <td>524</td>\n",
       "      <td>524</td>\n",
       "      <td>1061</td>\n",
       "      <td>1061</td>\n",
       "      <td>460</td>\n",
       "      <td>1051</td>\n",
       "      <td>1040</td>\n",
       "      <td>1041</td>\n",
       "      <td>1051</td>\n",
       "      <td>315</td>\n",
       "      <td>315</td>\n",
       "      <td>1036</td>\n",
       "      <td>1035</td>\n",
       "      <td>1035</td>\n",
       "      <td>1088</td>\n",
       "    </tr>\n",
       "    <tr>\n",
       "      <th>unique</th>\n",
       "      <td>707</td>\n",
       "      <td>16</td>\n",
       "      <td>2</td>\n",
       "      <td>20</td>\n",
       "      <td>5</td>\n",
       "      <td>10</td>\n",
       "      <td>2</td>\n",
       "      <td>3</td>\n",
       "      <td>5</td>\n",
       "      <td>70</td>\n",
       "      <td>8</td>\n",
       "      <td>3</td>\n",
       "      <td>5</td>\n",
       "      <td>11</td>\n",
       "      <td>3</td>\n",
       "      <td>7</td>\n",
       "      <td>25</td>\n",
       "      <td>5</td>\n",
       "      <td>5</td>\n",
       "      <td>5</td>\n",
       "      <td>4</td>\n",
       "      <td>2</td>\n",
       "      <td>3</td>\n",
       "      <td>4</td>\n",
       "      <td>5</td>\n",
       "      <td>4</td>\n",
       "      <td>2</td>\n",
       "      <td>2</td>\n",
       "      <td>2</td>\n",
       "      <td>2</td>\n",
       "      <td>2</td>\n",
       "      <td>4</td>\n",
       "      <td>74</td>\n",
       "      <td>2</td>\n",
       "      <td>4</td>\n",
       "      <td>11</td>\n",
       "      <td>5</td>\n",
       "      <td>4</td>\n",
       "      <td>5</td>\n",
       "      <td>2</td>\n",
       "    </tr>\n",
       "    <tr>\n",
       "      <th>top</th>\n",
       "      <td>[not completed]</td>\n",
       "      <td>Senior</td>\n",
       "      <td>College of Liberal Arts and Social Sciences</td>\n",
       "      <td>Biology and Biochemistry</td>\n",
       "      <td>Female</td>\n",
       "      <td>White</td>\n",
       "      <td>Standard User [document writing/email/web]</td>\n",
       "      <td>Laptop</td>\n",
       "      <td>13''</td>\n",
       "      <td>27\"</td>\n",
       "      <td>No</td>\n",
       "      <td>Built-in to my computer</td>\n",
       "      <td>Good</td>\n",
       "      <td>Other</td>\n",
       "      <td>Own</td>\n",
       "      <td>Windows OS</td>\n",
       "      <td>Windows 10 Home</td>\n",
       "      <td>Intel Core i5</td>\n",
       "      <td>8 GB</td>\n",
       "      <td>128 GB</td>\n",
       "      <td>100 GB - 500 GB</td>\n",
       "      <td>No</td>\n",
       "      <td>Cloud</td>\n",
       "      <td>Seagate</td>\n",
       "      <td>Apple iCloud</td>\n",
       "      <td>Daily</td>\n",
       "      <td>Yes</td>\n",
       "      <td>No</td>\n",
       "      <td>No</td>\n",
       "      <td>No</td>\n",
       "      <td>Yes</td>\n",
       "      <td>iPhone</td>\n",
       "      <td>iPhone X Series</td>\n",
       "      <td>No</td>\n",
       "      <td>Apple Watch</td>\n",
       "      <td>Apple Watch 3</td>\n",
       "      <td>Moderately confident</td>\n",
       "      <td>100 - 300 Mbps</td>\n",
       "      <td>Good</td>\n",
       "      <td>Complete</td>\n",
       "    </tr>\n",
       "    <tr>\n",
       "      <th>freq</th>\n",
       "      <td>55</td>\n",
       "      <td>247</td>\n",
       "      <td>586</td>\n",
       "      <td>209</td>\n",
       "      <td>670</td>\n",
       "      <td>324</td>\n",
       "      <td>853</td>\n",
       "      <td>920</td>\n",
       "      <td>469</td>\n",
       "      <td>10</td>\n",
       "      <td>762</td>\n",
       "      <td>934</td>\n",
       "      <td>413</td>\n",
       "      <td>442</td>\n",
       "      <td>978</td>\n",
       "      <td>556</td>\n",
       "      <td>441</td>\n",
       "      <td>421</td>\n",
       "      <td>432</td>\n",
       "      <td>390</td>\n",
       "      <td>547</td>\n",
       "      <td>537</td>\n",
       "      <td>293</td>\n",
       "      <td>75</td>\n",
       "      <td>159</td>\n",
       "      <td>148</td>\n",
       "      <td>294</td>\n",
       "      <td>909</td>\n",
       "      <td>601</td>\n",
       "      <td>307</td>\n",
       "      <td>1041</td>\n",
       "      <td>767</td>\n",
       "      <td>249</td>\n",
       "      <td>736</td>\n",
       "      <td>243</td>\n",
       "      <td>119</td>\n",
       "      <td>260</td>\n",
       "      <td>366</td>\n",
       "      <td>379</td>\n",
       "      <td>1033</td>\n",
       "    </tr>\n",
       "  </tbody>\n",
       "</table>\n",
       "</div>"
      ],
      "text/plain": [
       "       survey_timestamp participant_class  \\\n",
       "count              1088              1088   \n",
       "unique              707                16   \n",
       "top     [not completed]            Senior   \n",
       "freq                 55               247   \n",
       "\n",
       "                                           college                 department  \\\n",
       "count                                           717                      1088   \n",
       "unique                                            2                        20   \n",
       "top     College of Liberal Arts and Social Sciences  Biology and Biochemistry   \n",
       "freq                                            586                       209   \n",
       "\n",
       "        Gender   race                          computer_user_type pc/laptop  \\\n",
       "count     1088   1088                                        1088      1088   \n",
       "unique       5     10                                           2         3   \n",
       "top     Female  White  Standard User [document writing/email/web]    Laptop   \n",
       "freq       670    324                                         853       920   \n",
       "\n",
       "       screen_size screen_size_other warranty                   webcam  \\\n",
       "count         1088               132     1088                     1088   \n",
       "unique           5                70        8                        3   \n",
       "top           13''               27\"       No  Built-in to my computer   \n",
       "freq           469                10      762                      934   \n",
       "\n",
       "       computer_rating computer_model computer_ownership          os  \\\n",
       "count             1088           1088               1088        1088   \n",
       "unique               5             11                  3           7   \n",
       "top               Good          Other                Own  Windows OS   \n",
       "freq               413            442                978         556   \n",
       "\n",
       "             os_version      processor memory harddisk data_sizein_computer  \\\n",
       "count              1088           1088   1088     1088                 1088   \n",
       "unique               25              5      5        5                    4   \n",
       "top     Windows 10 Home  Intel Core i5   8 GB   128 GB      100 GB - 500 GB   \n",
       "freq                441            421    432      390                  547   \n",
       "\n",
       "       data_backup backup_method external_backup_disk_brand   cloud_brand  \\\n",
       "count         1061           524                        224           396   \n",
       "unique           2             3                          4             5   \n",
       "top             No         Cloud                    Seagate  Apple iCloud   \n",
       "freq           537           293                         75           159   \n",
       "\n",
       "       backup_freq automatic_backup loss_of_data have-secondary_computer  \\\n",
       "count          524              524         1061                    1061   \n",
       "unique           4                2            2                       2   \n",
       "top          Daily              Yes           No                      No   \n",
       "freq           148              294          909                     601   \n",
       "\n",
       "       secondary_primary_sync have_smartphone smartphone_brand  \\\n",
       "count                     460            1051             1040   \n",
       "unique                      2               2                4   \n",
       "top                        No             Yes           iPhone   \n",
       "freq                      307            1041              767   \n",
       "\n",
       "       smartphone_model have_smartwatch smartwatch_brand smartwatch_model  \\\n",
       "count              1041            1051              315              315   \n",
       "unique               74               2                4               11   \n",
       "top     iPhone X Series              No      Apple Watch    Apple Watch 3   \n",
       "freq                249             736              243              119   \n",
       "\n",
       "       confidence_level_on_sw_installation  internet_speed  \\\n",
       "count                                 1036            1035   \n",
       "unique                                   5               4   \n",
       "top                   Moderately confident  100 - 300 Mbps   \n",
       "freq                                   260             366   \n",
       "\n",
       "       internet_connection_reliability Completion_status  \n",
       "count                             1035              1088  \n",
       "unique                               5                 2  \n",
       "top                               Good          Complete  \n",
       "freq                               379              1033  "
      ]
     },
     "execution_count": 18,
     "metadata": {},
     "output_type": "execute_result"
    }
   ],
   "source": [
    "data_1.describe()"
   ]
  },
  {
   "cell_type": "code",
   "execution_count": 19,
   "metadata": {},
   "outputs": [
    {
     "data": {
      "text/plain": [
       "survey_timestamp                         0\n",
       "participant_class                        0\n",
       "college                                371\n",
       "department                               0\n",
       "Gender                                   0\n",
       "race                                     0\n",
       "computer_user_type                       0\n",
       "pc/laptop                                0\n",
       "screen_size                              0\n",
       "screen_size_other                      956\n",
       "warranty                                 0\n",
       "webcam                                   0\n",
       "computer_rating                          0\n",
       "computer_model                           0\n",
       "computer_ownership                       0\n",
       "os                                       0\n",
       "os_version                               0\n",
       "processor                                0\n",
       "memory                                   0\n",
       "harddisk                                 0\n",
       "data_sizein_computer                     0\n",
       "data_backup                             27\n",
       "backup_method                          564\n",
       "external_backup_disk_brand             864\n",
       "cloud_brand                            692\n",
       "backup_freq                            564\n",
       "automatic_backup                       564\n",
       "loss_of_data                            27\n",
       "have-secondary_computer                 27\n",
       "secondary_primary_sync                 628\n",
       "have_smartphone                         37\n",
       "smartphone_brand                        48\n",
       "smartphone_model                        47\n",
       "have_smartwatch                         37\n",
       "smartwatch_brand                       773\n",
       "smartwatch_model                       773\n",
       "confidence_level_on_sw_installation     52\n",
       "internet_speed                          53\n",
       "internet_connection_reliability         53\n",
       "Completion_status                        0\n",
       "dtype: int64"
      ]
     },
     "execution_count": 19,
     "metadata": {},
     "output_type": "execute_result"
    }
   ],
   "source": [
    "data_1.isna().sum()"
   ]
  },
  {
   "cell_type": "markdown",
   "metadata": {},
   "source": [
    "# EDA"
   ]
  },
  {
   "cell_type": "code",
   "execution_count": 20,
   "metadata": {},
   "outputs": [
    {
     "data": {
      "text/plain": [
       "race\n",
       "White                           324\n",
       "Hispanic                        283\n",
       "Asian American                  222\n",
       "African American                 94\n",
       "International (visa holders)     60\n",
       "Prefer Not to Say                47\n",
       "Multiracial                      32\n",
       "Other                            23\n",
       "Hawaiian/Pacific Islander         2\n",
       "Native American                   1\n",
       "Name: os, dtype: int64"
      ]
     },
     "execution_count": 20,
     "metadata": {},
     "output_type": "execute_result"
    }
   ],
   "source": [
    "data_1.groupby('race').os.count().sort_values(ascending = False)"
   ]
  },
  {
   "cell_type": "code",
   "execution_count": 21,
   "metadata": {},
   "outputs": [
    {
     "data": {
      "text/plain": [
       "array(['Mac OS', 'Windows OS', 'Linux', 'Chrome OS', 'Other',\n",
       "       'Windows OS, Linux', 'Mac OS, Windows OS, Linux'], dtype=object)"
      ]
     },
     "execution_count": 21,
     "metadata": {},
     "output_type": "execute_result"
    }
   ],
   "source": [
    "data_1.os.value_counts()\n",
    "labels=data_1.os.unique()\n",
    "labels"
   ]
  },
  {
   "cell_type": "code",
   "execution_count": 22,
   "metadata": {},
   "outputs": [
    {
     "data": {
      "image/png": "[encoded data removed]",
      "text/plain": [
       "<Figure size 720x720 with 1 Axes>"
      ]
     },
     "metadata": {},
     "output_type": "display_data"
    }
   ],
   "source": [
    "plt.figure(figsize=(10,10))\n",
    "data_1.os.value_counts().plot(kind = 'pie')\n",
    "plt.title('Pie Chart of OS count')\n",
    "plt.show()"
   ]
  },
  {
   "cell_type": "code",
   "execution_count": 23,
   "metadata": {},
   "outputs": [
    {
     "name": "stdout",
     "output_type": "stream",
     "text": [
      "race                          os                       \n",
      "African American              Windows OS                    45\n",
      "                              Mac OS                        44\n",
      "                              Chrome OS                      5\n",
      "Asian American                Windows OS                   133\n",
      "                              Mac OS                        73\n",
      "                              Chrome OS                     13\n",
      "                              Linux                          2\n",
      "                              Windows OS, Linux              1\n",
      "Hawaiian/Pacific Islander     Chrome OS                      1\n",
      "                              Windows OS                     1\n",
      "Hispanic                      Windows OS                   132\n",
      "                              Mac OS                       119\n",
      "                              Chrome OS                     25\n",
      "                              Other                          6\n",
      "                              Windows OS, Linux              1\n",
      "International (visa holders)  Windows OS                    33\n",
      "                              Mac OS                        24\n",
      "                              Linux                          2\n",
      "                              Chrome OS                      1\n",
      "Multiracial                   Windows OS                    19\n",
      "                              Mac OS                         8\n",
      "                              Chrome OS                      4\n",
      "                              Windows OS, Linux              1\n",
      "Native American               Mac OS, Windows OS, Linux      1\n",
      "Other                         Mac OS                        12\n",
      "                              Windows OS                     9\n",
      "                              Chrome OS                      1\n",
      "                              Linux                          1\n",
      "Prefer Not to Say             Windows OS                    25\n",
      "                              Mac OS                        18\n",
      "                              Chrome OS                      3\n",
      "                              Other                          1\n",
      "White                         Windows OS                   159\n",
      "                              Mac OS                       144\n",
      "                              Chrome OS                     10\n",
      "                              Linux                          8\n",
      "                              Other                          2\n",
      "                              Windows OS, Linux              1\n",
      "Name: os, dtype: int64\n"
     ]
    }
   ],
   "source": [
    "race_os = data_1.groupby('race').os.value_counts()\n",
    "print(race_os)"
   ]
  },
  {
   "cell_type": "code",
   "execution_count": 24,
   "metadata": {},
   "outputs": [],
   "source": [
    "df = data_1[data_1.os == 'Mac OS'].reset_index()\n",
    "df.drop('index', inplace= True, axis= 1)"
   ]
  },
  {
   "cell_type": "code",
   "execution_count": 25,
   "metadata": {},
   "outputs": [
    {
     "name": "stdout",
     "output_type": "stream",
     "text": [
      "race\n",
      "White                           144\n",
      "Hispanic                        119\n",
      "Asian American                   73\n",
      "African American                 44\n",
      "International (visa holders)     24\n",
      "Prefer Not to Say                18\n",
      "Other                            12\n",
      "Multiracial                       8\n",
      "Name: os, dtype: int64\n"
     ]
    },
    {
     "data": {
      "image/png": "[encoded data removed]",
      "text/plain": [
       "<Figure size 504x504 with 1 Axes>"
      ]
     },
     "metadata": {},
     "output_type": "display_data"
    }
   ],
   "source": [
    "race_mac = df.groupby('race').os.count().sort_values(ascending = False)\n",
    "print(race_mac)\n",
    "\n",
    "plt.figure(figsize=(7,7))\n",
    "race_mac.plot.pie()\n",
    "plt.title('Mac user according to race')\n",
    "plt.show()"
   ]
  },
  {
   "cell_type": "code",
   "execution_count": 26,
   "metadata": {},
   "outputs": [
    {
     "data": {
      "text/html": [
       "<div>\n",
       "<style scoped>\n",
       "    .dataframe tbody tr th:only-of-type {\n",
       "        vertical-align: middle;\n",
       "    }\n",
       "\n",
       "    .dataframe tbody tr th {\n",
       "        vertical-align: top;\n",
       "    }\n",
       "\n",
       "    .dataframe thead th {\n",
       "        text-align: right;\n",
       "    }\n",
       "</style>\n",
       "<table border=\"1\" class=\"dataframe\">\n",
       "  <thead>\n",
       "    <tr style=\"text-align: right;\">\n",
       "      <th></th>\n",
       "      <th>survey_timestamp</th>\n",
       "      <th>participant_class</th>\n",
       "      <th>college</th>\n",
       "      <th>department</th>\n",
       "      <th>Gender</th>\n",
       "      <th>race</th>\n",
       "      <th>computer_user_type</th>\n",
       "      <th>pc/laptop</th>\n",
       "      <th>screen_size</th>\n",
       "      <th>screen_size_other</th>\n",
       "      <th>warranty</th>\n",
       "      <th>webcam</th>\n",
       "      <th>computer_rating</th>\n",
       "      <th>computer_model</th>\n",
       "      <th>computer_ownership</th>\n",
       "      <th>os</th>\n",
       "      <th>os_version</th>\n",
       "      <th>processor</th>\n",
       "      <th>memory</th>\n",
       "      <th>harddisk</th>\n",
       "      <th>data_sizein_computer</th>\n",
       "      <th>data_backup</th>\n",
       "      <th>backup_method</th>\n",
       "      <th>external_backup_disk_brand</th>\n",
       "      <th>cloud_brand</th>\n",
       "      <th>backup_freq</th>\n",
       "      <th>automatic_backup</th>\n",
       "      <th>loss_of_data</th>\n",
       "      <th>have-secondary_computer</th>\n",
       "      <th>secondary_primary_sync</th>\n",
       "      <th>have_smartphone</th>\n",
       "      <th>smartphone_brand</th>\n",
       "      <th>smartphone_model</th>\n",
       "      <th>have_smartwatch</th>\n",
       "      <th>smartwatch_brand</th>\n",
       "      <th>smartwatch_model</th>\n",
       "      <th>confidence_level_on_sw_installation</th>\n",
       "      <th>internet_speed</th>\n",
       "      <th>internet_connection_reliability</th>\n",
       "      <th>Completion_status</th>\n",
       "    </tr>\n",
       "  </thead>\n",
       "  <tbody>\n",
       "    <tr>\n",
       "      <th>14</th>\n",
       "      <td>6/18/2020 10:26</td>\n",
       "      <td>Instructional Faculty</td>\n",
       "      <td>NaN</td>\n",
       "      <td>Earth and Atmospheric Sciences</td>\n",
       "      <td>Prefer Not to Say</td>\n",
       "      <td>Prefer Not to Say</td>\n",
       "      <td>Standard User [document writing/email/web]</td>\n",
       "      <td>Desktop</td>\n",
       "      <td>14''</td>\n",
       "      <td>NaN</td>\n",
       "      <td>No</td>\n",
       "      <td>Built-in to my computer</td>\n",
       "      <td>Average</td>\n",
       "      <td>Apple Macbook Pro</td>\n",
       "      <td>Own</td>\n",
       "      <td>Mac OS</td>\n",
       "      <td>High Sierra</td>\n",
       "      <td>Intel Core i5</td>\n",
       "      <td>4 GB</td>\n",
       "      <td>256 GB</td>\n",
       "      <td>100 GB - 500 GB</td>\n",
       "      <td>No</td>\n",
       "      <td>NaN</td>\n",
       "      <td>NaN</td>\n",
       "      <td>NaN</td>\n",
       "      <td>NaN</td>\n",
       "      <td>NaN</td>\n",
       "      <td>No</td>\n",
       "      <td>No</td>\n",
       "      <td>NaN</td>\n",
       "      <td>Yes</td>\n",
       "      <td>iPhone</td>\n",
       "      <td>iPhone 8</td>\n",
       "      <td>No</td>\n",
       "      <td>NaN</td>\n",
       "      <td>NaN</td>\n",
       "      <td>Neutral</td>\n",
       "      <td>100 - 300 Mbps</td>\n",
       "      <td>Average</td>\n",
       "      <td>Complete</td>\n",
       "    </tr>\n",
       "    <tr>\n",
       "      <th>15</th>\n",
       "      <td>6/19/2020 14:42</td>\n",
       "      <td>Senior</td>\n",
       "      <td>NaN</td>\n",
       "      <td>Computer Science</td>\n",
       "      <td>Male</td>\n",
       "      <td>International (visa holders)</td>\n",
       "      <td>Power User [... plus programming/analytics]</td>\n",
       "      <td>Laptop</td>\n",
       "      <td>15''</td>\n",
       "      <td>NaN</td>\n",
       "      <td>No</td>\n",
       "      <td>Built-in to my computer</td>\n",
       "      <td>Average</td>\n",
       "      <td>Dell Inspiron 5000</td>\n",
       "      <td>Own</td>\n",
       "      <td>Windows OS</td>\n",
       "      <td>Windows 10 Home</td>\n",
       "      <td>Intel Core i7</td>\n",
       "      <td>16 GB</td>\n",
       "      <td>512 GB</td>\n",
       "      <td>100 GB - 500 GB</td>\n",
       "      <td>Yes</td>\n",
       "      <td>Both</td>\n",
       "      <td>WD</td>\n",
       "      <td>Google Drive</td>\n",
       "      <td>Weekly</td>\n",
       "      <td>Yes</td>\n",
       "      <td>No</td>\n",
       "      <td>Yes</td>\n",
       "      <td>No</td>\n",
       "      <td>Yes</td>\n",
       "      <td>iPhone</td>\n",
       "      <td>iPhone X Series</td>\n",
       "      <td>Yes</td>\n",
       "      <td>Apple Watch</td>\n",
       "      <td>Apple Watch 4</td>\n",
       "      <td>Neutral</td>\n",
       "      <td>&lt; 100 Mbps</td>\n",
       "      <td>Good</td>\n",
       "      <td>Complete</td>\n",
       "    </tr>\n",
       "    <tr>\n",
       "      <th>16</th>\n",
       "      <td>6/22/2020 12:09</td>\n",
       "      <td>Senior</td>\n",
       "      <td>NaN</td>\n",
       "      <td>Computer Science</td>\n",
       "      <td>Female</td>\n",
       "      <td>International (visa holders)</td>\n",
       "      <td>Power User [... plus programming/analytics]</td>\n",
       "      <td>Laptop</td>\n",
       "      <td>15''</td>\n",
       "      <td>NaN</td>\n",
       "      <td>3 year</td>\n",
       "      <td>Built-in to my computer</td>\n",
       "      <td>Excellent</td>\n",
       "      <td>Other</td>\n",
       "      <td>Own</td>\n",
       "      <td>Windows OS</td>\n",
       "      <td>Windows 10 Home</td>\n",
       "      <td>Intel Core i5</td>\n",
       "      <td>8 GB</td>\n",
       "      <td>256 GB</td>\n",
       "      <td>100 GB - 500 GB</td>\n",
       "      <td>Yes</td>\n",
       "      <td>Cloud</td>\n",
       "      <td>NaN</td>\n",
       "      <td>Microsoft OneDrive</td>\n",
       "      <td>Other</td>\n",
       "      <td>Yes</td>\n",
       "      <td>Yes</td>\n",
       "      <td>Yes</td>\n",
       "      <td>Yes</td>\n",
       "      <td>Yes</td>\n",
       "      <td>iPhone</td>\n",
       "      <td>iPhone X Series</td>\n",
       "      <td>No</td>\n",
       "      <td>NaN</td>\n",
       "      <td>NaN</td>\n",
       "      <td>Moderately confident</td>\n",
       "      <td>300 - 500 Mbps</td>\n",
       "      <td>Excellent</td>\n",
       "      <td>Complete</td>\n",
       "    </tr>\n",
       "    <tr>\n",
       "      <th>17</th>\n",
       "      <td>6/22/2020 12:09</td>\n",
       "      <td>Masters Student (MS)</td>\n",
       "      <td>NaN</td>\n",
       "      <td>Computer Science</td>\n",
       "      <td>Male</td>\n",
       "      <td>International (visa holders)</td>\n",
       "      <td>Power User [... plus programming/analytics]</td>\n",
       "      <td>Laptop</td>\n",
       "      <td>15''</td>\n",
       "      <td>NaN</td>\n",
       "      <td>No</td>\n",
       "      <td>Built-in to my computer</td>\n",
       "      <td>Good</td>\n",
       "      <td>Other</td>\n",
       "      <td>Own</td>\n",
       "      <td>Linux</td>\n",
       "      <td>Other</td>\n",
       "      <td>Intel Core i7</td>\n",
       "      <td>8 GB</td>\n",
       "      <td>&gt; 1 TB</td>\n",
       "      <td>500 GB - 1 TB</td>\n",
       "      <td>No</td>\n",
       "      <td>NaN</td>\n",
       "      <td>NaN</td>\n",
       "      <td>NaN</td>\n",
       "      <td>NaN</td>\n",
       "      <td>NaN</td>\n",
       "      <td>No</td>\n",
       "      <td>No</td>\n",
       "      <td>NaN</td>\n",
       "      <td>Yes</td>\n",
       "      <td>Google</td>\n",
       "      <td>Google Pixel 3a</td>\n",
       "      <td>No</td>\n",
       "      <td>NaN</td>\n",
       "      <td>NaN</td>\n",
       "      <td>Very confident</td>\n",
       "      <td>300 - 500 Mbps</td>\n",
       "      <td>Excellent</td>\n",
       "      <td>Complete</td>\n",
       "    </tr>\n",
       "    <tr>\n",
       "      <th>18</th>\n",
       "      <td>6/22/2020 12:08</td>\n",
       "      <td>Senior</td>\n",
       "      <td>NaN</td>\n",
       "      <td>Biology and Biochemistry</td>\n",
       "      <td>Female</td>\n",
       "      <td>Asian American</td>\n",
       "      <td>Standard User [document writing/email/web]</td>\n",
       "      <td>Laptop</td>\n",
       "      <td>13''</td>\n",
       "      <td>NaN</td>\n",
       "      <td>No</td>\n",
       "      <td>Built-in to my computer</td>\n",
       "      <td>Good</td>\n",
       "      <td>Apple Macbook Air</td>\n",
       "      <td>Own</td>\n",
       "      <td>Mac OS</td>\n",
       "      <td>Catalina</td>\n",
       "      <td>Intel Core i5</td>\n",
       "      <td>8 GB</td>\n",
       "      <td>128 GB</td>\n",
       "      <td>500 GB - 1 TB</td>\n",
       "      <td>No</td>\n",
       "      <td>NaN</td>\n",
       "      <td>NaN</td>\n",
       "      <td>NaN</td>\n",
       "      <td>NaN</td>\n",
       "      <td>NaN</td>\n",
       "      <td>No</td>\n",
       "      <td>No</td>\n",
       "      <td>NaN</td>\n",
       "      <td>Yes</td>\n",
       "      <td>iPhone</td>\n",
       "      <td>iPhone X Series</td>\n",
       "      <td>Yes</td>\n",
       "      <td>Apple Watch</td>\n",
       "      <td>Apple Watch 4</td>\n",
       "      <td>Somewhat confident</td>\n",
       "      <td>100 - 300 Mbps</td>\n",
       "      <td>Average</td>\n",
       "      <td>Complete</td>\n",
       "    </tr>\n",
       "  </tbody>\n",
       "</table>\n",
       "</div>"
      ],
      "text/plain": [
       "   survey_timestamp      participant_class college   \\\n",
       "14  6/18/2020 10:26  Instructional Faculty      NaN   \n",
       "15  6/19/2020 14:42                 Senior      NaN   \n",
       "16  6/22/2020 12:09                 Senior      NaN   \n",
       "17  6/22/2020 12:09   Masters Student (MS)      NaN   \n",
       "18  6/22/2020 12:08                 Senior      NaN   \n",
       "\n",
       "                        department             Gender  \\\n",
       "14  Earth and Atmospheric Sciences  Prefer Not to Say   \n",
       "15                Computer Science               Male   \n",
       "16                Computer Science             Female   \n",
       "17                Computer Science               Male   \n",
       "18        Biology and Biochemistry             Female   \n",
       "\n",
       "                            race                           computer_user_type  \\\n",
       "14             Prefer Not to Say   Standard User [document writing/email/web]   \n",
       "15  International (visa holders)  Power User [... plus programming/analytics]   \n",
       "16  International (visa holders)  Power User [... plus programming/analytics]   \n",
       "17  International (visa holders)  Power User [... plus programming/analytics]   \n",
       "18                Asian American   Standard User [document writing/email/web]   \n",
       "\n",
       "   pc/laptop screen_size screen_size_other warranty                   webcam  \\\n",
       "14   Desktop        14''               NaN       No  Built-in to my computer   \n",
       "15    Laptop        15''               NaN       No  Built-in to my computer   \n",
       "16    Laptop        15''               NaN   3 year  Built-in to my computer   \n",
       "17    Laptop        15''               NaN       No  Built-in to my computer   \n",
       "18    Laptop        13''               NaN       No  Built-in to my computer   \n",
       "\n",
       "   computer_rating      computer_model computer_ownership          os  \\\n",
       "14         Average   Apple Macbook Pro                Own      Mac OS   \n",
       "15         Average  Dell Inspiron 5000                Own  Windows OS   \n",
       "16       Excellent               Other                Own  Windows OS   \n",
       "17            Good               Other                Own       Linux   \n",
       "18            Good   Apple Macbook Air                Own      Mac OS   \n",
       "\n",
       "         os_version      processor memory harddisk data_sizein_computer  \\\n",
       "14      High Sierra  Intel Core i5   4 GB   256 GB      100 GB - 500 GB   \n",
       "15  Windows 10 Home  Intel Core i7  16 GB   512 GB      100 GB - 500 GB   \n",
       "16  Windows 10 Home  Intel Core i5   8 GB   256 GB      100 GB - 500 GB   \n",
       "17            Other  Intel Core i7   8 GB   > 1 TB        500 GB - 1 TB   \n",
       "18         Catalina  Intel Core i5   8 GB   128 GB        500 GB - 1 TB   \n",
       "\n",
       "   data_backup backup_method external_backup_disk_brand         cloud_brand  \\\n",
       "14          No           NaN                        NaN                 NaN   \n",
       "15         Yes          Both                         WD        Google Drive   \n",
       "16         Yes         Cloud                        NaN  Microsoft OneDrive   \n",
       "17          No           NaN                        NaN                 NaN   \n",
       "18          No           NaN                        NaN                 NaN   \n",
       "\n",
       "   backup_freq automatic_backup loss_of_data have-secondary_computer  \\\n",
       "14         NaN              NaN           No                      No   \n",
       "15      Weekly              Yes           No                     Yes   \n",
       "16       Other              Yes          Yes                     Yes   \n",
       "17         NaN              NaN           No                      No   \n",
       "18         NaN              NaN           No                      No   \n",
       "\n",
       "   secondary_primary_sync have_smartphone smartphone_brand smartphone_model  \\\n",
       "14                    NaN             Yes           iPhone         iPhone 8   \n",
       "15                     No             Yes           iPhone  iPhone X Series   \n",
       "16                    Yes             Yes           iPhone  iPhone X Series   \n",
       "17                    NaN             Yes           Google  Google Pixel 3a   \n",
       "18                    NaN             Yes           iPhone  iPhone X Series   \n",
       "\n",
       "   have_smartwatch smartwatch_brand smartwatch_model  \\\n",
       "14              No              NaN              NaN   \n",
       "15             Yes      Apple Watch    Apple Watch 4   \n",
       "16              No              NaN              NaN   \n",
       "17              No              NaN              NaN   \n",
       "18             Yes      Apple Watch    Apple Watch 4   \n",
       "\n",
       "   confidence_level_on_sw_installation  internet_speed  \\\n",
       "14                             Neutral  100 - 300 Mbps   \n",
       "15                             Neutral      < 100 Mbps   \n",
       "16                Moderately confident  300 - 500 Mbps   \n",
       "17                      Very confident  300 - 500 Mbps   \n",
       "18                  Somewhat confident  100 - 300 Mbps   \n",
       "\n",
       "   internet_connection_reliability Completion_status  \n",
       "14                         Average          Complete  \n",
       "15                            Good          Complete  \n",
       "16                       Excellent          Complete  \n",
       "17                       Excellent          Complete  \n",
       "18                         Average          Complete  "
      ]
     },
     "execution_count": 26,
     "metadata": {},
     "output_type": "execute_result"
    }
   ],
   "source": [
    "data_1.head()"
   ]
  },
  {
   "cell_type": "markdown",
   "metadata": {},
   "source": [
    "# Conversion to numeric for each column"
   ]
  },
  {
   "cell_type": "code",
   "execution_count": 27,
   "metadata": {},
   "outputs": [
    {
     "data": {
      "text/plain": [
       "array(['Prefer Not to Say', 'Male', 'Female', 'Transgender',\n",
       "       'Non-binary/non-conforming'], dtype=object)"
      ]
     },
     "execution_count": 27,
     "metadata": {},
     "output_type": "execute_result"
    }
   ],
   "source": [
    "data_1.Gender.unique()"
   ]
  },
  {
   "cell_type": "code",
   "execution_count": 28,
   "metadata": {},
   "outputs": [],
   "source": [
    "data_1['Gender'] = data_1['Gender'].replace(['Non-binary/non-conforming', 'Prefer Not to Say', 'Transgender', 'Male', 'Female'],\n",
    "                                            [1,2,3,4,5])"
   ]
  },
  {
   "cell_type": "code",
   "execution_count": 29,
   "metadata": {},
   "outputs": [
    {
     "data": {
      "text/plain": [
       "array(['Instructional Faculty', 'Senior', 'Masters Student (MS)',\n",
       "       'Doctoral Student (PhD)', 'Sophomore', 'Freshman', 'Junior',\n",
       "       'Post-Baccalaureate (second degree)',\n",
       "       'Post-Baccalaureate (non-degree option)', 'Assistant Professor',\n",
       "       'Staff', 'Associate Professor', 'Postdoctoral', 'Research Faculty',\n",
       "       'Professor', 'Lecturer'], dtype=object)"
      ]
     },
     "execution_count": 29,
     "metadata": {},
     "output_type": "execute_result"
    }
   ],
   "source": [
    "data_1.participant_class.unique()"
   ]
  },
  {
   "cell_type": "code",
   "execution_count": 30,
   "metadata": {},
   "outputs": [],
   "source": [
    "data_1['participant_class'] = data_1['participant_class'].replace(['Freshman', 'Sophomore', 'Junior', 'Senior', 'Post-Baccalaureate (non-degree option)',\n",
    "                                                                   'Post-Baccalaureate (second degree)','Masters Student (MS)', 'Doctoral Student (PhD)',\n",
    "                                                                   'Postdoctoral', 'Staff', 'Instructional Faculty','Research Faculty','Lecturer', \n",
    "                                                                   'Assistant Professor','Associate Professor','Professor'],[1,2,3,4,5,6,7,8,9,10,11,12,13,14,15,16])"
   ]
  },
  {
   "cell_type": "code",
   "execution_count": 31,
   "metadata": {},
   "outputs": [],
   "source": [
    "data_1['department'] = data_1['department'].replace(['Other', 'Earth and Atmospheric Sciences','Computer Science', 'Biology and Biochemistry',\n",
    "                                                     'Chemistry','Mathematics','Physics','Communication Sciences and Disorders',\n",
    "                                                     'English','Health and Human Performance','Economics', 'History','Political Science',\n",
    "                                                     'Psychology','Philosophy', 'Sociology','Hispanic Studies', 'Modern and Classical Languages',\n",
    "                                                     'Comparative Cultural Studies', 'Jack J. Valenti School of Communication',\n",
    "                                                     ],[1,2,3,4,5,6,7,8,9,10,11,12,13,14,15,16,17,18,19,20])"
   ]
  },
  {
   "cell_type": "code",
   "execution_count": 32,
   "metadata": {},
   "outputs": [
    {
     "data": {
      "text/plain": [
       "array(['Prefer Not to Say', 'International (visa holders)',\n",
       "       'Asian American', 'White', 'African American', 'Hispanic',\n",
       "       'Multiracial', 'Other', 'Hawaiian/Pacific Islander',\n",
       "       'Native American'], dtype=object)"
      ]
     },
     "execution_count": 32,
     "metadata": {},
     "output_type": "execute_result"
    }
   ],
   "source": [
    "data_1.race.unique()"
   ]
  },
  {
   "cell_type": "code",
   "execution_count": 33,
   "metadata": {},
   "outputs": [],
   "source": [
    "data_1['race'] = data_1['race'].replace(['International (visa holders)','Asian American', 'White', 'African American', 'Hispanic',\n",
    "                                         'Multiracial', 'Other', 'Hawaiian/Pacific Islander','Native American','Prefer Not to Say'],\n",
    "                                        [1,2,3,4,5,6,7,8,9,10])"
   ]
  },
  {
   "cell_type": "code",
   "execution_count": 34,
   "metadata": {},
   "outputs": [
    {
     "data": {
      "text/plain": [
       "array(['Standard User [document writing/email/web]',\n",
       "       'Power User [... plus programming/analytics]'], dtype=object)"
      ]
     },
     "execution_count": 34,
     "metadata": {},
     "output_type": "execute_result"
    }
   ],
   "source": [
    "data_1.computer_user_type.unique()"
   ]
  },
  {
   "cell_type": "code",
   "execution_count": 35,
   "metadata": {},
   "outputs": [],
   "source": [
    "data_1['computer_user_type'] = data_1['computer_user_type'].replace(['Standard User [document writing/email/web]',\n",
    "                                                                     'Power User [... plus programming/analytics]'],[1,2])"
   ]
  },
  {
   "cell_type": "code",
   "execution_count": 36,
   "metadata": {},
   "outputs": [
    {
     "data": {
      "text/plain": [
       "array(['Desktop', 'Laptop', 'Tablet'], dtype=object)"
      ]
     },
     "execution_count": 36,
     "metadata": {},
     "output_type": "execute_result"
    }
   ],
   "source": [
    "data_1['pc/laptop'].unique()"
   ]
  },
  {
   "cell_type": "code",
   "execution_count": 37,
   "metadata": {},
   "outputs": [],
   "source": [
    "data_1['pc/laptop'] = data_1['pc/laptop'].replace(['Tablet', 'Desktop', 'Laptop'],[1,2,3])"
   ]
  },
  {
   "cell_type": "code",
   "execution_count": 38,
   "metadata": {},
   "outputs": [
    {
     "data": {
      "text/plain": [
       "array([\"14''\", \"15''\", \"13''\", \"17''\", 'Other'], dtype=object)"
      ]
     },
     "execution_count": 38,
     "metadata": {},
     "output_type": "execute_result"
    }
   ],
   "source": [
    "data_1['screen_size'].unique()"
   ]
  },
  {
   "cell_type": "code",
   "execution_count": 39,
   "metadata": {},
   "outputs": [],
   "source": [
    "data_1['screen_size'] = data_1['screen_size'].replace([\"14''\", \"15''\", \"13''\", \"17''\", 'Other'], [14,15,13,17,0])"
   ]
  },
  {
   "cell_type": "code",
   "execution_count": 40,
   "metadata": {},
   "outputs": [
    {
     "data": {
      "text/plain": [
       "array(['Apple Macbook Pro', 'Dell Inspiron 5000', 'Other',\n",
       "       'Apple Macbook Air', 'Dell Latitude 5000', 'Dell Inspiron 7000',\n",
       "       'Microsoft Surface', 'Lenovo ThinkPad', 'Lenovo Yoga',\n",
       "       'Dell Inspiron 3000', 'Dell Latitude 7000'], dtype=object)"
      ]
     },
     "execution_count": 40,
     "metadata": {},
     "output_type": "execute_result"
    }
   ],
   "source": [
    "data_1['computer_model'].unique()"
   ]
  },
  {
   "cell_type": "code",
   "execution_count": 41,
   "metadata": {},
   "outputs": [
    {
     "data": {
      "text/plain": [
       "array(['Own', 'University property', 'Other'], dtype=object)"
      ]
     },
     "execution_count": 41,
     "metadata": {},
     "output_type": "execute_result"
    }
   ],
   "source": [
    "data_1['computer_ownership'].unique()"
   ]
  },
  {
   "cell_type": "code",
   "execution_count": 42,
   "metadata": {},
   "outputs": [],
   "source": [
    "data_1['os'] = data_1.os.str.lower()\n",
    "data_1['os'] = data_1.os.str.strip()"
   ]
  },
  {
   "cell_type": "code",
   "execution_count": 43,
   "metadata": {},
   "outputs": [
    {
     "data": {
      "text/plain": [
       "array(['mac os', 'windows os', 'linux', 'chrome os', 'other',\n",
       "       'windows os, linux', 'mac os, windows os, linux'], dtype=object)"
      ]
     },
     "execution_count": 43,
     "metadata": {},
     "output_type": "execute_result"
    }
   ],
   "source": [
    "data_1['os'].unique()"
   ]
  },
  {
   "cell_type": "code",
   "execution_count": 44,
   "metadata": {},
   "outputs": [],
   "source": [
    "data_1['os'] = data_1['os'].replace(['mac os', 'windows os', 'linux', 'chrome os','windows os, linux', 'mac os, windows os, linux',\n",
    "                                     'other' ], [1,2,3,4,5,5,6])"
   ]
  },
  {
   "cell_type": "code",
   "execution_count": 45,
   "metadata": {},
   "outputs": [],
   "source": [
    "# data_1['os_modified'] = data_1['os'].replace(['mac os', 'windows os', 'linux', 'chrome os','windows os, linux', 'mac os, windows os, linux','other'], [1,2,3,4,5,5,6])"
   ]
  },
  {
   "cell_type": "code",
   "execution_count": null,
   "metadata": {},
   "outputs": [],
   "source": []
  },
  {
   "cell_type": "code",
   "execution_count": 46,
   "metadata": {},
   "outputs": [],
   "source": [
    "data_1['os_version'] = data_1.os_version.str.lower()\n",
    "data_1['os_version'] = data_1.os_version.str.strip()"
   ]
  },
  {
   "cell_type": "code",
   "execution_count": 47,
   "metadata": {},
   "outputs": [
    {
     "data": {
      "text/plain": [
       "array(['high sierra', 'windows 10 home', 'other', 'catalina', 'linux',\n",
       "       'windows 7', 'windows 10 pro', 'mojave', 'windows 10 enterprise',\n",
       "       'mac os', 'safari', 'windows 8', 'windows 10 education', 'sierra',\n",
       "       'chrome os', 'el capitan', 'windows 10 student',\n",
       "       'windows 7 home premium', 'windows 10', 'yosemite',\n",
       "       'windows 10 home, linux', 'windows xp'], dtype=object)"
      ]
     },
     "execution_count": 47,
     "metadata": {},
     "output_type": "execute_result"
    }
   ],
   "source": [
    "data_1['os_version'].unique()"
   ]
  },
  {
   "cell_type": "code",
   "execution_count": 48,
   "metadata": {},
   "outputs": [],
   "source": [
    "data_1['os_version'] = data_1['os_version'].replace(['windows xp', 'windows 7', 'windows 7 home premium', 'windows 8','windows 10',\n",
    "                                                     'windows 10 home','windows 10 student','windows 10 pro','windows 10 enterprise',\n",
    "                                                    'windows 10 education','Linux','Chrome OS', 'mac os', 'high sierra','sierra',\n",
    "                                                    'mojave','el capitan','catalina','safari','yosemite','windows 10 home, linux',\n",
    "                                                     'other'],[1,2,3,4,5,6,7,8,9,10,11,12,13,14,15,16,17,18,19,20,21,22])"
   ]
  },
  {
   "cell_type": "code",
   "execution_count": 49,
   "metadata": {},
   "outputs": [
    {
     "data": {
      "text/plain": [
       "array(['Intel Core i5', 'Intel Core i7', 'Other', 'Intel Core i9',\n",
       "       'AMD Ryzen'], dtype=object)"
      ]
     },
     "execution_count": 49,
     "metadata": {},
     "output_type": "execute_result"
    }
   ],
   "source": [
    "data_1['processor'].unique()"
   ]
  },
  {
   "cell_type": "code",
   "execution_count": 50,
   "metadata": {},
   "outputs": [],
   "source": [
    "data_1['processor'] = data_1['processor'].replace(['AMD Ryzen', 'Intel Core i5', 'Intel Core i7','Intel Core i9', 'Other'],\n",
    "                                                  [1,2,3,4,5])"
   ]
  },
  {
   "cell_type": "code",
   "execution_count": 51,
   "metadata": {},
   "outputs": [
    {
     "data": {
      "text/plain": [
       "array(['4 GB', '16 GB', '8 GB', '> 32 GB', '32 GB'], dtype=object)"
      ]
     },
     "execution_count": 51,
     "metadata": {},
     "output_type": "execute_result"
    }
   ],
   "source": [
    "data_1['memory'].unique()"
   ]
  },
  {
   "cell_type": "code",
   "execution_count": 52,
   "metadata": {},
   "outputs": [],
   "source": [
    "data_1['memory'] = data_1['memory'].replace(['4 GB','8 GB', '16 GB','32 GB','> 32 GB'],[1,2,3,4,5])"
   ]
  },
  {
   "cell_type": "code",
   "execution_count": 53,
   "metadata": {},
   "outputs": [
    {
     "data": {
      "text/plain": [
       "array(['256 GB', '512 GB', '> 1 TB', '128 GB', '1 TB'], dtype=object)"
      ]
     },
     "execution_count": 53,
     "metadata": {},
     "output_type": "execute_result"
    }
   ],
   "source": [
    "data_1['harddisk'].unique()"
   ]
  },
  {
   "cell_type": "code",
   "execution_count": 54,
   "metadata": {},
   "outputs": [],
   "source": [
    "data_1['harddisk'] = data_1['harddisk'].replace(['128 GB','256 GB', '512 GB','1 TB','> 1 TB'],[1,2,3,4,5])"
   ]
  },
  {
   "cell_type": "code",
   "execution_count": 55,
   "metadata": {},
   "outputs": [
    {
     "data": {
      "text/plain": [
       "array(['100 GB - 500 GB', '500 GB - 1 TB', '< 100 GB', '> 1 TB'],\n",
       "      dtype=object)"
      ]
     },
     "execution_count": 55,
     "metadata": {},
     "output_type": "execute_result"
    }
   ],
   "source": [
    "data_1['data_sizein_computer'].unique()"
   ]
  },
  {
   "cell_type": "code",
   "execution_count": 56,
   "metadata": {},
   "outputs": [],
   "source": [
    "data_1['data_sizein_computer'] = data_1['data_sizein_computer'].replace(['< 100 GB','100 GB - 500 GB', '500 GB - 1 TB','> 1 TB'],\n",
    "                                                                        [1,2,3,4])"
   ]
  },
  {
   "cell_type": "code",
   "execution_count": 57,
   "metadata": {},
   "outputs": [],
   "source": [
    "# def panda_strip(x):\n",
    "#     r =[]\n",
    "#     for y in x:\n",
    "#         if isinstance(y, str):\n",
    "#             y = y.replace(\" \",\"\")\n",
    "\n",
    "#         r.append(y)\n",
    "#     return pd.Series(r)\n",
    "\n",
    "# data_trimmed = data.apply(lambda x: panda_strip(x))"
   ]
  },
  {
   "cell_type": "code",
   "execution_count": 58,
   "metadata": {},
   "outputs": [],
   "source": [
    "# def panda_lower(x):\n",
    "#     r =[]\n",
    "#     for y in x:\n",
    "#         if isinstance(y, str):\n",
    "#             y = y.lower()\n",
    "\n",
    "#         r.append(y)\n",
    "#     return pd.Series(r)\n",
    "\n",
    "# data_trimmed_lower = data_trimmed.apply(lambda x: panda_lower(x))"
   ]
  },
  {
   "cell_type": "code",
   "execution_count": 59,
   "metadata": {},
   "outputs": [
    {
     "data": {
      "text/html": [
       "<div>\n",
       "<style scoped>\n",
       "    .dataframe tbody tr th:only-of-type {\n",
       "        vertical-align: middle;\n",
       "    }\n",
       "\n",
       "    .dataframe tbody tr th {\n",
       "        vertical-align: top;\n",
       "    }\n",
       "\n",
       "    .dataframe thead th {\n",
       "        text-align: right;\n",
       "    }\n",
       "</style>\n",
       "<table border=\"1\" class=\"dataframe\">\n",
       "  <thead>\n",
       "    <tr style=\"text-align: right;\">\n",
       "      <th></th>\n",
       "      <th>survey_timestamp</th>\n",
       "      <th>participant_class</th>\n",
       "      <th>college</th>\n",
       "      <th>department</th>\n",
       "      <th>Gender</th>\n",
       "      <th>race</th>\n",
       "      <th>computer_user_type</th>\n",
       "      <th>pc/laptop</th>\n",
       "      <th>screen_size</th>\n",
       "      <th>screen_size_other</th>\n",
       "      <th>warranty</th>\n",
       "      <th>webcam</th>\n",
       "      <th>computer_rating</th>\n",
       "      <th>computer_model</th>\n",
       "      <th>computer_ownership</th>\n",
       "      <th>os</th>\n",
       "      <th>os_version</th>\n",
       "      <th>processor</th>\n",
       "      <th>memory</th>\n",
       "      <th>harddisk</th>\n",
       "      <th>data_sizein_computer</th>\n",
       "      <th>data_backup</th>\n",
       "      <th>backup_method</th>\n",
       "      <th>external_backup_disk_brand</th>\n",
       "      <th>cloud_brand</th>\n",
       "      <th>backup_freq</th>\n",
       "      <th>automatic_backup</th>\n",
       "      <th>loss_of_data</th>\n",
       "      <th>have-secondary_computer</th>\n",
       "      <th>secondary_primary_sync</th>\n",
       "      <th>have_smartphone</th>\n",
       "      <th>smartphone_brand</th>\n",
       "      <th>smartphone_model</th>\n",
       "      <th>have_smartwatch</th>\n",
       "      <th>smartwatch_brand</th>\n",
       "      <th>smartwatch_model</th>\n",
       "      <th>confidence_level_on_sw_installation</th>\n",
       "      <th>internet_speed</th>\n",
       "      <th>internet_connection_reliability</th>\n",
       "      <th>Completion_status</th>\n",
       "    </tr>\n",
       "  </thead>\n",
       "  <tbody>\n",
       "    <tr>\n",
       "      <th>14</th>\n",
       "      <td>6/18/2020 10:26</td>\n",
       "      <td>11</td>\n",
       "      <td>NaN</td>\n",
       "      <td>2</td>\n",
       "      <td>2</td>\n",
       "      <td>10</td>\n",
       "      <td>1</td>\n",
       "      <td>2</td>\n",
       "      <td>14</td>\n",
       "      <td>NaN</td>\n",
       "      <td>No</td>\n",
       "      <td>Built-in to my computer</td>\n",
       "      <td>Average</td>\n",
       "      <td>Apple Macbook Pro</td>\n",
       "      <td>Own</td>\n",
       "      <td>1</td>\n",
       "      <td>14</td>\n",
       "      <td>2</td>\n",
       "      <td>1</td>\n",
       "      <td>2</td>\n",
       "      <td>2</td>\n",
       "      <td>No</td>\n",
       "      <td>NaN</td>\n",
       "      <td>NaN</td>\n",
       "      <td>NaN</td>\n",
       "      <td>NaN</td>\n",
       "      <td>NaN</td>\n",
       "      <td>No</td>\n",
       "      <td>No</td>\n",
       "      <td>NaN</td>\n",
       "      <td>Yes</td>\n",
       "      <td>iPhone</td>\n",
       "      <td>iPhone 8</td>\n",
       "      <td>No</td>\n",
       "      <td>NaN</td>\n",
       "      <td>NaN</td>\n",
       "      <td>Neutral</td>\n",
       "      <td>100 - 300 Mbps</td>\n",
       "      <td>Average</td>\n",
       "      <td>Complete</td>\n",
       "    </tr>\n",
       "    <tr>\n",
       "      <th>15</th>\n",
       "      <td>6/19/2020 14:42</td>\n",
       "      <td>4</td>\n",
       "      <td>NaN</td>\n",
       "      <td>3</td>\n",
       "      <td>4</td>\n",
       "      <td>1</td>\n",
       "      <td>2</td>\n",
       "      <td>3</td>\n",
       "      <td>15</td>\n",
       "      <td>NaN</td>\n",
       "      <td>No</td>\n",
       "      <td>Built-in to my computer</td>\n",
       "      <td>Average</td>\n",
       "      <td>Dell Inspiron 5000</td>\n",
       "      <td>Own</td>\n",
       "      <td>2</td>\n",
       "      <td>6</td>\n",
       "      <td>3</td>\n",
       "      <td>3</td>\n",
       "      <td>3</td>\n",
       "      <td>2</td>\n",
       "      <td>Yes</td>\n",
       "      <td>Both</td>\n",
       "      <td>WD</td>\n",
       "      <td>Google Drive</td>\n",
       "      <td>Weekly</td>\n",
       "      <td>Yes</td>\n",
       "      <td>No</td>\n",
       "      <td>Yes</td>\n",
       "      <td>No</td>\n",
       "      <td>Yes</td>\n",
       "      <td>iPhone</td>\n",
       "      <td>iPhone X Series</td>\n",
       "      <td>Yes</td>\n",
       "      <td>Apple Watch</td>\n",
       "      <td>Apple Watch 4</td>\n",
       "      <td>Neutral</td>\n",
       "      <td>&lt; 100 Mbps</td>\n",
       "      <td>Good</td>\n",
       "      <td>Complete</td>\n",
       "    </tr>\n",
       "    <tr>\n",
       "      <th>16</th>\n",
       "      <td>6/22/2020 12:09</td>\n",
       "      <td>4</td>\n",
       "      <td>NaN</td>\n",
       "      <td>3</td>\n",
       "      <td>5</td>\n",
       "      <td>1</td>\n",
       "      <td>2</td>\n",
       "      <td>3</td>\n",
       "      <td>15</td>\n",
       "      <td>NaN</td>\n",
       "      <td>3 year</td>\n",
       "      <td>Built-in to my computer</td>\n",
       "      <td>Excellent</td>\n",
       "      <td>Other</td>\n",
       "      <td>Own</td>\n",
       "      <td>2</td>\n",
       "      <td>6</td>\n",
       "      <td>2</td>\n",
       "      <td>2</td>\n",
       "      <td>2</td>\n",
       "      <td>2</td>\n",
       "      <td>Yes</td>\n",
       "      <td>Cloud</td>\n",
       "      <td>NaN</td>\n",
       "      <td>Microsoft OneDrive</td>\n",
       "      <td>Other</td>\n",
       "      <td>Yes</td>\n",
       "      <td>Yes</td>\n",
       "      <td>Yes</td>\n",
       "      <td>Yes</td>\n",
       "      <td>Yes</td>\n",
       "      <td>iPhone</td>\n",
       "      <td>iPhone X Series</td>\n",
       "      <td>No</td>\n",
       "      <td>NaN</td>\n",
       "      <td>NaN</td>\n",
       "      <td>Moderately confident</td>\n",
       "      <td>300 - 500 Mbps</td>\n",
       "      <td>Excellent</td>\n",
       "      <td>Complete</td>\n",
       "    </tr>\n",
       "    <tr>\n",
       "      <th>17</th>\n",
       "      <td>6/22/2020 12:09</td>\n",
       "      <td>7</td>\n",
       "      <td>NaN</td>\n",
       "      <td>3</td>\n",
       "      <td>4</td>\n",
       "      <td>1</td>\n",
       "      <td>2</td>\n",
       "      <td>3</td>\n",
       "      <td>15</td>\n",
       "      <td>NaN</td>\n",
       "      <td>No</td>\n",
       "      <td>Built-in to my computer</td>\n",
       "      <td>Good</td>\n",
       "      <td>Other</td>\n",
       "      <td>Own</td>\n",
       "      <td>3</td>\n",
       "      <td>22</td>\n",
       "      <td>3</td>\n",
       "      <td>2</td>\n",
       "      <td>5</td>\n",
       "      <td>3</td>\n",
       "      <td>No</td>\n",
       "      <td>NaN</td>\n",
       "      <td>NaN</td>\n",
       "      <td>NaN</td>\n",
       "      <td>NaN</td>\n",
       "      <td>NaN</td>\n",
       "      <td>No</td>\n",
       "      <td>No</td>\n",
       "      <td>NaN</td>\n",
       "      <td>Yes</td>\n",
       "      <td>Google</td>\n",
       "      <td>Google Pixel 3a</td>\n",
       "      <td>No</td>\n",
       "      <td>NaN</td>\n",
       "      <td>NaN</td>\n",
       "      <td>Very confident</td>\n",
       "      <td>300 - 500 Mbps</td>\n",
       "      <td>Excellent</td>\n",
       "      <td>Complete</td>\n",
       "    </tr>\n",
       "    <tr>\n",
       "      <th>18</th>\n",
       "      <td>6/22/2020 12:08</td>\n",
       "      <td>4</td>\n",
       "      <td>NaN</td>\n",
       "      <td>4</td>\n",
       "      <td>5</td>\n",
       "      <td>2</td>\n",
       "      <td>1</td>\n",
       "      <td>3</td>\n",
       "      <td>13</td>\n",
       "      <td>NaN</td>\n",
       "      <td>No</td>\n",
       "      <td>Built-in to my computer</td>\n",
       "      <td>Good</td>\n",
       "      <td>Apple Macbook Air</td>\n",
       "      <td>Own</td>\n",
       "      <td>1</td>\n",
       "      <td>18</td>\n",
       "      <td>2</td>\n",
       "      <td>2</td>\n",
       "      <td>1</td>\n",
       "      <td>3</td>\n",
       "      <td>No</td>\n",
       "      <td>NaN</td>\n",
       "      <td>NaN</td>\n",
       "      <td>NaN</td>\n",
       "      <td>NaN</td>\n",
       "      <td>NaN</td>\n",
       "      <td>No</td>\n",
       "      <td>No</td>\n",
       "      <td>NaN</td>\n",
       "      <td>Yes</td>\n",
       "      <td>iPhone</td>\n",
       "      <td>iPhone X Series</td>\n",
       "      <td>Yes</td>\n",
       "      <td>Apple Watch</td>\n",
       "      <td>Apple Watch 4</td>\n",
       "      <td>Somewhat confident</td>\n",
       "      <td>100 - 300 Mbps</td>\n",
       "      <td>Average</td>\n",
       "      <td>Complete</td>\n",
       "    </tr>\n",
       "  </tbody>\n",
       "</table>\n",
       "</div>"
      ],
      "text/plain": [
       "   survey_timestamp  participant_class college   department  Gender  race  \\\n",
       "14  6/18/2020 10:26                 11      NaN           2       2    10   \n",
       "15  6/19/2020 14:42                  4      NaN           3       4     1   \n",
       "16  6/22/2020 12:09                  4      NaN           3       5     1   \n",
       "17  6/22/2020 12:09                  7      NaN           3       4     1   \n",
       "18  6/22/2020 12:08                  4      NaN           4       5     2   \n",
       "\n",
       "    computer_user_type  pc/laptop  screen_size screen_size_other warranty  \\\n",
       "14                   1          2           14               NaN       No   \n",
       "15                   2          3           15               NaN       No   \n",
       "16                   2          3           15               NaN   3 year   \n",
       "17                   2          3           15               NaN       No   \n",
       "18                   1          3           13               NaN       No   \n",
       "\n",
       "                     webcam computer_rating      computer_model  \\\n",
       "14  Built-in to my computer         Average   Apple Macbook Pro   \n",
       "15  Built-in to my computer         Average  Dell Inspiron 5000   \n",
       "16  Built-in to my computer       Excellent               Other   \n",
       "17  Built-in to my computer            Good               Other   \n",
       "18  Built-in to my computer            Good   Apple Macbook Air   \n",
       "\n",
       "   computer_ownership  os os_version  processor  memory  harddisk  \\\n",
       "14                Own   1         14          2       1         2   \n",
       "15                Own   2          6          3       3         3   \n",
       "16                Own   2          6          2       2         2   \n",
       "17                Own   3         22          3       2         5   \n",
       "18                Own   1         18          2       2         1   \n",
       "\n",
       "    data_sizein_computer data_backup backup_method external_backup_disk_brand  \\\n",
       "14                     2          No           NaN                        NaN   \n",
       "15                     2         Yes          Both                         WD   \n",
       "16                     2         Yes         Cloud                        NaN   \n",
       "17                     3          No           NaN                        NaN   \n",
       "18                     3          No           NaN                        NaN   \n",
       "\n",
       "           cloud_brand backup_freq automatic_backup loss_of_data  \\\n",
       "14                 NaN         NaN              NaN           No   \n",
       "15        Google Drive      Weekly              Yes           No   \n",
       "16  Microsoft OneDrive       Other              Yes          Yes   \n",
       "17                 NaN         NaN              NaN           No   \n",
       "18                 NaN         NaN              NaN           No   \n",
       "\n",
       "   have-secondary_computer secondary_primary_sync have_smartphone  \\\n",
       "14                      No                    NaN             Yes   \n",
       "15                     Yes                     No             Yes   \n",
       "16                     Yes                    Yes             Yes   \n",
       "17                      No                    NaN             Yes   \n",
       "18                      No                    NaN             Yes   \n",
       "\n",
       "   smartphone_brand smartphone_model have_smartwatch smartwatch_brand  \\\n",
       "14           iPhone         iPhone 8              No              NaN   \n",
       "15           iPhone  iPhone X Series             Yes      Apple Watch   \n",
       "16           iPhone  iPhone X Series              No              NaN   \n",
       "17           Google  Google Pixel 3a              No              NaN   \n",
       "18           iPhone  iPhone X Series             Yes      Apple Watch   \n",
       "\n",
       "   smartwatch_model confidence_level_on_sw_installation  internet_speed  \\\n",
       "14              NaN                             Neutral  100 - 300 Mbps   \n",
       "15    Apple Watch 4                             Neutral      < 100 Mbps   \n",
       "16              NaN                Moderately confident  300 - 500 Mbps   \n",
       "17              NaN                      Very confident  300 - 500 Mbps   \n",
       "18    Apple Watch 4                  Somewhat confident  100 - 300 Mbps   \n",
       "\n",
       "   internet_connection_reliability Completion_status  \n",
       "14                         Average          Complete  \n",
       "15                            Good          Complete  \n",
       "16                       Excellent          Complete  \n",
       "17                       Excellent          Complete  \n",
       "18                         Average          Complete  "
      ]
     },
     "execution_count": 59,
     "metadata": {},
     "output_type": "execute_result"
    }
   ],
   "source": [
    "data_1.head()"
   ]
  },
  {
   "cell_type": "markdown",
   "metadata": {},
   "source": [
    "# Correaltion"
   ]
  },
  {
   "cell_type": "code",
   "execution_count": 60,
   "metadata": {},
   "outputs": [
    {
     "name": "stdout",
     "output_type": "stream",
     "text": [
      "12\n"
     ]
    },
    {
     "data": {
      "image/png": "[encoded data removed]",
      "text/plain": [
       "<Figure size 720x360 with 2 Axes>"
      ]
     },
     "metadata": {
      "needs_background": "light"
     },
     "output_type": "display_data"
    }
   ],
   "source": [
    "corr = data_1.corr()\n",
    "#corr = new_df.corr()\n",
    "print(corr.shape[0])\n",
    "#cmap = sns.diverging_palette(230, 255, as_cmap=True)\n",
    "plt.figure(figsize=(10,5))\n",
    "sns.heatmap(data_1.corr(), cmap='viridis', annot= True)\n",
    "plt.show()"
   ]
  },
  {
   "cell_type": "markdown",
   "metadata": {},
   "source": [
    "# Dummy Creation"
   ]
  },
  {
   "cell_type": "code",
   "execution_count": 61,
   "metadata": {},
   "outputs": [
    {
     "data": {
      "text/html": [
       "<div>\n",
       "<style scoped>\n",
       "    .dataframe tbody tr th:only-of-type {\n",
       "        vertical-align: middle;\n",
       "    }\n",
       "\n",
       "    .dataframe tbody tr th {\n",
       "        vertical-align: top;\n",
       "    }\n",
       "\n",
       "    .dataframe thead th {\n",
       "        text-align: right;\n",
       "    }\n",
       "</style>\n",
       "<table border=\"1\" class=\"dataframe\">\n",
       "  <thead>\n",
       "    <tr style=\"text-align: right;\">\n",
       "      <th></th>\n",
       "      <th>Other</th>\n",
       "      <th>Own</th>\n",
       "      <th>University property</th>\n",
       "    </tr>\n",
       "  </thead>\n",
       "  <tbody>\n",
       "    <tr>\n",
       "      <th>14</th>\n",
       "      <td>0</td>\n",
       "      <td>1</td>\n",
       "      <td>0</td>\n",
       "    </tr>\n",
       "  </tbody>\n",
       "</table>\n",
       "</div>"
      ],
      "text/plain": [
       "    Other  Own  University property\n",
       "14      0    1                    0"
      ]
     },
     "execution_count": 61,
     "metadata": {},
     "output_type": "execute_result"
    }
   ],
   "source": [
    "ownership_data = pd.get_dummies(data_1['computer_ownership'])\n",
    "ownership_data.head(1)"
   ]
  },
  {
   "cell_type": "code",
   "execution_count": 62,
   "metadata": {},
   "outputs": [
    {
     "data": {
      "text/html": [
       "<div>\n",
       "<style scoped>\n",
       "    .dataframe tbody tr th:only-of-type {\n",
       "        vertical-align: middle;\n",
       "    }\n",
       "\n",
       "    .dataframe tbody tr th {\n",
       "        vertical-align: top;\n",
       "    }\n",
       "\n",
       "    .dataframe thead th {\n",
       "        text-align: right;\n",
       "    }\n",
       "</style>\n",
       "<table border=\"1\" class=\"dataframe\">\n",
       "  <thead>\n",
       "    <tr style=\"text-align: right;\">\n",
       "      <th></th>\n",
       "      <th>survey_timestamp</th>\n",
       "      <th>participant_class</th>\n",
       "      <th>college</th>\n",
       "      <th>department</th>\n",
       "      <th>Gender</th>\n",
       "      <th>race</th>\n",
       "      <th>computer_user_type</th>\n",
       "      <th>pc/laptop</th>\n",
       "      <th>screen_size</th>\n",
       "      <th>screen_size_other</th>\n",
       "      <th>warranty</th>\n",
       "      <th>webcam</th>\n",
       "      <th>computer_rating</th>\n",
       "      <th>computer_model</th>\n",
       "      <th>computer_ownership</th>\n",
       "      <th>os</th>\n",
       "      <th>os_version</th>\n",
       "      <th>processor</th>\n",
       "      <th>memory</th>\n",
       "      <th>harddisk</th>\n",
       "      <th>data_sizein_computer</th>\n",
       "      <th>data_backup</th>\n",
       "      <th>backup_method</th>\n",
       "      <th>external_backup_disk_brand</th>\n",
       "      <th>cloud_brand</th>\n",
       "      <th>backup_freq</th>\n",
       "      <th>automatic_backup</th>\n",
       "      <th>loss_of_data</th>\n",
       "      <th>have-secondary_computer</th>\n",
       "      <th>secondary_primary_sync</th>\n",
       "      <th>have_smartphone</th>\n",
       "      <th>smartphone_brand</th>\n",
       "      <th>smartphone_model</th>\n",
       "      <th>have_smartwatch</th>\n",
       "      <th>smartwatch_brand</th>\n",
       "      <th>smartwatch_model</th>\n",
       "      <th>confidence_level_on_sw_installation</th>\n",
       "      <th>internet_speed</th>\n",
       "      <th>internet_connection_reliability</th>\n",
       "      <th>Completion_status</th>\n",
       "      <th>Other</th>\n",
       "      <th>Own</th>\n",
       "      <th>University property</th>\n",
       "    </tr>\n",
       "  </thead>\n",
       "  <tbody>\n",
       "    <tr>\n",
       "      <th>14</th>\n",
       "      <td>6/18/2020 10:26</td>\n",
       "      <td>11</td>\n",
       "      <td>NaN</td>\n",
       "      <td>2</td>\n",
       "      <td>2</td>\n",
       "      <td>10</td>\n",
       "      <td>1</td>\n",
       "      <td>2</td>\n",
       "      <td>14</td>\n",
       "      <td>NaN</td>\n",
       "      <td>No</td>\n",
       "      <td>Built-in to my computer</td>\n",
       "      <td>Average</td>\n",
       "      <td>Apple Macbook Pro</td>\n",
       "      <td>Own</td>\n",
       "      <td>1</td>\n",
       "      <td>14</td>\n",
       "      <td>2</td>\n",
       "      <td>1</td>\n",
       "      <td>2</td>\n",
       "      <td>2</td>\n",
       "      <td>No</td>\n",
       "      <td>NaN</td>\n",
       "      <td>NaN</td>\n",
       "      <td>NaN</td>\n",
       "      <td>NaN</td>\n",
       "      <td>NaN</td>\n",
       "      <td>No</td>\n",
       "      <td>No</td>\n",
       "      <td>NaN</td>\n",
       "      <td>Yes</td>\n",
       "      <td>iPhone</td>\n",
       "      <td>iPhone 8</td>\n",
       "      <td>No</td>\n",
       "      <td>NaN</td>\n",
       "      <td>NaN</td>\n",
       "      <td>Neutral</td>\n",
       "      <td>100 - 300 Mbps</td>\n",
       "      <td>Average</td>\n",
       "      <td>Complete</td>\n",
       "      <td>0</td>\n",
       "      <td>1</td>\n",
       "      <td>0</td>\n",
       "    </tr>\n",
       "    <tr>\n",
       "      <th>15</th>\n",
       "      <td>6/19/2020 14:42</td>\n",
       "      <td>4</td>\n",
       "      <td>NaN</td>\n",
       "      <td>3</td>\n",
       "      <td>4</td>\n",
       "      <td>1</td>\n",
       "      <td>2</td>\n",
       "      <td>3</td>\n",
       "      <td>15</td>\n",
       "      <td>NaN</td>\n",
       "      <td>No</td>\n",
       "      <td>Built-in to my computer</td>\n",
       "      <td>Average</td>\n",
       "      <td>Dell Inspiron 5000</td>\n",
       "      <td>Own</td>\n",
       "      <td>2</td>\n",
       "      <td>6</td>\n",
       "      <td>3</td>\n",
       "      <td>3</td>\n",
       "      <td>3</td>\n",
       "      <td>2</td>\n",
       "      <td>Yes</td>\n",
       "      <td>Both</td>\n",
       "      <td>WD</td>\n",
       "      <td>Google Drive</td>\n",
       "      <td>Weekly</td>\n",
       "      <td>Yes</td>\n",
       "      <td>No</td>\n",
       "      <td>Yes</td>\n",
       "      <td>No</td>\n",
       "      <td>Yes</td>\n",
       "      <td>iPhone</td>\n",
       "      <td>iPhone X Series</td>\n",
       "      <td>Yes</td>\n",
       "      <td>Apple Watch</td>\n",
       "      <td>Apple Watch 4</td>\n",
       "      <td>Neutral</td>\n",
       "      <td>&lt; 100 Mbps</td>\n",
       "      <td>Good</td>\n",
       "      <td>Complete</td>\n",
       "      <td>0</td>\n",
       "      <td>1</td>\n",
       "      <td>0</td>\n",
       "    </tr>\n",
       "    <tr>\n",
       "      <th>16</th>\n",
       "      <td>6/22/2020 12:09</td>\n",
       "      <td>4</td>\n",
       "      <td>NaN</td>\n",
       "      <td>3</td>\n",
       "      <td>5</td>\n",
       "      <td>1</td>\n",
       "      <td>2</td>\n",
       "      <td>3</td>\n",
       "      <td>15</td>\n",
       "      <td>NaN</td>\n",
       "      <td>3 year</td>\n",
       "      <td>Built-in to my computer</td>\n",
       "      <td>Excellent</td>\n",
       "      <td>Other</td>\n",
       "      <td>Own</td>\n",
       "      <td>2</td>\n",
       "      <td>6</td>\n",
       "      <td>2</td>\n",
       "      <td>2</td>\n",
       "      <td>2</td>\n",
       "      <td>2</td>\n",
       "      <td>Yes</td>\n",
       "      <td>Cloud</td>\n",
       "      <td>NaN</td>\n",
       "      <td>Microsoft OneDrive</td>\n",
       "      <td>Other</td>\n",
       "      <td>Yes</td>\n",
       "      <td>Yes</td>\n",
       "      <td>Yes</td>\n",
       "      <td>Yes</td>\n",
       "      <td>Yes</td>\n",
       "      <td>iPhone</td>\n",
       "      <td>iPhone X Series</td>\n",
       "      <td>No</td>\n",
       "      <td>NaN</td>\n",
       "      <td>NaN</td>\n",
       "      <td>Moderately confident</td>\n",
       "      <td>300 - 500 Mbps</td>\n",
       "      <td>Excellent</td>\n",
       "      <td>Complete</td>\n",
       "      <td>0</td>\n",
       "      <td>1</td>\n",
       "      <td>0</td>\n",
       "    </tr>\n",
       "    <tr>\n",
       "      <th>17</th>\n",
       "      <td>6/22/2020 12:09</td>\n",
       "      <td>7</td>\n",
       "      <td>NaN</td>\n",
       "      <td>3</td>\n",
       "      <td>4</td>\n",
       "      <td>1</td>\n",
       "      <td>2</td>\n",
       "      <td>3</td>\n",
       "      <td>15</td>\n",
       "      <td>NaN</td>\n",
       "      <td>No</td>\n",
       "      <td>Built-in to my computer</td>\n",
       "      <td>Good</td>\n",
       "      <td>Other</td>\n",
       "      <td>Own</td>\n",
       "      <td>3</td>\n",
       "      <td>22</td>\n",
       "      <td>3</td>\n",
       "      <td>2</td>\n",
       "      <td>5</td>\n",
       "      <td>3</td>\n",
       "      <td>No</td>\n",
       "      <td>NaN</td>\n",
       "      <td>NaN</td>\n",
       "      <td>NaN</td>\n",
       "      <td>NaN</td>\n",
       "      <td>NaN</td>\n",
       "      <td>No</td>\n",
       "      <td>No</td>\n",
       "      <td>NaN</td>\n",
       "      <td>Yes</td>\n",
       "      <td>Google</td>\n",
       "      <td>Google Pixel 3a</td>\n",
       "      <td>No</td>\n",
       "      <td>NaN</td>\n",
       "      <td>NaN</td>\n",
       "      <td>Very confident</td>\n",
       "      <td>300 - 500 Mbps</td>\n",
       "      <td>Excellent</td>\n",
       "      <td>Complete</td>\n",
       "      <td>0</td>\n",
       "      <td>1</td>\n",
       "      <td>0</td>\n",
       "    </tr>\n",
       "    <tr>\n",
       "      <th>18</th>\n",
       "      <td>6/22/2020 12:08</td>\n",
       "      <td>4</td>\n",
       "      <td>NaN</td>\n",
       "      <td>4</td>\n",
       "      <td>5</td>\n",
       "      <td>2</td>\n",
       "      <td>1</td>\n",
       "      <td>3</td>\n",
       "      <td>13</td>\n",
       "      <td>NaN</td>\n",
       "      <td>No</td>\n",
       "      <td>Built-in to my computer</td>\n",
       "      <td>Good</td>\n",
       "      <td>Apple Macbook Air</td>\n",
       "      <td>Own</td>\n",
       "      <td>1</td>\n",
       "      <td>18</td>\n",
       "      <td>2</td>\n",
       "      <td>2</td>\n",
       "      <td>1</td>\n",
       "      <td>3</td>\n",
       "      <td>No</td>\n",
       "      <td>NaN</td>\n",
       "      <td>NaN</td>\n",
       "      <td>NaN</td>\n",
       "      <td>NaN</td>\n",
       "      <td>NaN</td>\n",
       "      <td>No</td>\n",
       "      <td>No</td>\n",
       "      <td>NaN</td>\n",
       "      <td>Yes</td>\n",
       "      <td>iPhone</td>\n",
       "      <td>iPhone X Series</td>\n",
       "      <td>Yes</td>\n",
       "      <td>Apple Watch</td>\n",
       "      <td>Apple Watch 4</td>\n",
       "      <td>Somewhat confident</td>\n",
       "      <td>100 - 300 Mbps</td>\n",
       "      <td>Average</td>\n",
       "      <td>Complete</td>\n",
       "      <td>0</td>\n",
       "      <td>1</td>\n",
       "      <td>0</td>\n",
       "    </tr>\n",
       "  </tbody>\n",
       "</table>\n",
       "</div>"
      ],
      "text/plain": [
       "   survey_timestamp  participant_class college   department  Gender  race  \\\n",
       "14  6/18/2020 10:26                 11      NaN           2       2    10   \n",
       "15  6/19/2020 14:42                  4      NaN           3       4     1   \n",
       "16  6/22/2020 12:09                  4      NaN           3       5     1   \n",
       "17  6/22/2020 12:09                  7      NaN           3       4     1   \n",
       "18  6/22/2020 12:08                  4      NaN           4       5     2   \n",
       "\n",
       "    computer_user_type  pc/laptop  screen_size screen_size_other warranty  \\\n",
       "14                   1          2           14               NaN       No   \n",
       "15                   2          3           15               NaN       No   \n",
       "16                   2          3           15               NaN   3 year   \n",
       "17                   2          3           15               NaN       No   \n",
       "18                   1          3           13               NaN       No   \n",
       "\n",
       "                     webcam computer_rating      computer_model  \\\n",
       "14  Built-in to my computer         Average   Apple Macbook Pro   \n",
       "15  Built-in to my computer         Average  Dell Inspiron 5000   \n",
       "16  Built-in to my computer       Excellent               Other   \n",
       "17  Built-in to my computer            Good               Other   \n",
       "18  Built-in to my computer            Good   Apple Macbook Air   \n",
       "\n",
       "   computer_ownership  os os_version  processor  memory  harddisk  \\\n",
       "14                Own   1         14          2       1         2   \n",
       "15                Own   2          6          3       3         3   \n",
       "16                Own   2          6          2       2         2   \n",
       "17                Own   3         22          3       2         5   \n",
       "18                Own   1         18          2       2         1   \n",
       "\n",
       "    data_sizein_computer data_backup backup_method external_backup_disk_brand  \\\n",
       "14                     2          No           NaN                        NaN   \n",
       "15                     2         Yes          Both                         WD   \n",
       "16                     2         Yes         Cloud                        NaN   \n",
       "17                     3          No           NaN                        NaN   \n",
       "18                     3          No           NaN                        NaN   \n",
       "\n",
       "           cloud_brand backup_freq automatic_backup loss_of_data  \\\n",
       "14                 NaN         NaN              NaN           No   \n",
       "15        Google Drive      Weekly              Yes           No   \n",
       "16  Microsoft OneDrive       Other              Yes          Yes   \n",
       "17                 NaN         NaN              NaN           No   \n",
       "18                 NaN         NaN              NaN           No   \n",
       "\n",
       "   have-secondary_computer secondary_primary_sync have_smartphone  \\\n",
       "14                      No                    NaN             Yes   \n",
       "15                     Yes                     No             Yes   \n",
       "16                     Yes                    Yes             Yes   \n",
       "17                      No                    NaN             Yes   \n",
       "18                      No                    NaN             Yes   \n",
       "\n",
       "   smartphone_brand smartphone_model have_smartwatch smartwatch_brand  \\\n",
       "14           iPhone         iPhone 8              No              NaN   \n",
       "15           iPhone  iPhone X Series             Yes      Apple Watch   \n",
       "16           iPhone  iPhone X Series              No              NaN   \n",
       "17           Google  Google Pixel 3a              No              NaN   \n",
       "18           iPhone  iPhone X Series             Yes      Apple Watch   \n",
       "\n",
       "   smartwatch_model confidence_level_on_sw_installation  internet_speed  \\\n",
       "14              NaN                             Neutral  100 - 300 Mbps   \n",
       "15    Apple Watch 4                             Neutral      < 100 Mbps   \n",
       "16              NaN                Moderately confident  300 - 500 Mbps   \n",
       "17              NaN                      Very confident  300 - 500 Mbps   \n",
       "18    Apple Watch 4                  Somewhat confident  100 - 300 Mbps   \n",
       "\n",
       "   internet_connection_reliability Completion_status  Other  Own  \\\n",
       "14                         Average          Complete      0    1   \n",
       "15                            Good          Complete      0    1   \n",
       "16                       Excellent          Complete      0    1   \n",
       "17                       Excellent          Complete      0    1   \n",
       "18                         Average          Complete      0    1   \n",
       "\n",
       "    University property  \n",
       "14                    0  \n",
       "15                    0  \n",
       "16                    0  \n",
       "17                    0  \n",
       "18                    0  "
      ]
     },
     "execution_count": 62,
     "metadata": {},
     "output_type": "execute_result"
    }
   ],
   "source": [
    "new_df = pd.merge(data_1, ownership_data, right_index= True, left_index= True)\n",
    "new_df.head()"
   ]
  },
  {
   "cell_type": "code",
   "execution_count": 63,
   "metadata": {},
   "outputs": [],
   "source": [
    "department_dummies = pd.get_dummies(data_1['department'], drop_first=True)"
   ]
  },
  {
   "cell_type": "code",
   "execution_count": 64,
   "metadata": {},
   "outputs": [
    {
     "data": {
      "text/html": [
       "<div>\n",
       "<style scoped>\n",
       "    .dataframe tbody tr th:only-of-type {\n",
       "        vertical-align: middle;\n",
       "    }\n",
       "\n",
       "    .dataframe tbody tr th {\n",
       "        vertical-align: top;\n",
       "    }\n",
       "\n",
       "    .dataframe thead th {\n",
       "        text-align: right;\n",
       "    }\n",
       "</style>\n",
       "<table border=\"1\" class=\"dataframe\">\n",
       "  <thead>\n",
       "    <tr style=\"text-align: right;\">\n",
       "      <th></th>\n",
       "      <th>2</th>\n",
       "      <th>3</th>\n",
       "      <th>4</th>\n",
       "      <th>5</th>\n",
       "      <th>6</th>\n",
       "      <th>7</th>\n",
       "      <th>8</th>\n",
       "      <th>9</th>\n",
       "      <th>10</th>\n",
       "      <th>11</th>\n",
       "      <th>12</th>\n",
       "      <th>13</th>\n",
       "      <th>14</th>\n",
       "      <th>15</th>\n",
       "      <th>16</th>\n",
       "      <th>17</th>\n",
       "      <th>18</th>\n",
       "      <th>19</th>\n",
       "      <th>20</th>\n",
       "    </tr>\n",
       "  </thead>\n",
       "  <tbody>\n",
       "    <tr>\n",
       "      <th>14</th>\n",
       "      <td>1</td>\n",
       "      <td>0</td>\n",
       "      <td>0</td>\n",
       "      <td>0</td>\n",
       "      <td>0</td>\n",
       "      <td>0</td>\n",
       "      <td>0</td>\n",
       "      <td>0</td>\n",
       "      <td>0</td>\n",
       "      <td>0</td>\n",
       "      <td>0</td>\n",
       "      <td>0</td>\n",
       "      <td>0</td>\n",
       "      <td>0</td>\n",
       "      <td>0</td>\n",
       "      <td>0</td>\n",
       "      <td>0</td>\n",
       "      <td>0</td>\n",
       "      <td>0</td>\n",
       "    </tr>\n",
       "  </tbody>\n",
       "</table>\n",
       "</div>"
      ],
      "text/plain": [
       "    2   3   4   5   6   7   8   9   10  11  12  13  14  15  16  17  18  19  20\n",
       "14   1   0   0   0   0   0   0   0   0   0   0   0   0   0   0   0   0   0   0"
      ]
     },
     "execution_count": 64,
     "metadata": {},
     "output_type": "execute_result"
    }
   ],
   "source": [
    "department_dummies.head(1)"
   ]
  },
  {
   "cell_type": "code",
   "execution_count": 65,
   "metadata": {},
   "outputs": [],
   "source": [
    "new_df['dep_2'] = department_dummies.iloc[:, 0]\n",
    "new_df['dep_3'] = department_dummies.iloc[:, 1]\n",
    "new_df['dep_4'] = department_dummies.iloc[:, 2]\n",
    "new_df['dep_5'] = department_dummies.iloc[:, 3]\n",
    "new_df['dep_6'] = department_dummies.iloc[:, 4]\n",
    "new_df['dep_7'] = department_dummies.iloc[:, 5]\n",
    "new_df['dep_8'] = department_dummies.iloc[:, 6]\n",
    "new_df['dep_9'] = department_dummies.iloc[:, 7]\n",
    "new_df['dep_10'] = department_dummies.iloc[:, 8]\n",
    "new_df['dep_11'] = department_dummies.iloc[:, 9]\n",
    "new_df['dep_12'] = department_dummies.iloc[:, 10]\n",
    "new_df['dep_13'] = department_dummies.iloc[:, 11]\n",
    "new_df['dep_14'] = department_dummies.iloc[:, 12]\n",
    "new_df['dep_15'] = department_dummies.iloc[:, 13]\n",
    "new_df['dep_16'] = department_dummies.iloc[:, 14]\n",
    "new_df['dep_17'] = department_dummies.iloc[:, 15]\n",
    "new_df['dep_18'] = department_dummies.iloc[:, 16]\n",
    "new_df['dep_19'] = department_dummies.iloc[:, 17]\n",
    "new_df['dep_20'] = department_dummies.iloc[:, 18]"
   ]
  },
  {
   "cell_type": "code",
   "execution_count": 66,
   "metadata": {},
   "outputs": [],
   "source": [
    "gender_dummies = pd.get_dummies(data_1['Gender'], drop_first=True)"
   ]
  },
  {
   "cell_type": "code",
   "execution_count": 67,
   "metadata": {},
   "outputs": [
    {
     "data": {
      "text/html": [
       "<div>\n",
       "<style scoped>\n",
       "    .dataframe tbody tr th:only-of-type {\n",
       "        vertical-align: middle;\n",
       "    }\n",
       "\n",
       "    .dataframe tbody tr th {\n",
       "        vertical-align: top;\n",
       "    }\n",
       "\n",
       "    .dataframe thead th {\n",
       "        text-align: right;\n",
       "    }\n",
       "</style>\n",
       "<table border=\"1\" class=\"dataframe\">\n",
       "  <thead>\n",
       "    <tr style=\"text-align: right;\">\n",
       "      <th></th>\n",
       "      <th>2</th>\n",
       "      <th>3</th>\n",
       "      <th>4</th>\n",
       "      <th>5</th>\n",
       "    </tr>\n",
       "  </thead>\n",
       "  <tbody>\n",
       "    <tr>\n",
       "      <th>14</th>\n",
       "      <td>1</td>\n",
       "      <td>0</td>\n",
       "      <td>0</td>\n",
       "      <td>0</td>\n",
       "    </tr>\n",
       "  </tbody>\n",
       "</table>\n",
       "</div>"
      ],
      "text/plain": [
       "    2  3  4  5\n",
       "14  1  0  0  0"
      ]
     },
     "execution_count": 67,
     "metadata": {},
     "output_type": "execute_result"
    }
   ],
   "source": [
    "gender_dummies.head(1)"
   ]
  },
  {
   "cell_type": "code",
   "execution_count": 68,
   "metadata": {},
   "outputs": [],
   "source": [
    "new_df['gen_2'] = gender_dummies.iloc[:, 0]\n",
    "new_df['gen_3'] = gender_dummies.iloc[:, 1]\n",
    "new_df['gen_4'] = gender_dummies.iloc[:, 2]\n",
    "new_df['gen_5'] = gender_dummies.iloc[:, 3]\n"
   ]
  },
  {
   "cell_type": "code",
   "execution_count": 69,
   "metadata": {},
   "outputs": [
    {
     "data": {
      "text/html": [
       "<div>\n",
       "<style scoped>\n",
       "    .dataframe tbody tr th:only-of-type {\n",
       "        vertical-align: middle;\n",
       "    }\n",
       "\n",
       "    .dataframe tbody tr th {\n",
       "        vertical-align: top;\n",
       "    }\n",
       "\n",
       "    .dataframe thead th {\n",
       "        text-align: right;\n",
       "    }\n",
       "</style>\n",
       "<table border=\"1\" class=\"dataframe\">\n",
       "  <thead>\n",
       "    <tr style=\"text-align: right;\">\n",
       "      <th></th>\n",
       "      <th>2</th>\n",
       "      <th>3</th>\n",
       "      <th>4</th>\n",
       "      <th>5</th>\n",
       "      <th>6</th>\n",
       "      <th>7</th>\n",
       "      <th>8</th>\n",
       "      <th>9</th>\n",
       "      <th>10</th>\n",
       "    </tr>\n",
       "  </thead>\n",
       "  <tbody>\n",
       "    <tr>\n",
       "      <th>14</th>\n",
       "      <td>0</td>\n",
       "      <td>0</td>\n",
       "      <td>0</td>\n",
       "      <td>0</td>\n",
       "      <td>0</td>\n",
       "      <td>0</td>\n",
       "      <td>0</td>\n",
       "      <td>0</td>\n",
       "      <td>1</td>\n",
       "    </tr>\n",
       "  </tbody>\n",
       "</table>\n",
       "</div>"
      ],
      "text/plain": [
       "    2   3   4   5   6   7   8   9   10\n",
       "14   0   0   0   0   0   0   0   0   1"
      ]
     },
     "execution_count": 69,
     "metadata": {},
     "output_type": "execute_result"
    }
   ],
   "source": [
    "race_dummies = pd.get_dummies(data_1['race'], drop_first=True)\n",
    "race_dummies.head(1)"
   ]
  },
  {
   "cell_type": "code",
   "execution_count": 70,
   "metadata": {},
   "outputs": [],
   "source": [
    "new_df['race_2'] = race_dummies.iloc[:, 0]\n",
    "new_df['race_3'] = race_dummies.iloc[:, 1]\n",
    "new_df['race_4'] = race_dummies.iloc[:, 2]\n",
    "new_df['race_5'] = race_dummies.iloc[:, 3]\n",
    "new_df['race_6'] = race_dummies.iloc[:, 4]\n",
    "new_df['race_7'] = race_dummies.iloc[:, 5]\n",
    "new_df['race_8'] = race_dummies.iloc[:, 6]\n",
    "new_df['race_9'] = race_dummies.iloc[:, 7]\n",
    "new_df['race_10'] = race_dummies.iloc[:, 8]\n"
   ]
  },
  {
   "cell_type": "code",
   "execution_count": 71,
   "metadata": {},
   "outputs": [
    {
     "data": {
      "text/html": [
       "<div>\n",
       "<style scoped>\n",
       "    .dataframe tbody tr th:only-of-type {\n",
       "        vertical-align: middle;\n",
       "    }\n",
       "\n",
       "    .dataframe tbody tr th {\n",
       "        vertical-align: top;\n",
       "    }\n",
       "\n",
       "    .dataframe thead th {\n",
       "        text-align: right;\n",
       "    }\n",
       "</style>\n",
       "<table border=\"1\" class=\"dataframe\">\n",
       "  <thead>\n",
       "    <tr style=\"text-align: right;\">\n",
       "      <th></th>\n",
       "      <th>1</th>\n",
       "      <th>2</th>\n",
       "    </tr>\n",
       "  </thead>\n",
       "  <tbody>\n",
       "    <tr>\n",
       "      <th>14</th>\n",
       "      <td>1</td>\n",
       "      <td>0</td>\n",
       "    </tr>\n",
       "  </tbody>\n",
       "</table>\n",
       "</div>"
      ],
      "text/plain": [
       "    1  2\n",
       "14  1  0"
      ]
     },
     "execution_count": 71,
     "metadata": {},
     "output_type": "execute_result"
    }
   ],
   "source": [
    "computer_user_dummies = pd.get_dummies(data_1['computer_user_type'])\n",
    "computer_user_dummies.head(1)"
   ]
  },
  {
   "cell_type": "code",
   "execution_count": 72,
   "metadata": {},
   "outputs": [],
   "source": [
    "new_df['com_user_1'] = computer_user_dummies.iloc[:, 0]\n",
    "new_df['com_user_2'] = computer_user_dummies.iloc[:, 1]\n"
   ]
  },
  {
   "cell_type": "code",
   "execution_count": 73,
   "metadata": {},
   "outputs": [
    {
     "data": {
      "text/html": [
       "<div>\n",
       "<style scoped>\n",
       "    .dataframe tbody tr th:only-of-type {\n",
       "        vertical-align: middle;\n",
       "    }\n",
       "\n",
       "    .dataframe tbody tr th {\n",
       "        vertical-align: top;\n",
       "    }\n",
       "\n",
       "    .dataframe thead th {\n",
       "        text-align: right;\n",
       "    }\n",
       "</style>\n",
       "<table border=\"1\" class=\"dataframe\">\n",
       "  <thead>\n",
       "    <tr style=\"text-align: right;\">\n",
       "      <th></th>\n",
       "      <th>1</th>\n",
       "      <th>2</th>\n",
       "      <th>3</th>\n",
       "    </tr>\n",
       "  </thead>\n",
       "  <tbody>\n",
       "    <tr>\n",
       "      <th>14</th>\n",
       "      <td>0</td>\n",
       "      <td>1</td>\n",
       "      <td>0</td>\n",
       "    </tr>\n",
       "  </tbody>\n",
       "</table>\n",
       "</div>"
      ],
      "text/plain": [
       "    1  2  3\n",
       "14  0  1  0"
      ]
     },
     "execution_count": 73,
     "metadata": {},
     "output_type": "execute_result"
    }
   ],
   "source": [
    "computer_dummies = pd.get_dummies(data_1['pc/laptop'])\n",
    "computer_dummies.head(1)"
   ]
  },
  {
   "cell_type": "code",
   "execution_count": 74,
   "metadata": {},
   "outputs": [],
   "source": [
    "new_df['com_1'] = computer_dummies.iloc[:, 0]\n",
    "new_df['com_2'] = computer_dummies.iloc[:, 1]\n",
    "new_df['com_3'] = computer_dummies.iloc[:, 2]\n"
   ]
  },
  {
   "cell_type": "code",
   "execution_count": 75,
   "metadata": {},
   "outputs": [
    {
     "data": {
      "text/html": [
       "<div>\n",
       "<style scoped>\n",
       "    .dataframe tbody tr th:only-of-type {\n",
       "        vertical-align: middle;\n",
       "    }\n",
       "\n",
       "    .dataframe tbody tr th {\n",
       "        vertical-align: top;\n",
       "    }\n",
       "\n",
       "    .dataframe thead th {\n",
       "        text-align: right;\n",
       "    }\n",
       "</style>\n",
       "<table border=\"1\" class=\"dataframe\">\n",
       "  <thead>\n",
       "    <tr style=\"text-align: right;\">\n",
       "      <th></th>\n",
       "      <th>survey_timestamp</th>\n",
       "      <th>participant_class</th>\n",
       "      <th>college</th>\n",
       "      <th>department</th>\n",
       "      <th>Gender</th>\n",
       "      <th>race</th>\n",
       "      <th>computer_user_type</th>\n",
       "      <th>pc/laptop</th>\n",
       "      <th>screen_size</th>\n",
       "      <th>screen_size_other</th>\n",
       "      <th>warranty</th>\n",
       "      <th>webcam</th>\n",
       "      <th>computer_rating</th>\n",
       "      <th>computer_model</th>\n",
       "      <th>computer_ownership</th>\n",
       "      <th>os</th>\n",
       "      <th>os_version</th>\n",
       "      <th>processor</th>\n",
       "      <th>memory</th>\n",
       "      <th>harddisk</th>\n",
       "      <th>data_sizein_computer</th>\n",
       "      <th>data_backup</th>\n",
       "      <th>backup_method</th>\n",
       "      <th>external_backup_disk_brand</th>\n",
       "      <th>cloud_brand</th>\n",
       "      <th>backup_freq</th>\n",
       "      <th>automatic_backup</th>\n",
       "      <th>loss_of_data</th>\n",
       "      <th>have-secondary_computer</th>\n",
       "      <th>secondary_primary_sync</th>\n",
       "      <th>have_smartphone</th>\n",
       "      <th>smartphone_brand</th>\n",
       "      <th>smartphone_model</th>\n",
       "      <th>have_smartwatch</th>\n",
       "      <th>smartwatch_brand</th>\n",
       "      <th>smartwatch_model</th>\n",
       "      <th>confidence_level_on_sw_installation</th>\n",
       "      <th>internet_speed</th>\n",
       "      <th>internet_connection_reliability</th>\n",
       "      <th>Completion_status</th>\n",
       "      <th>Other</th>\n",
       "      <th>Own</th>\n",
       "      <th>University property</th>\n",
       "      <th>dep_2</th>\n",
       "      <th>dep_3</th>\n",
       "      <th>dep_4</th>\n",
       "      <th>dep_5</th>\n",
       "      <th>dep_6</th>\n",
       "      <th>dep_7</th>\n",
       "      <th>dep_8</th>\n",
       "      <th>dep_9</th>\n",
       "      <th>dep_10</th>\n",
       "      <th>dep_11</th>\n",
       "      <th>dep_12</th>\n",
       "      <th>dep_13</th>\n",
       "      <th>dep_14</th>\n",
       "      <th>dep_15</th>\n",
       "      <th>dep_16</th>\n",
       "      <th>dep_17</th>\n",
       "      <th>dep_18</th>\n",
       "      <th>dep_19</th>\n",
       "      <th>dep_20</th>\n",
       "      <th>gen_2</th>\n",
       "      <th>gen_3</th>\n",
       "      <th>gen_4</th>\n",
       "      <th>gen_5</th>\n",
       "      <th>race_2</th>\n",
       "      <th>race_3</th>\n",
       "      <th>race_4</th>\n",
       "      <th>race_5</th>\n",
       "      <th>race_6</th>\n",
       "      <th>race_7</th>\n",
       "      <th>race_8</th>\n",
       "      <th>race_9</th>\n",
       "      <th>race_10</th>\n",
       "      <th>com_user_1</th>\n",
       "      <th>com_user_2</th>\n",
       "      <th>com_1</th>\n",
       "      <th>com_2</th>\n",
       "      <th>com_3</th>\n",
       "    </tr>\n",
       "  </thead>\n",
       "  <tbody>\n",
       "    <tr>\n",
       "      <th>14</th>\n",
       "      <td>6/18/2020 10:26</td>\n",
       "      <td>11</td>\n",
       "      <td>NaN</td>\n",
       "      <td>2</td>\n",
       "      <td>2</td>\n",
       "      <td>10</td>\n",
       "      <td>1</td>\n",
       "      <td>2</td>\n",
       "      <td>14</td>\n",
       "      <td>NaN</td>\n",
       "      <td>No</td>\n",
       "      <td>Built-in to my computer</td>\n",
       "      <td>Average</td>\n",
       "      <td>Apple Macbook Pro</td>\n",
       "      <td>Own</td>\n",
       "      <td>1</td>\n",
       "      <td>14</td>\n",
       "      <td>2</td>\n",
       "      <td>1</td>\n",
       "      <td>2</td>\n",
       "      <td>2</td>\n",
       "      <td>No</td>\n",
       "      <td>NaN</td>\n",
       "      <td>NaN</td>\n",
       "      <td>NaN</td>\n",
       "      <td>NaN</td>\n",
       "      <td>NaN</td>\n",
       "      <td>No</td>\n",
       "      <td>No</td>\n",
       "      <td>NaN</td>\n",
       "      <td>Yes</td>\n",
       "      <td>iPhone</td>\n",
       "      <td>iPhone 8</td>\n",
       "      <td>No</td>\n",
       "      <td>NaN</td>\n",
       "      <td>NaN</td>\n",
       "      <td>Neutral</td>\n",
       "      <td>100 - 300 Mbps</td>\n",
       "      <td>Average</td>\n",
       "      <td>Complete</td>\n",
       "      <td>0</td>\n",
       "      <td>1</td>\n",
       "      <td>0</td>\n",
       "      <td>1</td>\n",
       "      <td>0</td>\n",
       "      <td>0</td>\n",
       "      <td>0</td>\n",
       "      <td>0</td>\n",
       "      <td>0</td>\n",
       "      <td>0</td>\n",
       "      <td>0</td>\n",
       "      <td>0</td>\n",
       "      <td>0</td>\n",
       "      <td>0</td>\n",
       "      <td>0</td>\n",
       "      <td>0</td>\n",
       "      <td>0</td>\n",
       "      <td>0</td>\n",
       "      <td>0</td>\n",
       "      <td>0</td>\n",
       "      <td>0</td>\n",
       "      <td>0</td>\n",
       "      <td>1</td>\n",
       "      <td>0</td>\n",
       "      <td>0</td>\n",
       "      <td>0</td>\n",
       "      <td>0</td>\n",
       "      <td>0</td>\n",
       "      <td>0</td>\n",
       "      <td>0</td>\n",
       "      <td>0</td>\n",
       "      <td>0</td>\n",
       "      <td>0</td>\n",
       "      <td>0</td>\n",
       "      <td>1</td>\n",
       "      <td>1</td>\n",
       "      <td>0</td>\n",
       "      <td>0</td>\n",
       "      <td>1</td>\n",
       "      <td>0</td>\n",
       "    </tr>\n",
       "  </tbody>\n",
       "</table>\n",
       "</div>"
      ],
      "text/plain": [
       "   survey_timestamp  participant_class college   department  Gender  race  \\\n",
       "14  6/18/2020 10:26                 11      NaN           2       2    10   \n",
       "\n",
       "    computer_user_type  pc/laptop  screen_size screen_size_other warranty  \\\n",
       "14                   1          2           14               NaN       No   \n",
       "\n",
       "                     webcam computer_rating     computer_model  \\\n",
       "14  Built-in to my computer         Average  Apple Macbook Pro   \n",
       "\n",
       "   computer_ownership  os os_version  processor  memory  harddisk  \\\n",
       "14                Own   1         14          2       1         2   \n",
       "\n",
       "    data_sizein_computer data_backup backup_method external_backup_disk_brand  \\\n",
       "14                     2          No           NaN                        NaN   \n",
       "\n",
       "   cloud_brand backup_freq automatic_backup loss_of_data  \\\n",
       "14         NaN         NaN              NaN           No   \n",
       "\n",
       "   have-secondary_computer secondary_primary_sync have_smartphone  \\\n",
       "14                      No                    NaN             Yes   \n",
       "\n",
       "   smartphone_brand smartphone_model have_smartwatch smartwatch_brand  \\\n",
       "14           iPhone         iPhone 8              No              NaN   \n",
       "\n",
       "   smartwatch_model confidence_level_on_sw_installation  internet_speed  \\\n",
       "14              NaN                             Neutral  100 - 300 Mbps   \n",
       "\n",
       "   internet_connection_reliability Completion_status  Other  Own  \\\n",
       "14                         Average          Complete      0    1   \n",
       "\n",
       "    University property  dep_2  dep_3  dep_4  dep_5  dep_6  dep_7  dep_8  \\\n",
       "14                    0      1      0      0      0      0      0      0   \n",
       "\n",
       "    dep_9  dep_10  dep_11  dep_12  dep_13  dep_14  dep_15  dep_16  dep_17  \\\n",
       "14      0       0       0       0       0       0       0       0       0   \n",
       "\n",
       "    dep_18  dep_19  dep_20  gen_2  gen_3  gen_4  gen_5  race_2  race_3  \\\n",
       "14       0       0       0      1      0      0      0       0       0   \n",
       "\n",
       "    race_4  race_5  race_6  race_7  race_8  race_9  race_10  com_user_1  \\\n",
       "14       0       0       0       0       0       0        1           1   \n",
       "\n",
       "    com_user_2  com_1  com_2  com_3  \n",
       "14           0      0      1      0  "
      ]
     },
     "execution_count": 75,
     "metadata": {},
     "output_type": "execute_result"
    }
   ],
   "source": [
    "new_df.head(1)"
   ]
  },
  {
   "cell_type": "code",
   "execution_count": 76,
   "metadata": {},
   "outputs": [],
   "source": [
    "new_df_model = new_df[['participant_class', 'Other', 'Own', 'University property','dep_2','dep_3', 'dep_4','dep_5','dep_6','dep_7',\n",
    "                 'dep_8','dep_9','dep_10','dep_11','dep_12','dep_13','dep_14','dep_15','dep_16','dep_17','dep_18','dep_19',\n",
    "                 'dep_20','com_user_1','com_user_2','com_1','com_2','com_3','gen_2','gen_3','gen_4','gen_5','race_2','race_3','race_4','race_5','race_6','race_7','race_8','race_9',\n",
    "                'race_10','os', 'processor', 'memory','harddisk']]"
   ]
  },
  {
   "cell_type": "code",
   "execution_count": 77,
   "metadata": {},
   "outputs": [
    {
     "data": {
      "text/html": [
       "<div>\n",
       "<style scoped>\n",
       "    .dataframe tbody tr th:only-of-type {\n",
       "        vertical-align: middle;\n",
       "    }\n",
       "\n",
       "    .dataframe tbody tr th {\n",
       "        vertical-align: top;\n",
       "    }\n",
       "\n",
       "    .dataframe thead th {\n",
       "        text-align: right;\n",
       "    }\n",
       "</style>\n",
       "<table border=\"1\" class=\"dataframe\">\n",
       "  <thead>\n",
       "    <tr style=\"text-align: right;\">\n",
       "      <th></th>\n",
       "      <th>participant_class</th>\n",
       "      <th>Other</th>\n",
       "      <th>Own</th>\n",
       "      <th>University property</th>\n",
       "      <th>dep_2</th>\n",
       "      <th>dep_3</th>\n",
       "      <th>dep_4</th>\n",
       "      <th>dep_5</th>\n",
       "      <th>dep_6</th>\n",
       "      <th>dep_7</th>\n",
       "      <th>dep_8</th>\n",
       "      <th>dep_9</th>\n",
       "      <th>dep_10</th>\n",
       "      <th>dep_11</th>\n",
       "      <th>dep_12</th>\n",
       "      <th>dep_13</th>\n",
       "      <th>dep_14</th>\n",
       "      <th>dep_15</th>\n",
       "      <th>dep_16</th>\n",
       "      <th>dep_17</th>\n",
       "      <th>dep_18</th>\n",
       "      <th>dep_19</th>\n",
       "      <th>dep_20</th>\n",
       "      <th>com_user_1</th>\n",
       "      <th>com_user_2</th>\n",
       "      <th>com_1</th>\n",
       "      <th>com_2</th>\n",
       "      <th>com_3</th>\n",
       "      <th>gen_2</th>\n",
       "      <th>gen_3</th>\n",
       "      <th>gen_4</th>\n",
       "      <th>gen_5</th>\n",
       "      <th>race_2</th>\n",
       "      <th>race_3</th>\n",
       "      <th>race_4</th>\n",
       "      <th>race_5</th>\n",
       "      <th>race_6</th>\n",
       "      <th>race_7</th>\n",
       "      <th>race_8</th>\n",
       "      <th>race_9</th>\n",
       "      <th>race_10</th>\n",
       "      <th>os</th>\n",
       "      <th>processor</th>\n",
       "      <th>memory</th>\n",
       "      <th>harddisk</th>\n",
       "    </tr>\n",
       "  </thead>\n",
       "  <tbody>\n",
       "    <tr>\n",
       "      <th>14</th>\n",
       "      <td>11</td>\n",
       "      <td>0</td>\n",
       "      <td>1</td>\n",
       "      <td>0</td>\n",
       "      <td>1</td>\n",
       "      <td>0</td>\n",
       "      <td>0</td>\n",
       "      <td>0</td>\n",
       "      <td>0</td>\n",
       "      <td>0</td>\n",
       "      <td>0</td>\n",
       "      <td>0</td>\n",
       "      <td>0</td>\n",
       "      <td>0</td>\n",
       "      <td>0</td>\n",
       "      <td>0</td>\n",
       "      <td>0</td>\n",
       "      <td>0</td>\n",
       "      <td>0</td>\n",
       "      <td>0</td>\n",
       "      <td>0</td>\n",
       "      <td>0</td>\n",
       "      <td>0</td>\n",
       "      <td>1</td>\n",
       "      <td>0</td>\n",
       "      <td>0</td>\n",
       "      <td>1</td>\n",
       "      <td>0</td>\n",
       "      <td>1</td>\n",
       "      <td>0</td>\n",
       "      <td>0</td>\n",
       "      <td>0</td>\n",
       "      <td>0</td>\n",
       "      <td>0</td>\n",
       "      <td>0</td>\n",
       "      <td>0</td>\n",
       "      <td>0</td>\n",
       "      <td>0</td>\n",
       "      <td>0</td>\n",
       "      <td>0</td>\n",
       "      <td>1</td>\n",
       "      <td>1</td>\n",
       "      <td>2</td>\n",
       "      <td>1</td>\n",
       "      <td>2</td>\n",
       "    </tr>\n",
       "    <tr>\n",
       "      <th>15</th>\n",
       "      <td>4</td>\n",
       "      <td>0</td>\n",
       "      <td>1</td>\n",
       "      <td>0</td>\n",
       "      <td>0</td>\n",
       "      <td>1</td>\n",
       "      <td>0</td>\n",
       "      <td>0</td>\n",
       "      <td>0</td>\n",
       "      <td>0</td>\n",
       "      <td>0</td>\n",
       "      <td>0</td>\n",
       "      <td>0</td>\n",
       "      <td>0</td>\n",
       "      <td>0</td>\n",
       "      <td>0</td>\n",
       "      <td>0</td>\n",
       "      <td>0</td>\n",
       "      <td>0</td>\n",
       "      <td>0</td>\n",
       "      <td>0</td>\n",
       "      <td>0</td>\n",
       "      <td>0</td>\n",
       "      <td>0</td>\n",
       "      <td>1</td>\n",
       "      <td>0</td>\n",
       "      <td>0</td>\n",
       "      <td>1</td>\n",
       "      <td>0</td>\n",
       "      <td>0</td>\n",
       "      <td>1</td>\n",
       "      <td>0</td>\n",
       "      <td>0</td>\n",
       "      <td>0</td>\n",
       "      <td>0</td>\n",
       "      <td>0</td>\n",
       "      <td>0</td>\n",
       "      <td>0</td>\n",
       "      <td>0</td>\n",
       "      <td>0</td>\n",
       "      <td>0</td>\n",
       "      <td>2</td>\n",
       "      <td>3</td>\n",
       "      <td>3</td>\n",
       "      <td>3</td>\n",
       "    </tr>\n",
       "    <tr>\n",
       "      <th>16</th>\n",
       "      <td>4</td>\n",
       "      <td>0</td>\n",
       "      <td>1</td>\n",
       "      <td>0</td>\n",
       "      <td>0</td>\n",
       "      <td>1</td>\n",
       "      <td>0</td>\n",
       "      <td>0</td>\n",
       "      <td>0</td>\n",
       "      <td>0</td>\n",
       "      <td>0</td>\n",
       "      <td>0</td>\n",
       "      <td>0</td>\n",
       "      <td>0</td>\n",
       "      <td>0</td>\n",
       "      <td>0</td>\n",
       "      <td>0</td>\n",
       "      <td>0</td>\n",
       "      <td>0</td>\n",
       "      <td>0</td>\n",
       "      <td>0</td>\n",
       "      <td>0</td>\n",
       "      <td>0</td>\n",
       "      <td>0</td>\n",
       "      <td>1</td>\n",
       "      <td>0</td>\n",
       "      <td>0</td>\n",
       "      <td>1</td>\n",
       "      <td>0</td>\n",
       "      <td>0</td>\n",
       "      <td>0</td>\n",
       "      <td>1</td>\n",
       "      <td>0</td>\n",
       "      <td>0</td>\n",
       "      <td>0</td>\n",
       "      <td>0</td>\n",
       "      <td>0</td>\n",
       "      <td>0</td>\n",
       "      <td>0</td>\n",
       "      <td>0</td>\n",
       "      <td>0</td>\n",
       "      <td>2</td>\n",
       "      <td>2</td>\n",
       "      <td>2</td>\n",
       "      <td>2</td>\n",
       "    </tr>\n",
       "    <tr>\n",
       "      <th>17</th>\n",
       "      <td>7</td>\n",
       "      <td>0</td>\n",
       "      <td>1</td>\n",
       "      <td>0</td>\n",
       "      <td>0</td>\n",
       "      <td>1</td>\n",
       "      <td>0</td>\n",
       "      <td>0</td>\n",
       "      <td>0</td>\n",
       "      <td>0</td>\n",
       "      <td>0</td>\n",
       "      <td>0</td>\n",
       "      <td>0</td>\n",
       "      <td>0</td>\n",
       "      <td>0</td>\n",
       "      <td>0</td>\n",
       "      <td>0</td>\n",
       "      <td>0</td>\n",
       "      <td>0</td>\n",
       "      <td>0</td>\n",
       "      <td>0</td>\n",
       "      <td>0</td>\n",
       "      <td>0</td>\n",
       "      <td>0</td>\n",
       "      <td>1</td>\n",
       "      <td>0</td>\n",
       "      <td>0</td>\n",
       "      <td>1</td>\n",
       "      <td>0</td>\n",
       "      <td>0</td>\n",
       "      <td>1</td>\n",
       "      <td>0</td>\n",
       "      <td>0</td>\n",
       "      <td>0</td>\n",
       "      <td>0</td>\n",
       "      <td>0</td>\n",
       "      <td>0</td>\n",
       "      <td>0</td>\n",
       "      <td>0</td>\n",
       "      <td>0</td>\n",
       "      <td>0</td>\n",
       "      <td>3</td>\n",
       "      <td>3</td>\n",
       "      <td>2</td>\n",
       "      <td>5</td>\n",
       "    </tr>\n",
       "    <tr>\n",
       "      <th>18</th>\n",
       "      <td>4</td>\n",
       "      <td>0</td>\n",
       "      <td>1</td>\n",
       "      <td>0</td>\n",
       "      <td>0</td>\n",
       "      <td>0</td>\n",
       "      <td>1</td>\n",
       "      <td>0</td>\n",
       "      <td>0</td>\n",
       "      <td>0</td>\n",
       "      <td>0</td>\n",
       "      <td>0</td>\n",
       "      <td>0</td>\n",
       "      <td>0</td>\n",
       "      <td>0</td>\n",
       "      <td>0</td>\n",
       "      <td>0</td>\n",
       "      <td>0</td>\n",
       "      <td>0</td>\n",
       "      <td>0</td>\n",
       "      <td>0</td>\n",
       "      <td>0</td>\n",
       "      <td>0</td>\n",
       "      <td>1</td>\n",
       "      <td>0</td>\n",
       "      <td>0</td>\n",
       "      <td>0</td>\n",
       "      <td>1</td>\n",
       "      <td>0</td>\n",
       "      <td>0</td>\n",
       "      <td>0</td>\n",
       "      <td>1</td>\n",
       "      <td>1</td>\n",
       "      <td>0</td>\n",
       "      <td>0</td>\n",
       "      <td>0</td>\n",
       "      <td>0</td>\n",
       "      <td>0</td>\n",
       "      <td>0</td>\n",
       "      <td>0</td>\n",
       "      <td>0</td>\n",
       "      <td>1</td>\n",
       "      <td>2</td>\n",
       "      <td>2</td>\n",
       "      <td>1</td>\n",
       "    </tr>\n",
       "  </tbody>\n",
       "</table>\n",
       "</div>"
      ],
      "text/plain": [
       "    participant_class  Other  Own  University property  dep_2  dep_3  dep_4  \\\n",
       "14                 11      0    1                    0      1      0      0   \n",
       "15                  4      0    1                    0      0      1      0   \n",
       "16                  4      0    1                    0      0      1      0   \n",
       "17                  7      0    1                    0      0      1      0   \n",
       "18                  4      0    1                    0      0      0      1   \n",
       "\n",
       "    dep_5  dep_6  dep_7  dep_8  dep_9  dep_10  dep_11  dep_12  dep_13  dep_14  \\\n",
       "14      0      0      0      0      0       0       0       0       0       0   \n",
       "15      0      0      0      0      0       0       0       0       0       0   \n",
       "16      0      0      0      0      0       0       0       0       0       0   \n",
       "17      0      0      0      0      0       0       0       0       0       0   \n",
       "18      0      0      0      0      0       0       0       0       0       0   \n",
       "\n",
       "    dep_15  dep_16  dep_17  dep_18  dep_19  dep_20  com_user_1  com_user_2  \\\n",
       "14       0       0       0       0       0       0           1           0   \n",
       "15       0       0       0       0       0       0           0           1   \n",
       "16       0       0       0       0       0       0           0           1   \n",
       "17       0       0       0       0       0       0           0           1   \n",
       "18       0       0       0       0       0       0           1           0   \n",
       "\n",
       "    com_1  com_2  com_3  gen_2  gen_3  gen_4  gen_5  race_2  race_3  race_4  \\\n",
       "14      0      1      0      1      0      0      0       0       0       0   \n",
       "15      0      0      1      0      0      1      0       0       0       0   \n",
       "16      0      0      1      0      0      0      1       0       0       0   \n",
       "17      0      0      1      0      0      1      0       0       0       0   \n",
       "18      0      0      1      0      0      0      1       1       0       0   \n",
       "\n",
       "    race_5  race_6  race_7  race_8  race_9  race_10  os  processor  memory  \\\n",
       "14       0       0       0       0       0        1   1          2       1   \n",
       "15       0       0       0       0       0        0   2          3       3   \n",
       "16       0       0       0       0       0        0   2          2       2   \n",
       "17       0       0       0       0       0        0   3          3       2   \n",
       "18       0       0       0       0       0        0   1          2       2   \n",
       "\n",
       "    harddisk  \n",
       "14         2  \n",
       "15         3  \n",
       "16         2  \n",
       "17         5  \n",
       "18         1  "
      ]
     },
     "execution_count": 77,
     "metadata": {},
     "output_type": "execute_result"
    }
   ],
   "source": [
    "new_df_model.head()"
   ]
  },
  {
   "cell_type": "code",
   "execution_count": 132,
   "metadata": {},
   "outputs": [],
   "source": [
    "new_df_model.to_csv('new_df_data.csv', index= False)"
   ]
  },
  {
   "cell_type": "code",
   "execution_count": 79,
   "metadata": {},
   "outputs": [
    {
     "data": {
      "text/plain": [
       "1.7683823529411764"
      ]
     },
     "execution_count": 79,
     "metadata": {},
     "output_type": "execute_result"
    }
   ],
   "source": [
    "new_df_model.os.mean()"
   ]
  },
  {
   "cell_type": "markdown",
   "metadata": {},
   "source": [
    "# Model creation"
   ]
  },
  {
   "cell_type": "code",
   "execution_count": 80,
   "metadata": {},
   "outputs": [],
   "source": [
    "X = new_df_model.iloc[:,:-4].values\n",
    "y = new_df_model.iloc[:, -4].values"
   ]
  },
  {
   "cell_type": "code",
   "execution_count": 81,
   "metadata": {},
   "outputs": [
    {
     "data": {
      "text/plain": [
       "(1088, 41)"
      ]
     },
     "execution_count": 81,
     "metadata": {},
     "output_type": "execute_result"
    }
   ],
   "source": [
    "X.shape"
   ]
  },
  {
   "cell_type": "code",
   "execution_count": 82,
   "metadata": {},
   "outputs": [
    {
     "name": "stdout",
     "output_type": "stream",
     "text": [
      "[[11  0  1 ...  0  0  1]\n",
      " [ 4  0  1 ...  0  0  0]\n",
      " [ 4  0  1 ...  0  0  0]\n",
      " ...\n",
      " [ 1  0  1 ...  0  0  0]\n",
      " [16  0  0 ...  0  0  0]\n",
      " [ 1  0  1 ...  0  0  0]]\n"
     ]
    }
   ],
   "source": [
    "print(X)"
   ]
  },
  {
   "cell_type": "code",
   "execution_count": 83,
   "metadata": {},
   "outputs": [
    {
     "name": "stdout",
     "output_type": "stream",
     "text": [
      "[1 2 2 ... 2 2 2]\n"
     ]
    }
   ],
   "source": [
    "print(y)"
   ]
  },
  {
   "cell_type": "code",
   "execution_count": 84,
   "metadata": {},
   "outputs": [
    {
     "data": {
      "text/plain": [
       "2    556\n",
       "1    442\n",
       "4     63\n",
       "3     13\n",
       "6      9\n",
       "5      5\n",
       "Name: os, dtype: int64"
      ]
     },
     "execution_count": 84,
     "metadata": {},
     "output_type": "execute_result"
    }
   ],
   "source": [
    "new_df_model.os.value_counts()"
   ]
  },
  {
   "cell_type": "code",
   "execution_count": 85,
   "metadata": {},
   "outputs": [
    {
     "data": {
      "text/plain": [
       "2    421\n",
       "3    342\n",
       "4    136\n",
       "5    130\n",
       "1     59\n",
       "Name: processor, dtype: int64"
      ]
     },
     "execution_count": 85,
     "metadata": {},
     "output_type": "execute_result"
    }
   ],
   "source": [
    "new_df_model.processor.value_counts()"
   ]
  },
  {
   "cell_type": "code",
   "execution_count": 86,
   "metadata": {},
   "outputs": [
    {
     "data": {
      "text/plain": [
       "2    432\n",
       "3    324\n",
       "4    128\n",
       "1    127\n",
       "5     77\n",
       "Name: memory, dtype: int64"
      ]
     },
     "execution_count": 86,
     "metadata": {},
     "output_type": "execute_result"
    }
   ],
   "source": [
    "new_df_model.memory.value_counts()"
   ]
  },
  {
   "cell_type": "code",
   "execution_count": 87,
   "metadata": {},
   "outputs": [
    {
     "data": {
      "text/plain": [
       "1    390\n",
       "2    293\n",
       "3    177\n",
       "4    161\n",
       "5     67\n",
       "Name: harddisk, dtype: int64"
      ]
     },
     "execution_count": 87,
     "metadata": {},
     "output_type": "execute_result"
    }
   ],
   "source": [
    "new_df_model.harddisk.value_counts()"
   ]
  },
  {
   "cell_type": "code",
   "execution_count": 88,
   "metadata": {},
   "outputs": [],
   "source": [
    "\n",
    "X_train, X_test, y_train, y_test = train_test_split(X, y, test_size = 0.2, random_state = 1, stratify = y)\n",
    "#stratify=y. This tells train_test_split to make sure that the training and test datasets contain examples of each class in\n",
    "#the same proportions as in the original dataset."
   ]
  },
  {
   "cell_type": "markdown",
   "metadata": {},
   "source": [
    "# Logistic Regression"
   ]
  },
  {
   "cell_type": "code",
   "execution_count": 131,
   "metadata": {},
   "outputs": [
    {
     "data": {
      "text/plain": [
       "LogisticRegression(C=1.0, class_weight=None, dual=False, fit_intercept=True,\n",
       "                   intercept_scaling=1, l1_ratio=None, max_iter=1000,\n",
       "                   multi_class='auto', n_jobs=None, penalty='l2',\n",
       "                   random_state=None, solver='saga', tol=0.0001, verbose=0,\n",
       "                   warm_start=False)"
      ]
     },
     "execution_count": 131,
     "metadata": {},
     "output_type": "execute_result"
    }
   ],
   "source": [
    "\n",
    "log_regressor = LogisticRegression(C = 0.25, penalty= 'l1', solver= 'saga', max_iter=1000)\n",
    "log_regressor.fit(X_train, y_train)"
   ]
  },
  {
   "cell_type": "code",
   "execution_count": 90,
   "metadata": {},
   "outputs": [],
   "source": [
    "y_pred_test_log = log_regressor.predict(X_test)"
   ]
  },
  {
   "cell_type": "code",
   "execution_count": 91,
   "metadata": {},
   "outputs": [],
   "source": [
    "#print(y_pred_test_log)"
   ]
  },
  {
   "cell_type": "code",
   "execution_count": 92,
   "metadata": {},
   "outputs": [
    {
     "name": "stdout",
     "output_type": "stream",
     "text": [
      "Misclassified samples: 99\n",
      "Accuracy: 0.55\n"
     ]
    }
   ],
   "source": [
    "count_misclassified = (y_test != y_pred_test_log).sum()\n",
    "print('Misclassified samples: {}'.format(count_misclassified))\n",
    "accuracy_log = metrics.accuracy_score(y_test, y_pred_test_log)\n",
    "print('Accuracy: {:.2f}'.format(accuracy_log))\n"
   ]
  },
  {
   "cell_type": "code",
   "execution_count": 93,
   "metadata": {},
   "outputs": [
    {
     "name": "stdout",
     "output_type": "stream",
     "text": [
      "Accuracy: 53.22 %\n",
      "Standard Deviation: 2.08 %\n"
     ]
    }
   ],
   "source": [
    "accuracies1 = cross_val_score(estimator = log_regressor, X = X_train, y = y_train, cv = 3)\n",
    "print(\"Accuracy: {:.2f} %\".format(accuracies1.mean()*100))\n",
    "print(\"Standard Deviation: {:.2f} %\".format(accuracies1.std()*100))"
   ]
  },
  {
   "cell_type": "code",
   "execution_count": 133,
   "metadata": {},
   "outputs": [
    {
     "name": "stdout",
     "output_type": "stream",
     "text": [
      "[[48 40  0  0  0  0]\n",
      " [41 70  0  0  0  0]\n",
      " [ 0  3  0  0  0  0]\n",
      " [ 4  9  0  0  0  0]\n",
      " [ 0  1  0  0  0  0]\n",
      " [ 0  1  0  0  0  1]]\n",
      "              precision    recall  f1-score   support\n",
      "\n",
      "           1       0.52      0.55      0.53        88\n",
      "           2       0.56      0.63      0.60       111\n",
      "           3       0.00      0.00      0.00         3\n",
      "           4       0.00      0.00      0.00        13\n",
      "           5       0.00      0.00      0.00         1\n",
      "           6       1.00      0.50      0.67         2\n",
      "\n",
      "    accuracy                           0.55       218\n",
      "   macro avg       0.35      0.28      0.30       218\n",
      "weighted avg       0.50      0.55      0.52       218\n",
      "\n"
     ]
    },
    {
     "name": "stderr",
     "output_type": "stream",
     "text": [
      "C:\\Users\\Imtiaz\\anaconda3\\lib\\site-packages\\sklearn\\metrics\\_classification.py:1272: UndefinedMetricWarning: Precision and F-score are ill-defined and being set to 0.0 in labels with no predicted samples. Use `zero_division` parameter to control this behavior.\n",
      "  _warn_prf(average, modifier, msg_start, len(result))\n"
     ]
    }
   ],
   "source": [
    "cm = confusion_matrix(y_test, y_pred_test_log)\n",
    "print(cm)\n",
    "# print(\"Accuracy: : {:.2f} %\".format(metrics.accuracy_score(y_test, y_pred_test_knn)))\n",
    "print(classification_report(y_test, y_pred_test_log))"
   ]
  },
  {
   "cell_type": "code",
   "execution_count": 94,
   "metadata": {},
   "outputs": [
    {
     "name": "stdout",
     "output_type": "stream",
     "text": [
      "Best Accuracy: 55.63 %\n",
      "Best Parameters: {'C': 0.25, 'max_iter': 400, 'penalty': 'l1', 'solver': 'saga'}\n"
     ]
    },
    {
     "name": "stderr",
     "output_type": "stream",
     "text": [
      "C:\\Users\\Imtiaz\\anaconda3\\lib\\site-packages\\sklearn\\linear_model\\_sag.py:330: ConvergenceWarning: The max_iter was reached which means the coef_ did not converge\n",
      "  \"the coef_ did not converge\", ConvergenceWarning)\n"
     ]
    }
   ],
   "source": [
    "parameters = [{'penalty': ['l1', 'l2'], 'C': [0.25, 0.50, 0.75, 1.0], 'solver': ['newton-cg', 'lbfgs', 'liblinear', 'sag',\n",
    "                                                                                 'saga'], 'max_iter': [100, 200, 300, 400, 500]}]\n",
    "grid_search = GridSearchCV(estimator = log_regressor,\n",
    "                           param_grid = parameters,\n",
    "                           scoring = 'accuracy',\n",
    "                           cv = 3,\n",
    "                           n_jobs = -1)\n",
    "grid_search.fit(X_train, y_train)\n",
    "best_accuracy = grid_search.best_score_\n",
    "best_parameters = grid_search.best_params_\n",
    "print(\"Best Accuracy: {:.2f} %\".format(best_accuracy*100))\n",
    "print(\"Best Parameters:\", best_parameters)"
   ]
  },
  {
   "cell_type": "markdown",
   "metadata": {},
   "source": [
    "# Random Forest"
   ]
  },
  {
   "cell_type": "code",
   "execution_count": 140,
   "metadata": {},
   "outputs": [
    {
     "data": {
      "text/plain": [
       "RandomForestClassifier(bootstrap=True, ccp_alpha=0.0, class_weight=None,\n",
       "                       criterion='entropy', max_depth=None, max_features=0.4,\n",
       "                       max_leaf_nodes=None, max_samples=None,\n",
       "                       min_impurity_decrease=0.0, min_impurity_split=None,\n",
       "                       min_samples_leaf=1, min_samples_split=2,\n",
       "                       min_weight_fraction_leaf=0.0, n_estimators=300,\n",
       "                       n_jobs=None, oob_score=False, random_state=1, verbose=0,\n",
       "                       warm_start=False)"
      ]
     },
     "execution_count": 140,
     "metadata": {},
     "output_type": "execute_result"
    }
   ],
   "source": [
    "RFclassifier = RandomForestClassifier(criterion= 'entropy', max_features= 0.4, n_estimators= 300, random_state=1)\n",
    "RFclassifier.fit(X_train, y_train)"
   ]
  },
  {
   "cell_type": "code",
   "execution_count": 141,
   "metadata": {},
   "outputs": [],
   "source": [
    "y_pred_test_rf = RFclassifier.predict(X_test)"
   ]
  },
  {
   "cell_type": "code",
   "execution_count": 142,
   "metadata": {},
   "outputs": [],
   "source": [
    "#print(y_pred_test_rf)"
   ]
  },
  {
   "cell_type": "code",
   "execution_count": 143,
   "metadata": {},
   "outputs": [
    {
     "name": "stdout",
     "output_type": "stream",
     "text": [
      "[[37 50  0  1  0  0]\n",
      " [35 74  1  1  0  0]\n",
      " [ 0  3  0  0  0  0]\n",
      " [ 9  4  0  0  0  0]\n",
      " [ 0  1  0  0  0  0]\n",
      " [ 2  0  0  0  0  0]]\n",
      "Accuracy: : 51.83 %\n",
      "              precision    recall  f1-score   support\n",
      "\n",
      "           1       0.48      0.48      0.48        88\n",
      "           2       0.56      0.61      0.59       111\n",
      "           3       0.00      0.00      0.00         3\n",
      "           4       0.33      0.08      0.12        13\n",
      "           5       0.00      0.00      0.00         1\n",
      "           6       1.00      1.00      1.00         2\n",
      "\n",
      "    accuracy                           0.52       218\n",
      "   macro avg       0.40      0.36      0.36       218\n",
      "weighted avg       0.51      0.52      0.51       218\n",
      "\n"
     ]
    },
    {
     "name": "stderr",
     "output_type": "stream",
     "text": [
      "C:\\Users\\Imtiaz\\anaconda3\\lib\\site-packages\\sklearn\\metrics\\_classification.py:1272: UndefinedMetricWarning: Precision and F-score are ill-defined and being set to 0.0 in labels with no predicted samples. Use `zero_division` parameter to control this behavior.\n",
      "  _warn_prf(average, modifier, msg_start, len(result))\n"
     ]
    }
   ],
   "source": [
    "# from sklearn.metrics import accuracy_score, confusion_matrix, classification_report\n",
    "# accuracy_score(y_test, y_pred_test_rf)\n",
    "cm = confusion_matrix(y_test, y_pred_test_knn)\n",
    "print(cm)\n",
    "print(\"Accuracy: : {:.2f} %\".format(metrics.accuracy_score(y_test, y_pred_test_rf)*100))\n",
    "print(classification_report(y_test, y_pred_test_rf))"
   ]
  },
  {
   "cell_type": "markdown",
   "metadata": {},
   "source": [
    "## K-fold cv"
   ]
  },
  {
   "cell_type": "code",
   "execution_count": 144,
   "metadata": {},
   "outputs": [
    {
     "name": "stdout",
     "output_type": "stream",
     "text": [
      "Accuracy: 49.89 %\n",
      "Standard Deviation: 0.59 %\n"
     ]
    }
   ],
   "source": [
    "accuracies2 = cross_val_score(estimator = RFclassifier, X = X_train, y = y_train, cv = 3)\n",
    "print(\"Accuracy: {:.2f} %\".format(accuracies2.mean()*100))\n",
    "print(\"Standard Deviation: {:.2f} %\".format(accuracies2.std()*100))"
   ]
  },
  {
   "cell_type": "markdown",
   "metadata": {},
   "source": [
    "## Grid search "
   ]
  },
  {
   "cell_type": "code",
   "execution_count": 139,
   "metadata": {},
   "outputs": [
    {
     "name": "stdout",
     "output_type": "stream",
     "text": [
      "Best Accuracy: 49.89 %\n",
      "Best Parameters: {'criterion': 'entropy', 'max_features': 0.4, 'n_estimators': 300}\n"
     ]
    }
   ],
   "source": [
    "parameters = [{'n_estimators': [5, 10, 20, 50, 100, 300, 500, 1000], 'criterion': ['gini', 'entropy'],'max_features' : \n",
    "               ['auto', 'log2', 0.4,0.6, 0.8, 1.0]}]\n",
    "grid_search = GridSearchCV(estimator = RFclassifier,\n",
    "                           param_grid = parameters,\n",
    "                           scoring = 'accuracy',\n",
    "                           cv = 3,\n",
    "                           n_jobs = -1)\n",
    "grid_search.fit(X_train, y_train)\n",
    "best_accuracy = grid_search.best_score_\n",
    "best_parameters = grid_search.best_params_\n",
    "print(\"Best Accuracy: {:.2f} %\".format(best_accuracy*100))\n",
    "print(\"Best Parameters:\", best_parameters)"
   ]
  },
  {
   "cell_type": "code",
   "execution_count": 99,
   "metadata": {},
   "outputs": [
    {
     "data": {
      "text/plain": [
       "array([[43, 43,  1,  1,  0,  0],\n",
       "       [37, 71,  2,  1,  0,  0],\n",
       "       [ 0,  3,  0,  0,  0,  0],\n",
       "       [ 7,  5,  0,  1,  0,  0],\n",
       "       [ 0,  1,  0,  0,  0,  0],\n",
       "       [ 0,  1,  0,  0,  0,  1]], dtype=int64)"
      ]
     },
     "execution_count": 99,
     "metadata": {},
     "output_type": "execute_result"
    }
   ],
   "source": [
    "# confusion_matrix(y_test, y_pred_test_rf)"
   ]
  },
  {
   "cell_type": "code",
   "execution_count": 100,
   "metadata": {},
   "outputs": [
    {
     "data": {
      "image/png": "[encoded data removed]",
      "text/plain": [
       "<Figure size 1152x504 with 2 Axes>"
      ]
     },
     "metadata": {
      "needs_background": "light"
     },
     "output_type": "display_data"
    }
   ],
   "source": [
    "# Get and reshape confusion matrix data\n",
    "matrix = confusion_matrix(y_test, y_pred_test_rf)\n",
    "matrix = matrix.astype('float') / matrix.sum(axis=1)[:, np.newaxis]\n",
    "\n",
    "# Build the plot\n",
    "plt.figure(figsize=(16,7))\n",
    "sns.set(font_scale=1.4)\n",
    "sns.heatmap(matrix, annot=True, annot_kws={'size':10},\n",
    "            cmap=plt.cm.Greens, linewidths=0.2)\n",
    "\n",
    "# Add labels to the plot\n",
    "class_names = ['mac os', 'windows os', 'linux', 'chrome os','multiple os', 'other']\n",
    "tick_marks = np.arange(len(class_names))\n",
    "tick_marks2 = tick_marks + 0.5\n",
    "plt.xticks(tick_marks, class_names, rotation=25)\n",
    "plt.yticks(tick_marks2, class_names, rotation=0)\n",
    "plt.xlabel('Predicted label')\n",
    "plt.ylabel('True label')\n",
    "plt.title('Confusion Matrix for Random Forest Model')\n",
    "plt.show()"
   ]
  },
  {
   "cell_type": "code",
   "execution_count": 101,
   "metadata": {},
   "outputs": [
    {
     "name": "stdout",
     "output_type": "stream",
     "text": [
      "              precision    recall  f1-score   support\n",
      "\n",
      "           1       0.49      0.49      0.49        88\n",
      "           2       0.57      0.64      0.60       111\n",
      "           3       0.00      0.00      0.00         3\n",
      "           4       0.33      0.08      0.12        13\n",
      "           5       0.00      0.00      0.00         1\n",
      "           6       1.00      0.50      0.67         2\n",
      "\n",
      "    accuracy                           0.53       218\n",
      "   macro avg       0.40      0.28      0.31       218\n",
      "weighted avg       0.52      0.53      0.52       218\n",
      "\n"
     ]
    },
    {
     "name": "stderr",
     "output_type": "stream",
     "text": [
      "C:\\Users\\Imtiaz\\anaconda3\\lib\\site-packages\\sklearn\\metrics\\_classification.py:1272: UndefinedMetricWarning: Precision and F-score are ill-defined and being set to 0.0 in labels with no predicted samples. Use `zero_division` parameter to control this behavior.\n",
      "  _warn_prf(average, modifier, msg_start, len(result))\n"
     ]
    }
   ],
   "source": [
    "# print(classification_report(y_test, y_pred_test_rf, zero_division = 'warn'))"
   ]
  },
  {
   "cell_type": "code",
   "execution_count": 102,
   "metadata": {},
   "outputs": [
    {
     "data": {
      "text/plain": [
       "{5}"
      ]
     },
     "execution_count": 102,
     "metadata": {},
     "output_type": "execute_result"
    }
   ],
   "source": [
    "set(y_test) - set(y_pred_test_rf)"
   ]
  },
  {
   "cell_type": "markdown",
   "metadata": {},
   "source": [
    "# KNeighborsClassifier"
   ]
  },
  {
   "cell_type": "code",
   "execution_count": 151,
   "metadata": {},
   "outputs": [
    {
     "data": {
      "text/plain": [
       "KNeighborsClassifier(algorithm='auto', leaf_size=30, metric='minkowski',\n",
       "                     metric_params=None, n_jobs=None, n_neighbors=216, p=2,\n",
       "                     weights='distance')"
      ]
     },
     "execution_count": 151,
     "metadata": {},
     "output_type": "execute_result"
    }
   ],
   "source": [
    "knn = KNeighborsClassifier(n_neighbors= 216, weights= 'distance')\n",
    "knn.fit(X_train, y_train)"
   ]
  },
  {
   "cell_type": "code",
   "execution_count": 152,
   "metadata": {},
   "outputs": [
    {
     "name": "stdout",
     "output_type": "stream",
     "text": [
      "[[37 50  0  1  0  0]\n",
      " [35 74  1  1  0  0]\n",
      " [ 0  3  0  0  0  0]\n",
      " [ 9  4  0  0  0  0]\n",
      " [ 0  1  0  0  0  0]\n",
      " [ 2  0  0  0  0  0]]\n",
      "Accuracy: : 0.51 %\n",
      "              precision    recall  f1-score   support\n",
      "\n",
      "           1       0.45      0.42      0.43        88\n",
      "           2       0.56      0.67      0.61       111\n",
      "           3       0.00      0.00      0.00         3\n",
      "           4       0.00      0.00      0.00        13\n",
      "           5       0.00      0.00      0.00         1\n",
      "           6       0.00      0.00      0.00         2\n",
      "\n",
      "    accuracy                           0.51       218\n",
      "   macro avg       0.17      0.18      0.17       218\n",
      "weighted avg       0.47      0.51      0.48       218\n",
      "\n"
     ]
    },
    {
     "name": "stderr",
     "output_type": "stream",
     "text": [
      "C:\\Users\\Imtiaz\\anaconda3\\lib\\site-packages\\sklearn\\metrics\\_classification.py:1272: UndefinedMetricWarning: Precision and F-score are ill-defined and being set to 0.0 in labels with no predicted samples. Use `zero_division` parameter to control this behavior.\n",
      "  _warn_prf(average, modifier, msg_start, len(result))\n"
     ]
    }
   ],
   "source": [
    "y_pred_test_knn = knn.predict(X_test)\n",
    "\n",
    "cm = confusion_matrix(y_test, y_pred_test_knn)\n",
    "print(cm)\n",
    "print(\"Accuracy: : {:.2f} %\".format(metrics.accuracy_score(y_test, y_pred_test_knn)))\n",
    "print(classification_report(y_test, y_pred_test_knn))"
   ]
  },
  {
   "cell_type": "markdown",
   "metadata": {},
   "source": [
    "## K-fold cv"
   ]
  },
  {
   "cell_type": "code",
   "execution_count": 147,
   "metadata": {},
   "outputs": [
    {
     "name": "stdout",
     "output_type": "stream",
     "text": [
      "Accuracy: 48.16 %\n",
      "Standard Deviation: 1.87 %\n"
     ]
    }
   ],
   "source": [
    "accuracies3 = cross_val_score(estimator = knn, X = X_train, y = y_train, cv = 3)\n",
    "print(\"Accuracy: {:.2f} %\".format(accuracies3.mean()*100))\n",
    "print(\"Standard Deviation: {:.2f} %\".format(accuracies3.std()*100))"
   ]
  },
  {
   "cell_type": "markdown",
   "metadata": {},
   "source": [
    "## Grid search "
   ]
  },
  {
   "cell_type": "code",
   "execution_count": 108,
   "metadata": {},
   "outputs": [
    {
     "name": "stdout",
     "output_type": "stream",
     "text": [
      "Best Accuracy: 53.68 %\n",
      "Best Parameters: {'n_neighbors': 216, 'weights': 'distance'}\n"
     ]
    }
   ],
   "source": [
    "parameters = [{'n_neighbors': [36, 45, 46, 55, 56, 115, 116, 215, 216, 250, 275, 276, 315, 316], 'weights': \n",
    "               ['uniform', 'distance']}]\n",
    "grid_search = GridSearchCV(estimator = knn,\n",
    "                           param_grid = parameters,\n",
    "                           scoring = 'accuracy',\n",
    "                           cv = 3,\n",
    "                           n_jobs = -1)\n",
    "grid_search.fit(X_train, y_train)\n",
    "best_accuracy = grid_search.best_score_\n",
    "best_parameters = grid_search.best_params_\n",
    "print(\"Best Accuracy: {:.2f} %\".format(best_accuracy*100))\n",
    "print(\"Best Parameters:\", best_parameters)"
   ]
  },
  {
   "cell_type": "code",
   "execution_count": 109,
   "metadata": {},
   "outputs": [],
   "source": [
    "#Grid search"
   ]
  },
  {
   "cell_type": "markdown",
   "metadata": {},
   "source": [
    "# Decision tree"
   ]
  },
  {
   "cell_type": "code",
   "execution_count": 156,
   "metadata": {},
   "outputs": [
    {
     "data": {
      "text/plain": [
       "DecisionTreeClassifier(ccp_alpha=0.0, class_weight=None, criterion='entropy',\n",
       "                       max_depth=None, max_features=0.6, max_leaf_nodes=None,\n",
       "                       min_impurity_decrease=0.0, min_impurity_split=None,\n",
       "                       min_samples_leaf=1, min_samples_split=2,\n",
       "                       min_weight_fraction_leaf=0.0, presort='deprecated',\n",
       "                       random_state=0, splitter='best')"
      ]
     },
     "execution_count": 156,
     "metadata": {},
     "output_type": "execute_result"
    }
   ],
   "source": [
    "decision_classifier = DecisionTreeClassifier(criterion = 'entropy', max_features=0.6, random_state = 0)\n",
    "decision_classifier.fit(X_train, y_train)"
   ]
  },
  {
   "cell_type": "code",
   "execution_count": 157,
   "metadata": {},
   "outputs": [
    {
     "name": "stdout",
     "output_type": "stream",
     "text": [
      "[[46 39  1  2  0  0]\n",
      " [44 60  3  3  1  0]\n",
      " [ 1  2  0  0  0  0]\n",
      " [ 9  3  0  1  0  0]\n",
      " [ 0  1  0  0  0  0]\n",
      " [ 0  0  0  0  0  2]]\n",
      "Accuracy: 0.50 %\n",
      "              precision    recall  f1-score   support\n",
      "\n",
      "           1       0.46      0.52      0.49        88\n",
      "           2       0.57      0.54      0.56       111\n",
      "           3       0.00      0.00      0.00         3\n",
      "           4       0.17      0.08      0.11        13\n",
      "           5       0.00      0.00      0.00         1\n",
      "           6       1.00      1.00      1.00         2\n",
      "\n",
      "    accuracy                           0.50       218\n",
      "   macro avg       0.37      0.36      0.36       218\n",
      "weighted avg       0.50      0.50      0.50       218\n",
      "\n"
     ]
    }
   ],
   "source": [
    "y_pred_test_decision = decision_classifier.predict(X_test)\n",
    "\n",
    "cm = confusion_matrix(y_test, y_pred_test_decision)\n",
    "print(cm)\n",
    "print(\"Accuracy: {:.2f} %\".format(metrics.accuracy_score(y_test, y_pred_test_decision)))\n",
    "print(classification_report(y_test, y_pred_test_decision))"
   ]
  },
  {
   "cell_type": "markdown",
   "metadata": {},
   "source": [
    "## K-fold cv"
   ]
  },
  {
   "cell_type": "code",
   "execution_count": 158,
   "metadata": {},
   "outputs": [
    {
     "name": "stdout",
     "output_type": "stream",
     "text": [
      "Accuracy: 49.08 %\n",
      "Standard Deviation: 1.55 %\n"
     ]
    }
   ],
   "source": [
    "accuracies4 = cross_val_score(estimator = decision_classifier, X = X_train, y = y_train, cv = 3)\n",
    "print(\"Accuracy: {:.2f} %\".format(accuracies4.mean()*100))\n",
    "print(\"Standard Deviation: {:.2f} %\".format(accuracies4.std()*100))"
   ]
  },
  {
   "cell_type": "markdown",
   "metadata": {},
   "source": [
    "## Grid search "
   ]
  },
  {
   "cell_type": "code",
   "execution_count": 113,
   "metadata": {},
   "outputs": [
    {
     "name": "stdout",
     "output_type": "stream",
     "text": [
      "Best Accuracy: 49.08 %\n",
      "Best Parameters: {'criterion': 'entropy', 'max_features': 0.6}\n"
     ]
    }
   ],
   "source": [
    "parameters = [{'criterion': ['gini', 'entropy'],'max_features' : ['auto', 'log2', 0.4,0.6, 0.8, 1.0]}]\n",
    "grid_search = GridSearchCV(estimator = decision_classifier,\n",
    "                           param_grid = parameters,\n",
    "                           scoring = 'accuracy',\n",
    "                           cv = 3,\n",
    "                           n_jobs = -1)\n",
    "grid_search.fit(X_train, y_train)\n",
    "best_accuracy = grid_search.best_score_\n",
    "best_parameters = grid_search.best_params_\n",
    "print(\"Best Accuracy: {:.2f} %\".format(best_accuracy*100))\n",
    "print(\"Best Parameters:\", best_parameters)"
   ]
  },
  {
   "cell_type": "markdown",
   "metadata": {},
   "source": [
    "# XGBoost"
   ]
  },
  {
   "cell_type": "code",
   "execution_count": 114,
   "metadata": {},
   "outputs": [
    {
     "ename": "ModuleNotFoundError",
     "evalue": "No module named 'xgboost'",
     "output_type": "error",
     "traceback": [
      "\u001b[1;31m---------------------------------------------------------------------------\u001b[0m",
      "\u001b[1;31mModuleNotFoundError\u001b[0m                       Traceback (most recent call last)",
      "\u001b[1;32m<ipython-input-114-d7e2a53162c5>\u001b[0m in \u001b[0;36m<module>\u001b[1;34m\u001b[0m\n\u001b[1;32m----> 1\u001b[1;33m \u001b[1;32mfrom\u001b[0m \u001b[0mxgboost\u001b[0m \u001b[1;32mimport\u001b[0m \u001b[0mXGBClassifier\u001b[0m\u001b[1;33m\u001b[0m\u001b[1;33m\u001b[0m\u001b[0m\n\u001b[0m\u001b[0;32m      2\u001b[0m \u001b[0mxg_classifier\u001b[0m \u001b[1;33m=\u001b[0m \u001b[0mXGBClassifier\u001b[0m\u001b[1;33m(\u001b[0m\u001b[1;33m)\u001b[0m\u001b[1;33m\u001b[0m\u001b[1;33m\u001b[0m\u001b[0m\n\u001b[0;32m      3\u001b[0m \u001b[0mxg_classifier\u001b[0m\u001b[1;33m.\u001b[0m\u001b[0mfit\u001b[0m\u001b[1;33m(\u001b[0m\u001b[0mX_train\u001b[0m\u001b[1;33m,\u001b[0m \u001b[0my_train\u001b[0m\u001b[1;33m)\u001b[0m\u001b[1;33m\u001b[0m\u001b[1;33m\u001b[0m\u001b[0m\n",
      "\u001b[1;31mModuleNotFoundError\u001b[0m: No module named 'xgboost'"
     ]
    }
   ],
   "source": [
    "# from xgboost import XGBClassifier\n",
    "# xg_classifier = XGBClassifier()\n",
    "# xg_classifier.fit(X_train, y_train)"
   ]
  },
  {
   "cell_type": "code",
   "execution_count": null,
   "metadata": {},
   "outputs": [],
   "source": []
  },
  {
   "cell_type": "markdown",
   "metadata": {},
   "source": [
    "# SVM"
   ]
  },
  {
   "cell_type": "code",
   "execution_count": 167,
   "metadata": {},
   "outputs": [
    {
     "data": {
      "text/plain": [
       "SVC(C=0.5, break_ties=False, cache_size=200, class_weight=None, coef0=0.0,\n",
       "    decision_function_shape='ovr', degree=3, gamma=0.6, kernel='rbf',\n",
       "    max_iter=-1, probability=False, random_state=0, shrinking=True, tol=0.001,\n",
       "    verbose=False)"
      ]
     },
     "execution_count": 167,
     "metadata": {},
     "output_type": "execute_result"
    }
   ],
   "source": [
    "from sklearn.svm import SVC\n",
    "svm = SVC(C= 0.5, kernel = 'rbf', gamma= 0.6, random_state = 0)\n",
    "svm.fit(X_train, y_train)"
   ]
  },
  {
   "cell_type": "code",
   "execution_count": 168,
   "metadata": {},
   "outputs": [],
   "source": [
    "y_pred_test_svm = svm.predict(X_test)"
   ]
  },
  {
   "cell_type": "code",
   "execution_count": 169,
   "metadata": {},
   "outputs": [
    {
     "name": "stdout",
     "output_type": "stream",
     "text": [
      "[[30 58  0  0  0  0]\n",
      " [34 77  0  0  0  0]\n",
      " [ 0  3  0  0  0  0]\n",
      " [ 5  8  0  0  0  0]\n",
      " [ 0  1  0  0  0  0]\n",
      " [ 0  2  0  0  0  0]]\n",
      "Accuracy:  0.4908256880733945\n",
      "              precision    recall  f1-score   support\n",
      "\n",
      "           1       0.43      0.34      0.38        88\n",
      "           2       0.52      0.69      0.59       111\n",
      "           3       0.00      0.00      0.00         3\n",
      "           4       0.00      0.00      0.00        13\n",
      "           5       0.00      0.00      0.00         1\n",
      "           6       0.00      0.00      0.00         2\n",
      "\n",
      "    accuracy                           0.49       218\n",
      "   macro avg       0.16      0.17      0.16       218\n",
      "weighted avg       0.44      0.49      0.46       218\n",
      "\n"
     ]
    },
    {
     "name": "stderr",
     "output_type": "stream",
     "text": [
      "C:\\Users\\Imtiaz\\anaconda3\\lib\\site-packages\\sklearn\\metrics\\_classification.py:1272: UndefinedMetricWarning: Precision and F-score are ill-defined and being set to 0.0 in labels with no predicted samples. Use `zero_division` parameter to control this behavior.\n",
      "  _warn_prf(average, modifier, msg_start, len(result))\n"
     ]
    }
   ],
   "source": [
    "#from sklearn.metrics import confusion_matrix, accuracy_score\n",
    "cm = confusion_matrix(y_test, y_pred_test_svm)\n",
    "print(cm)\n",
    "print(\"Accuracy: \",metrics.accuracy_score(y_test, y_pred_test_svm))\n",
    "print(classification_report(y_test, y_pred_test_svm))"
   ]
  },
  {
   "cell_type": "markdown",
   "metadata": {},
   "source": [
    "## K-fold cross validation"
   ]
  },
  {
   "cell_type": "code",
   "execution_count": 170,
   "metadata": {},
   "outputs": [
    {
     "name": "stdout",
     "output_type": "stream",
     "text": [
      "Accuracy: 54.83 %\n",
      "Standard Deviation: 2.97 %\n"
     ]
    }
   ],
   "source": [
    "accuracies5 = cross_val_score(estimator = svm, X = X_train, y = y_train, cv = 4)\n",
    "print(\"Accuracy: {:.2f} %\".format(accuracies5.mean()*100))\n",
    "print(\"Standard Deviation: {:.2f} %\".format(accuracies5.std()*100))"
   ]
  },
  {
   "cell_type": "markdown",
   "metadata": {},
   "source": [
    "## Grid search"
   ]
  },
  {
   "cell_type": "code",
   "execution_count": 166,
   "metadata": {},
   "outputs": [
    {
     "name": "stdout",
     "output_type": "stream",
     "text": [
      "Best Accuracy: 54.83 %\n",
      "Best Parameters: {'C': 0.5, 'gamma': 0.6, 'kernel': 'rbf'}\n"
     ]
    }
   ],
   "source": [
    "\n",
    "parameters = [{'C': [0.25, 0.5, 0.75, 1], 'kernel': ['linear']},\n",
    "              {'C': [0.25, 0.5, 0.75, 1], 'kernel': ['rbf'], 'gamma': [0.1, 0.2, 0.3, 0.4, 0.5, 0.6, 0.7, 0.8, 0.9]}]\n",
    "grid_search = GridSearchCV(estimator = svm,\n",
    "                           param_grid = parameters,\n",
    "                           scoring = 'accuracy',\n",
    "                           cv = 4,\n",
    "                           n_jobs = -1)\n",
    "grid_search.fit(X_train, y_train)\n",
    "best_accuracy = grid_search.best_score_\n",
    "best_parameters = grid_search.best_params_\n",
    "print(\"Best Accuracy: {:.2f} %\".format(best_accuracy*100))\n",
    "print(\"Best Parameters:\", best_parameters)"
   ]
  },
  {
   "cell_type": "markdown",
   "metadata": {},
   "source": [
    "# Ensembling all of the above or combination of them"
   ]
  },
  {
   "cell_type": "code",
   "execution_count": 120,
   "metadata": {},
   "outputs": [],
   "source": [
    "bagging1 = BaggingClassifier(base_estimator=decision_classifier, bootstrap=False, max_features= 0.5, n_estimators= 15, max_samples=0.6,\n",
    "                             random_state=1)\n",
    "bagging2 = BaggingClassifier(base_estimator=knn, bootstrap= False, bootstrap_features= False,max_features= 0.9, \n",
    "                             n_estimators= 30, max_samples=0.6,random_state = 1)"
   ]
  },
  {
   "cell_type": "code",
   "execution_count": 176,
   "metadata": {},
   "outputs": [
    {
     "data": {
      "text/plain": [
       "BaggingClassifier(base_estimator=KNeighborsClassifier(algorithm='auto',\n",
       "                                                      leaf_size=30,\n",
       "                                                      metric='minkowski',\n",
       "                                                      metric_params=None,\n",
       "                                                      n_jobs=None,\n",
       "                                                      n_neighbors=216, p=2,\n",
       "                                                      weights='distance'),\n",
       "                  bootstrap=False, bootstrap_features=False, max_features=0.9,\n",
       "                  max_samples=0.6, n_estimators=30, n_jobs=None,\n",
       "                  oob_score=False, random_state=1, verbose=0, warm_start=False)"
      ]
     },
     "execution_count": 176,
     "metadata": {},
     "output_type": "execute_result"
    }
   ],
   "source": [
    "bagging1.fit(X_train, y_train)\n",
    "bagging2.fit(X_train, y_train)"
   ]
  },
  {
   "cell_type": "code",
   "execution_count": 177,
   "metadata": {},
   "outputs": [],
   "source": [
    "y_pred_test_bagging1 = bagging1.predict(X_test)\n",
    "y_pred_test_bagging2 = bagging2.predict(X_test)"
   ]
  },
  {
   "cell_type": "code",
   "execution_count": 178,
   "metadata": {},
   "outputs": [
    {
     "name": "stdout",
     "output_type": "stream",
     "text": [
      "[[38 50  0  0  0  0]\n",
      " [36 74  0  0  1  0]\n",
      " [ 0  3  0  0  0  0]\n",
      " [ 6  7  0  0  0  0]\n",
      " [ 0  1  0  0  0  0]\n",
      " [ 0  1  0  0  0  1]]\n",
      "Accuracy:  0.518348623853211\n",
      "              precision    recall  f1-score   support\n",
      "\n",
      "           1       0.47      0.43      0.45        88\n",
      "           2       0.54      0.67      0.60       111\n",
      "           3       0.00      0.00      0.00         3\n",
      "           4       0.00      0.00      0.00        13\n",
      "           5       0.00      0.00      0.00         1\n",
      "           6       1.00      0.50      0.67         2\n",
      "\n",
      "    accuracy                           0.52       218\n",
      "   macro avg       0.34      0.27      0.29       218\n",
      "weighted avg       0.48      0.52      0.49       218\n",
      "\n"
     ]
    },
    {
     "name": "stderr",
     "output_type": "stream",
     "text": [
      "C:\\Users\\Imtiaz\\anaconda3\\lib\\site-packages\\sklearn\\metrics\\_classification.py:1272: UndefinedMetricWarning: Precision and F-score are ill-defined and being set to 0.0 in labels with no predicted samples. Use `zero_division` parameter to control this behavior.\n",
      "  _warn_prf(average, modifier, msg_start, len(result))\n"
     ]
    }
   ],
   "source": [
    "cm = confusion_matrix(y_test, y_pred_test_bagging1)\n",
    "print(cm)\n",
    "print(\"Accuracy: \",metrics.accuracy_score(y_test, y_pred_test_bagging1))\n",
    "print(classification_report(y_test, y_pred_test_bagging1))"
   ]
  },
  {
   "cell_type": "code",
   "execution_count": 179,
   "metadata": {},
   "outputs": [
    {
     "name": "stdout",
     "output_type": "stream",
     "text": [
      "[[36 50  0  2  0  0]\n",
      " [32 76  1  2  0  0]\n",
      " [ 0  3  0  0  0  0]\n",
      " [ 5  8  0  0  0  0]\n",
      " [ 0  1  0  0  0  0]\n",
      " [ 1  1  0  0  0  0]]\n",
      "Accuracy:  0.5137614678899083\n",
      "              precision    recall  f1-score   support\n",
      "\n",
      "           1       0.49      0.41      0.44        88\n",
      "           2       0.55      0.68      0.61       111\n",
      "           3       0.00      0.00      0.00         3\n",
      "           4       0.00      0.00      0.00        13\n",
      "           5       0.00      0.00      0.00         1\n",
      "           6       0.00      0.00      0.00         2\n",
      "\n",
      "    accuracy                           0.51       218\n",
      "   macro avg       0.17      0.18      0.18       218\n",
      "weighted avg       0.47      0.51      0.49       218\n",
      "\n"
     ]
    }
   ],
   "source": [
    "cm = confusion_matrix(y_test, y_pred_test_bagging2)\n",
    "print(cm)\n",
    "print(\"Accuracy: \",metrics.accuracy_score(y_test, y_pred_test_bagging2))\n",
    "print(classification_report(y_test, y_pred_test_bagging2))"
   ]
  },
  {
   "cell_type": "code",
   "execution_count": 121,
   "metadata": {},
   "outputs": [],
   "source": [
    "parameters = [{\n",
    " 'bootstrap': [True, False],\n",
    " 'bootstrap_features': [True, False],    \n",
    " 'n_estimators': [15, 20, 25, 30, 35, 40],\n",
    " 'max_samples' : [0.6, 0.8, 1.0],\n",
    " 'max_features': [0.5,0.6,0.7,0.8,0.9,1.0]  \n",
    "#  'base_estimator__bootstrap': [True, False],    \n",
    "#  'base_estimator__n_estimators': [100, 200, 300, 500, 1000],\n",
    "#  'base_estimator__max_features' : [0.6, 0.8, 1.0]\n",
    "}]"
   ]
  },
  {
   "cell_type": "code",
   "execution_count": 122,
   "metadata": {},
   "outputs": [
    {
     "name": "stdout",
     "output_type": "stream",
     "text": [
      "Best Accuracy: 53.68 %\n",
      "Best Parameters: {'bootstrap': False, 'bootstrap_features': True, 'max_features': 0.5, 'max_samples': 0.6, 'n_estimators': 15}\n"
     ]
    }
   ],
   "source": [
    "grid_search = GridSearchCV(bagging1, \n",
    "                           param_grid=parameters, \n",
    "                           scoring = 'accuracy',\n",
    "                           cv=3, n_jobs= -1)\n",
    "\n",
    "grid_search.fit(X_train, y_train)\n",
    "best_accuracy = grid_search.best_score_\n",
    "best_parameters = grid_search.best_params_\n",
    "print(\"Best Accuracy: {:.2f} %\".format(best_accuracy*100))\n",
    "print(\"Best Parameters:\", best_parameters)"
   ]
  },
  {
   "cell_type": "code",
   "execution_count": 123,
   "metadata": {},
   "outputs": [
    {
     "name": "stdout",
     "output_type": "stream",
     "text": [
      "Best Accuracy: 53.91 %\n",
      "Best Parameters: {'bootstrap': False, 'bootstrap_features': False, 'max_features': 0.9, 'max_samples': 0.6, 'n_estimators': 30}\n"
     ]
    }
   ],
   "source": [
    "grid_search = GridSearchCV(bagging2, \n",
    "                           param_grid=parameters, \n",
    "                           scoring = 'accuracy',\n",
    "                           cv=3, n_jobs= -1)\n",
    "\n",
    "grid_search.fit(X_train, y_train)\n",
    "best_accuracy = grid_search.best_score_\n",
    "best_parameters = grid_search.best_params_\n",
    "print(\"Best Accuracy: {:.2f} %\".format(best_accuracy*100))\n",
    "print(\"Best Parameters:\", best_parameters)"
   ]
  },
  {
   "cell_type": "code",
   "execution_count": 124,
   "metadata": {},
   "outputs": [
    {
     "name": "stdout",
     "output_type": "stream",
     "text": [
      "Accuracy: 0.49 (+/- 0.02) [Decision Tree]\n",
      "Accuracy: 0.54 (+/- 0.02) [K-NN]\n",
      "Accuracy: 0.51 (+/- 0.02) [Bagging Tree]\n",
      "Accuracy: 0.54 (+/- 0.01) [Bagging K-NN]\n"
     ]
    },
    {
     "data": {
      "text/plain": [
       "<Figure size 720x576 with 0 Axes>"
      ]
     },
     "metadata": {},
     "output_type": "display_data"
    }
   ],
   "source": [
    "from mlxtend.plotting import plot_learning_curves\n",
    "from mlxtend.plotting import plot_decision_regions\n",
    "\n",
    "label = ['Decision Tree', 'K-NN', 'Bagging Tree', 'Bagging K-NN']\n",
    "clf_list = [decision_classifier, knn, bagging1, bagging2]\n",
    "\n",
    "fig = plt.figure(figsize=(10, 8))\n",
    "gs = gridspec.GridSpec(2, 2)\n",
    "grid = itertools.product([0,1],repeat=2)\n",
    "\n",
    "for clf, label, grd in zip(clf_list, label, grid):        \n",
    "    scores = cross_val_score(clf, X_train, y_train, cv=3, scoring='accuracy')\n",
    "#     print \"Accuracy: %.2f (+/- %.2f) [%s]\" %(scores.mean(), scores.std(), label)\n",
    "    print (\"Accuracy: {:.2f} (+/- {:.2f}) [{}]\".format(scores.mean(), scores.std(), label))\n",
    "\n",
    "        \n",
    "    clf.fit(X_train, y_train)\n",
    "#     ax = plt.subplot(gs[grd[0], grd[1]])\n",
    "#     fig = plot_decision_regions(X=X_train, y=y_train, clf=clf, legend=2)\n",
    "#     plt.title(label)\n",
    "\n",
    "# plt.show()"
   ]
  },
  {
   "cell_type": "code",
   "execution_count": 125,
   "metadata": {},
   "outputs": [
    {
     "data": {
      "image/png": "[encoded data removed]",
      "text/plain": [
       "<Figure size 432x288 with 1 Axes>"
      ]
     },
     "metadata": {},
     "output_type": "display_data"
    }
   ],
   "source": [
    "plt.figure()\n",
    "plot_learning_curves(X_train, y_train, X_test, y_test, bagging1, print_model=False, style='ggplot')\n",
    "plt.show()"
   ]
  },
  {
   "cell_type": "code",
   "execution_count": 126,
   "metadata": {},
   "outputs": [],
   "source": [
    "#Ensemble Size\n",
    "# num_est = map(int, np.linspace(1,100,20))\n",
    "# bg_clf_cv_mean = []\n",
    "# bg_clf_cv_std = []\n",
    "# for n_est in num_est:    \n",
    "#     bg_clf = BaggingClassifier(base_estimator=decision_classifier, n_estimators=n_est, max_samples=0.8, max_features=0.8)\n",
    "#     scores = cross_val_score(bg_clf, X_train, y_train, cv=3, scoring='accuracy')\n",
    "#     bg_clf_cv_mean.append(scores.mean())\n",
    "#     bg_clf_cv_std.append(scores.std())"
   ]
  },
  {
   "cell_type": "code",
   "execution_count": null,
   "metadata": {},
   "outputs": [],
   "source": [
    "# plt.figure()\n",
    "# (_, caps, _) = plt.errorbar(num_est, bg_clf_cv_mean, yerr=bg_clf_cv_std, c='blue', fmt='-o', capsize=5)\n",
    "# for cap in caps:\n",
    "#     cap.set_markeredgewidth(1)                                                                                                                                \n",
    "# plt.ylabel('Accuracy'); plt.xlabel('Ensemble Size'); plt.title('Bagging Tree Ensemble');\n",
    "# plt.show()"
   ]
  },
  {
   "cell_type": "markdown",
   "metadata": {},
   "source": [
    "# Stacking"
   ]
  },
  {
   "cell_type": "code",
   "execution_count": 127,
   "metadata": {},
   "outputs": [],
   "source": [
    "from mlxtend.classifier import StackingClassifier\n",
    "\n",
    "stacking_classifier = StackingClassifier(classifiers=[decision_classifier, RFclassifier, knn, svm], \n",
    "                          meta_classifier=log_regressor)\n",
    "# from sklearn.ensemble import StackingClassifier\n",
    "\n",
    "# stacking_classifier = StackingClassifier(estimators= [decision_classifier, RFclassifier, knn, svm], \n",
    "#                                          final_estimator= log_regressor,\n",
    "#                                         cv = 3)"
   ]
  },
  {
   "cell_type": "code",
   "execution_count": 128,
   "metadata": {},
   "outputs": [
    {
     "name": "stdout",
     "output_type": "stream",
     "text": [
      "Accuracy: 0.49 (+/- 0.02) [Decision Tree]\n",
      "Accuracy: 0.49 (+/- 0.01) [Random Forest]\n",
      "Accuracy: 0.54 (+/- 0.02) [KNN]\n",
      "Accuracy: 0.55 (+/- 0.02) [SVM]\n",
      "Accuracy: 0.51 (+/- 0.01) [StackingClassifier]\n"
     ]
    }
   ],
   "source": [
    "for clf, label in zip([decision_classifier, RFclassifier, knn, svm, stacking_classifier], \n",
    "                      ['Decision Tree',\n",
    "                       'Random Forest',\n",
    "                       'KNN', \n",
    "                       'SVM',\n",
    "                       'StackingClassifier']):\n",
    "\n",
    "    scores = cross_val_score(clf, X_train, y_train, \n",
    "                                              cv=3, scoring='accuracy')\n",
    "    print(\"Accuracy: %0.2f (+/- %0.2f) [%s]\" \n",
    "          % (scores.mean(), scores.std(), label))"
   ]
  },
  {
   "cell_type": "code",
   "execution_count": 129,
   "metadata": {},
   "outputs": [
    {
     "name": "stdout",
     "output_type": "stream",
     "text": [
      "Accuracy: 0.49 (+/- 0.02) [Decision Tree]\n",
      "Accuracy: 0.49 (+/- 0.01) [Random Forest]\n",
      "Accuracy: 0.54 (+/- 0.02) [K-NN]\n",
      "Accuracy: 0.55 (+/- 0.02) [SVM]\n"
     ]
    },
    {
     "data": {
      "text/plain": [
       "<Figure size 720x576 with 0 Axes>"
      ]
     },
     "metadata": {},
     "output_type": "display_data"
    }
   ],
   "source": [
    "label = ['Decision Tree', 'Random Forest', 'K-NN', 'SVM', 'StackingClassifier']\n",
    "clf_list = [decision_classifier, RFclassifier, knn, svm, stacking_classifier]\n",
    "\n",
    "fig = plt.figure(figsize=(10, 8))\n",
    "gs = gridspec.GridSpec(2, 2)\n",
    "grid = itertools.product([0,1],repeat=2)\n",
    "\n",
    "for clf, label, grd in zip(clf_list, label, grid):        \n",
    "    scores = cross_val_score(clf, X_train, y_train, cv=3, scoring='accuracy')\n",
    "#     print \"Accuracy: %.2f (+/- %.2f) [%s]\" %(scores.mean(), scores.std(), label)\n",
    "    print (\"Accuracy: {:.2f} (+/- {:.2f}) [{}]\".format(scores.mean(), scores.std(), label))\n",
    "\n",
    "        \n",
    "    clf.fit(X_train, y_train)\n",
    "#     ax = plt.subplot(gs[grd[0], grd[1]])\n",
    "#     fig = plot_decision_regions(X=X_train, y=y_train, clf=clf, legend=2)\n",
    "#     plt.title(label)\n",
    "\n",
    "# plt.show()"
   ]
  },
  {
   "cell_type": "code",
   "execution_count": 130,
   "metadata": {},
   "outputs": [
    {
     "name": "stdout",
     "output_type": "stream",
     "text": [
      "Accuracy: 51.15 %\n",
      "Standard Deviation: 0.71 %\n"
     ]
    }
   ],
   "source": [
    "accuracies6 = cross_val_score(estimator = stacking_classifier, X = X_train, y = y_train, cv = 3)\n",
    "print(\"Accuracy: {:.2f} %\".format(accuracies6.mean()*100))\n",
    "print(\"Standard Deviation: {:.2f} %\".format(accuracies6.std()*100))"
   ]
  },
  {
   "cell_type": "code",
   "execution_count": 180,
   "metadata": {},
   "outputs": [
    {
     "data": {
      "text/plain": [
       "StackingClassifier(average_probas=False,\n",
       "                   classifiers=[DecisionTreeClassifier(ccp_alpha=0.0,\n",
       "                                                       class_weight=None,\n",
       "                                                       criterion='entropy',\n",
       "                                                       max_depth=None,\n",
       "                                                       max_features=0.6,\n",
       "                                                       max_leaf_nodes=None,\n",
       "                                                       min_impurity_decrease=0.0,\n",
       "                                                       min_impurity_split=None,\n",
       "                                                       min_samples_leaf=1,\n",
       "                                                       min_samples_split=2,\n",
       "                                                       min_weight_fraction_leaf=0.0,\n",
       "                                                       presort='deprecated',\n",
       "                                                       random_state=0,\n",
       "                                                       splitter='best')...\n",
       "                   meta_classifier=LogisticRegression(C=1.0, class_weight=None,\n",
       "                                                      dual=False,\n",
       "                                                      fit_intercept=True,\n",
       "                                                      intercept_scaling=1,\n",
       "                                                      l1_ratio=None,\n",
       "                                                      max_iter=1000,\n",
       "                                                      multi_class='auto',\n",
       "                                                      n_jobs=None, penalty='l2',\n",
       "                                                      random_state=None,\n",
       "                                                      solver='lbfgs',\n",
       "                                                      tol=0.0001, verbose=0,\n",
       "                                                      warm_start=False),\n",
       "                   store_train_meta_features=False, use_clones=True,\n",
       "                   use_features_in_secondary=False, use_probas=False,\n",
       "                   verbose=0)"
      ]
     },
     "execution_count": 180,
     "metadata": {},
     "output_type": "execute_result"
    }
   ],
   "source": [
    "stacking_classifier.fit(X_train, y_train)"
   ]
  },
  {
   "cell_type": "code",
   "execution_count": 181,
   "metadata": {},
   "outputs": [],
   "source": [
    "\n",
    "y_pred_test_stacking = stacking_classifier.predict(X_test)"
   ]
  },
  {
   "cell_type": "code",
   "execution_count": 182,
   "metadata": {},
   "outputs": [
    {
     "name": "stdout",
     "output_type": "stream",
     "text": [
      "[[40 47  0  1  0  0]\n",
      " [34 76  0  1  0  0]\n",
      " [ 0  3  0  0  0  0]\n",
      " [ 7  6  0  0  0  0]\n",
      " [ 0  1  0  0  0  0]\n",
      " [ 0  1  0  1  0  0]]\n",
      "Accuracy:  0.5321100917431193\n",
      "              precision    recall  f1-score   support\n",
      "\n",
      "           1       0.49      0.45      0.47        88\n",
      "           2       0.57      0.68      0.62       111\n",
      "           3       0.00      0.00      0.00         3\n",
      "           4       0.00      0.00      0.00        13\n",
      "           5       0.00      0.00      0.00         1\n",
      "           6       0.00      0.00      0.00         2\n",
      "\n",
      "    accuracy                           0.53       218\n",
      "   macro avg       0.18      0.19      0.18       218\n",
      "weighted avg       0.49      0.53      0.51       218\n",
      "\n"
     ]
    },
    {
     "name": "stderr",
     "output_type": "stream",
     "text": [
      "C:\\Users\\Imtiaz\\anaconda3\\lib\\site-packages\\sklearn\\metrics\\_classification.py:1272: UndefinedMetricWarning: Precision and F-score are ill-defined and being set to 0.0 in labels with no predicted samples. Use `zero_division` parameter to control this behavior.\n",
      "  _warn_prf(average, modifier, msg_start, len(result))\n"
     ]
    }
   ],
   "source": [
    "cm = confusion_matrix(y_test, y_pred_test_stacking)\n",
    "print(cm)\n",
    "print(\"Accuracy: \",metrics.accuracy_score(y_test, y_pred_test_stacking))\n",
    "print(classification_report(y_test, y_pred_test_stacking))"
   ]
  },
  {
   "cell_type": "code",
   "execution_count": null,
   "metadata": {},
   "outputs": [],
   "source": []
  }
 ],
 "metadata": {
  "kernelspec": {
   "display_name": "Python [conda env:root] *",
   "language": "python",
   "name": "conda-root-py"
  },
  "language_info": {
   "codemirror_mode": {
    "name": "ipython",
    "version": 3
   },
   "file_extension": ".py",
   "mimetype": "text/x-python",
   "name": "python",
   "nbconvert_exporter": "python",
   "pygments_lexer": "ipython3",
   "version": "3.7.6"
  },
  "latex_envs": {
   "LaTeX_envs_menu_present": true,
   "autoclose": false,
   "autocomplete": true,
   "bibliofile": "biblio.bib",
   "cite_by": "apalike",
   "current_citInitial": 1,
   "eqLabelWithNumbers": true,
   "eqNumInitial": 1,
   "hotkeys": {
    "equation": "Ctrl-E",
    "itemize": "Ctrl-I"
   },
   "labels_anchors": false,
   "latex_user_defs": false,
   "report_style_numbering": false,
   "user_envs_cfg": false
  },
  "toc": {
   "base_numbering": 1,
   "nav_menu": {},
   "number_sections": true,
   "sideBar": true,
   "skip_h1_title": false,
   "title_cell": "Table of Contents",
   "title_sidebar": "Contents",
   "toc_cell": false,
   "toc_position": {},
   "toc_section_display": true,
   "toc_window_display": false
  }
 },
 "nbformat": 4,
 "nbformat_minor": 4
}
