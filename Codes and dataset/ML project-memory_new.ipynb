{
 "cells": [
  {
   "cell_type": "code",
   "execution_count": 1,
   "metadata": {},
   "outputs": [],
   "source": [
    "#import lux\n",
    "import itertools\n",
    "import numpy as np\n",
    "import pandas as pd\n",
    "import matplotlib.pyplot as plt\n",
    "import matplotlib.gridspec as gridspec\n",
    "import seaborn as sns\n",
    "pd.set_option('display.max_columns', None)\n",
    "pd.set_option('display.max_rows', None)\n",
    "\n",
    "from sklearn import metrics\n",
    "from sklearn.tree import DecisionTreeClassifier\n",
    "from sklearn.neighbors import KNeighborsClassifier\n",
    "from sklearn.linear_model import LogisticRegression\n",
    "from sklearn.ensemble import RandomForestClassifier\n",
    "\n",
    "from sklearn.ensemble import BaggingClassifier\n",
    "from sklearn.model_selection import cross_val_score, train_test_split\n",
    "\n",
    "from sklearn.model_selection import GridSearchCV\n",
    "#from sklearn.linear_model import LinearRegression\n",
    "#from sklearn.multioutput import MultiOutputClassifier\n",
    "\n"
   ]
  },
  {
   "cell_type": "code",
   "execution_count": 2,
   "metadata": {},
   "outputs": [],
   "source": [
    "data = pd.read_csv('new_df_data.csv')"
   ]
  },
  {
   "cell_type": "code",
   "execution_count": 3,
   "metadata": {},
   "outputs": [
    {
     "data": {
      "text/html": [
       "<div>\n",
       "<style scoped>\n",
       "    .dataframe tbody tr th:only-of-type {\n",
       "        vertical-align: middle;\n",
       "    }\n",
       "\n",
       "    .dataframe tbody tr th {\n",
       "        vertical-align: top;\n",
       "    }\n",
       "\n",
       "    .dataframe thead th {\n",
       "        text-align: right;\n",
       "    }\n",
       "</style>\n",
       "<table border=\"1\" class=\"dataframe\">\n",
       "  <thead>\n",
       "    <tr style=\"text-align: right;\">\n",
       "      <th></th>\n",
       "      <th>participant_class</th>\n",
       "      <th>Other</th>\n",
       "      <th>Own</th>\n",
       "      <th>University property</th>\n",
       "      <th>dep_2</th>\n",
       "      <th>dep_3</th>\n",
       "      <th>dep_4</th>\n",
       "      <th>dep_5</th>\n",
       "      <th>dep_6</th>\n",
       "      <th>dep_7</th>\n",
       "      <th>dep_8</th>\n",
       "      <th>dep_9</th>\n",
       "      <th>dep_10</th>\n",
       "      <th>dep_11</th>\n",
       "      <th>dep_12</th>\n",
       "      <th>dep_13</th>\n",
       "      <th>dep_14</th>\n",
       "      <th>dep_15</th>\n",
       "      <th>dep_16</th>\n",
       "      <th>dep_17</th>\n",
       "      <th>dep_18</th>\n",
       "      <th>dep_19</th>\n",
       "      <th>dep_20</th>\n",
       "      <th>com_user_1</th>\n",
       "      <th>com_user_2</th>\n",
       "      <th>com_1</th>\n",
       "      <th>com_2</th>\n",
       "      <th>com_3</th>\n",
       "      <th>gen_2</th>\n",
       "      <th>gen_3</th>\n",
       "      <th>gen_4</th>\n",
       "      <th>gen_5</th>\n",
       "      <th>race_2</th>\n",
       "      <th>race_3</th>\n",
       "      <th>race_4</th>\n",
       "      <th>race_5</th>\n",
       "      <th>race_6</th>\n",
       "      <th>race_7</th>\n",
       "      <th>race_8</th>\n",
       "      <th>race_9</th>\n",
       "      <th>race_10</th>\n",
       "      <th>os</th>\n",
       "      <th>processor</th>\n",
       "      <th>memory</th>\n",
       "      <th>harddisk</th>\n",
       "    </tr>\n",
       "  </thead>\n",
       "  <tbody>\n",
       "    <tr>\n",
       "      <th>0</th>\n",
       "      <td>11</td>\n",
       "      <td>0</td>\n",
       "      <td>1</td>\n",
       "      <td>0</td>\n",
       "      <td>1</td>\n",
       "      <td>0</td>\n",
       "      <td>0</td>\n",
       "      <td>0</td>\n",
       "      <td>0</td>\n",
       "      <td>0</td>\n",
       "      <td>0</td>\n",
       "      <td>0</td>\n",
       "      <td>0</td>\n",
       "      <td>0</td>\n",
       "      <td>0</td>\n",
       "      <td>0</td>\n",
       "      <td>0</td>\n",
       "      <td>0</td>\n",
       "      <td>0</td>\n",
       "      <td>0</td>\n",
       "      <td>0</td>\n",
       "      <td>0</td>\n",
       "      <td>0</td>\n",
       "      <td>1</td>\n",
       "      <td>0</td>\n",
       "      <td>0</td>\n",
       "      <td>1</td>\n",
       "      <td>0</td>\n",
       "      <td>1</td>\n",
       "      <td>0</td>\n",
       "      <td>0</td>\n",
       "      <td>0</td>\n",
       "      <td>0</td>\n",
       "      <td>0</td>\n",
       "      <td>0</td>\n",
       "      <td>0</td>\n",
       "      <td>0</td>\n",
       "      <td>0</td>\n",
       "      <td>0</td>\n",
       "      <td>0</td>\n",
       "      <td>1</td>\n",
       "      <td>1</td>\n",
       "      <td>2</td>\n",
       "      <td>1</td>\n",
       "      <td>2</td>\n",
       "    </tr>\n",
       "    <tr>\n",
       "      <th>1</th>\n",
       "      <td>4</td>\n",
       "      <td>0</td>\n",
       "      <td>1</td>\n",
       "      <td>0</td>\n",
       "      <td>0</td>\n",
       "      <td>1</td>\n",
       "      <td>0</td>\n",
       "      <td>0</td>\n",
       "      <td>0</td>\n",
       "      <td>0</td>\n",
       "      <td>0</td>\n",
       "      <td>0</td>\n",
       "      <td>0</td>\n",
       "      <td>0</td>\n",
       "      <td>0</td>\n",
       "      <td>0</td>\n",
       "      <td>0</td>\n",
       "      <td>0</td>\n",
       "      <td>0</td>\n",
       "      <td>0</td>\n",
       "      <td>0</td>\n",
       "      <td>0</td>\n",
       "      <td>0</td>\n",
       "      <td>0</td>\n",
       "      <td>1</td>\n",
       "      <td>0</td>\n",
       "      <td>0</td>\n",
       "      <td>1</td>\n",
       "      <td>0</td>\n",
       "      <td>0</td>\n",
       "      <td>1</td>\n",
       "      <td>0</td>\n",
       "      <td>0</td>\n",
       "      <td>0</td>\n",
       "      <td>0</td>\n",
       "      <td>0</td>\n",
       "      <td>0</td>\n",
       "      <td>0</td>\n",
       "      <td>0</td>\n",
       "      <td>0</td>\n",
       "      <td>0</td>\n",
       "      <td>2</td>\n",
       "      <td>3</td>\n",
       "      <td>3</td>\n",
       "      <td>3</td>\n",
       "    </tr>\n",
       "    <tr>\n",
       "      <th>2</th>\n",
       "      <td>4</td>\n",
       "      <td>0</td>\n",
       "      <td>1</td>\n",
       "      <td>0</td>\n",
       "      <td>0</td>\n",
       "      <td>1</td>\n",
       "      <td>0</td>\n",
       "      <td>0</td>\n",
       "      <td>0</td>\n",
       "      <td>0</td>\n",
       "      <td>0</td>\n",
       "      <td>0</td>\n",
       "      <td>0</td>\n",
       "      <td>0</td>\n",
       "      <td>0</td>\n",
       "      <td>0</td>\n",
       "      <td>0</td>\n",
       "      <td>0</td>\n",
       "      <td>0</td>\n",
       "      <td>0</td>\n",
       "      <td>0</td>\n",
       "      <td>0</td>\n",
       "      <td>0</td>\n",
       "      <td>0</td>\n",
       "      <td>1</td>\n",
       "      <td>0</td>\n",
       "      <td>0</td>\n",
       "      <td>1</td>\n",
       "      <td>0</td>\n",
       "      <td>0</td>\n",
       "      <td>0</td>\n",
       "      <td>1</td>\n",
       "      <td>0</td>\n",
       "      <td>0</td>\n",
       "      <td>0</td>\n",
       "      <td>0</td>\n",
       "      <td>0</td>\n",
       "      <td>0</td>\n",
       "      <td>0</td>\n",
       "      <td>0</td>\n",
       "      <td>0</td>\n",
       "      <td>2</td>\n",
       "      <td>2</td>\n",
       "      <td>2</td>\n",
       "      <td>2</td>\n",
       "    </tr>\n",
       "    <tr>\n",
       "      <th>3</th>\n",
       "      <td>7</td>\n",
       "      <td>0</td>\n",
       "      <td>1</td>\n",
       "      <td>0</td>\n",
       "      <td>0</td>\n",
       "      <td>1</td>\n",
       "      <td>0</td>\n",
       "      <td>0</td>\n",
       "      <td>0</td>\n",
       "      <td>0</td>\n",
       "      <td>0</td>\n",
       "      <td>0</td>\n",
       "      <td>0</td>\n",
       "      <td>0</td>\n",
       "      <td>0</td>\n",
       "      <td>0</td>\n",
       "      <td>0</td>\n",
       "      <td>0</td>\n",
       "      <td>0</td>\n",
       "      <td>0</td>\n",
       "      <td>0</td>\n",
       "      <td>0</td>\n",
       "      <td>0</td>\n",
       "      <td>0</td>\n",
       "      <td>1</td>\n",
       "      <td>0</td>\n",
       "      <td>0</td>\n",
       "      <td>1</td>\n",
       "      <td>0</td>\n",
       "      <td>0</td>\n",
       "      <td>1</td>\n",
       "      <td>0</td>\n",
       "      <td>0</td>\n",
       "      <td>0</td>\n",
       "      <td>0</td>\n",
       "      <td>0</td>\n",
       "      <td>0</td>\n",
       "      <td>0</td>\n",
       "      <td>0</td>\n",
       "      <td>0</td>\n",
       "      <td>0</td>\n",
       "      <td>3</td>\n",
       "      <td>3</td>\n",
       "      <td>2</td>\n",
       "      <td>5</td>\n",
       "    </tr>\n",
       "    <tr>\n",
       "      <th>4</th>\n",
       "      <td>4</td>\n",
       "      <td>0</td>\n",
       "      <td>1</td>\n",
       "      <td>0</td>\n",
       "      <td>0</td>\n",
       "      <td>0</td>\n",
       "      <td>1</td>\n",
       "      <td>0</td>\n",
       "      <td>0</td>\n",
       "      <td>0</td>\n",
       "      <td>0</td>\n",
       "      <td>0</td>\n",
       "      <td>0</td>\n",
       "      <td>0</td>\n",
       "      <td>0</td>\n",
       "      <td>0</td>\n",
       "      <td>0</td>\n",
       "      <td>0</td>\n",
       "      <td>0</td>\n",
       "      <td>0</td>\n",
       "      <td>0</td>\n",
       "      <td>0</td>\n",
       "      <td>0</td>\n",
       "      <td>1</td>\n",
       "      <td>0</td>\n",
       "      <td>0</td>\n",
       "      <td>0</td>\n",
       "      <td>1</td>\n",
       "      <td>0</td>\n",
       "      <td>0</td>\n",
       "      <td>0</td>\n",
       "      <td>1</td>\n",
       "      <td>1</td>\n",
       "      <td>0</td>\n",
       "      <td>0</td>\n",
       "      <td>0</td>\n",
       "      <td>0</td>\n",
       "      <td>0</td>\n",
       "      <td>0</td>\n",
       "      <td>0</td>\n",
       "      <td>0</td>\n",
       "      <td>1</td>\n",
       "      <td>2</td>\n",
       "      <td>2</td>\n",
       "      <td>1</td>\n",
       "    </tr>\n",
       "  </tbody>\n",
       "</table>\n",
       "</div>"
      ],
      "text/plain": [
       "   participant_class  Other  Own  University property  dep_2  dep_3  dep_4  \\\n",
       "0                 11      0    1                    0      1      0      0   \n",
       "1                  4      0    1                    0      0      1      0   \n",
       "2                  4      0    1                    0      0      1      0   \n",
       "3                  7      0    1                    0      0      1      0   \n",
       "4                  4      0    1                    0      0      0      1   \n",
       "\n",
       "   dep_5  dep_6  dep_7  dep_8  dep_9  dep_10  dep_11  dep_12  dep_13  dep_14  \\\n",
       "0      0      0      0      0      0       0       0       0       0       0   \n",
       "1      0      0      0      0      0       0       0       0       0       0   \n",
       "2      0      0      0      0      0       0       0       0       0       0   \n",
       "3      0      0      0      0      0       0       0       0       0       0   \n",
       "4      0      0      0      0      0       0       0       0       0       0   \n",
       "\n",
       "   dep_15  dep_16  dep_17  dep_18  dep_19  dep_20  com_user_1  com_user_2  \\\n",
       "0       0       0       0       0       0       0           1           0   \n",
       "1       0       0       0       0       0       0           0           1   \n",
       "2       0       0       0       0       0       0           0           1   \n",
       "3       0       0       0       0       0       0           0           1   \n",
       "4       0       0       0       0       0       0           1           0   \n",
       "\n",
       "   com_1  com_2  com_3  gen_2  gen_3  gen_4  gen_5  race_2  race_3  race_4  \\\n",
       "0      0      1      0      1      0      0      0       0       0       0   \n",
       "1      0      0      1      0      0      1      0       0       0       0   \n",
       "2      0      0      1      0      0      0      1       0       0       0   \n",
       "3      0      0      1      0      0      1      0       0       0       0   \n",
       "4      0      0      1      0      0      0      1       1       0       0   \n",
       "\n",
       "   race_5  race_6  race_7  race_8  race_9  race_10  os  processor  memory  \\\n",
       "0       0       0       0       0       0        1   1          2       1   \n",
       "1       0       0       0       0       0        0   2          3       3   \n",
       "2       0       0       0       0       0        0   2          2       2   \n",
       "3       0       0       0       0       0        0   3          3       2   \n",
       "4       0       0       0       0       0        0   1          2       2   \n",
       "\n",
       "   harddisk  \n",
       "0         2  \n",
       "1         3  \n",
       "2         2  \n",
       "3         5  \n",
       "4         1  "
      ]
     },
     "execution_count": 3,
     "metadata": {},
     "output_type": "execute_result"
    }
   ],
   "source": [
    "data.head()"
   ]
  },
  {
   "cell_type": "code",
   "execution_count": 4,
   "metadata": {},
   "outputs": [
    {
     "data": {
      "text/html": [
       "<div>\n",
       "<style scoped>\n",
       "    .dataframe tbody tr th:only-of-type {\n",
       "        vertical-align: middle;\n",
       "    }\n",
       "\n",
       "    .dataframe tbody tr th {\n",
       "        vertical-align: top;\n",
       "    }\n",
       "\n",
       "    .dataframe thead th {\n",
       "        text-align: right;\n",
       "    }\n",
       "</style>\n",
       "<table border=\"1\" class=\"dataframe\">\n",
       "  <thead>\n",
       "    <tr style=\"text-align: right;\">\n",
       "      <th></th>\n",
       "      <th>participant_class</th>\n",
       "      <th>Other</th>\n",
       "      <th>Own</th>\n",
       "      <th>University property</th>\n",
       "      <th>dep_2</th>\n",
       "      <th>dep_3</th>\n",
       "      <th>dep_4</th>\n",
       "      <th>dep_5</th>\n",
       "      <th>dep_6</th>\n",
       "      <th>dep_7</th>\n",
       "      <th>dep_8</th>\n",
       "      <th>dep_9</th>\n",
       "      <th>dep_10</th>\n",
       "      <th>dep_11</th>\n",
       "      <th>dep_12</th>\n",
       "      <th>dep_13</th>\n",
       "      <th>dep_14</th>\n",
       "      <th>dep_15</th>\n",
       "      <th>dep_16</th>\n",
       "      <th>dep_17</th>\n",
       "      <th>dep_18</th>\n",
       "      <th>dep_19</th>\n",
       "      <th>dep_20</th>\n",
       "      <th>com_user_1</th>\n",
       "      <th>com_user_2</th>\n",
       "      <th>com_1</th>\n",
       "      <th>com_2</th>\n",
       "      <th>com_3</th>\n",
       "      <th>gen_2</th>\n",
       "      <th>gen_3</th>\n",
       "      <th>gen_4</th>\n",
       "      <th>gen_5</th>\n",
       "      <th>race_2</th>\n",
       "      <th>race_3</th>\n",
       "      <th>race_4</th>\n",
       "      <th>race_5</th>\n",
       "      <th>race_6</th>\n",
       "      <th>race_7</th>\n",
       "      <th>race_8</th>\n",
       "      <th>race_9</th>\n",
       "      <th>race_10</th>\n",
       "      <th>os</th>\n",
       "      <th>processor</th>\n",
       "      <th>memory</th>\n",
       "      <th>harddisk</th>\n",
       "    </tr>\n",
       "  </thead>\n",
       "  <tbody>\n",
       "    <tr>\n",
       "      <th>count</th>\n",
       "      <td>1088.000000</td>\n",
       "      <td>1088.000000</td>\n",
       "      <td>1088.000000</td>\n",
       "      <td>1088.000000</td>\n",
       "      <td>1088.000000</td>\n",
       "      <td>1088.000000</td>\n",
       "      <td>1088.000000</td>\n",
       "      <td>1088.000000</td>\n",
       "      <td>1088.000000</td>\n",
       "      <td>1088.000000</td>\n",
       "      <td>1088.000000</td>\n",
       "      <td>1088.000000</td>\n",
       "      <td>1088.000000</td>\n",
       "      <td>1088.000000</td>\n",
       "      <td>1088.000000</td>\n",
       "      <td>1088.000000</td>\n",
       "      <td>1088.000000</td>\n",
       "      <td>1088.000000</td>\n",
       "      <td>1088.000000</td>\n",
       "      <td>1088.000000</td>\n",
       "      <td>1088.000000</td>\n",
       "      <td>1088.000000</td>\n",
       "      <td>1088.000000</td>\n",
       "      <td>1088.000000</td>\n",
       "      <td>1088.000000</td>\n",
       "      <td>1088.000000</td>\n",
       "      <td>1088.000000</td>\n",
       "      <td>1088.000000</td>\n",
       "      <td>1088.000000</td>\n",
       "      <td>1088.000000</td>\n",
       "      <td>1088.000000</td>\n",
       "      <td>1088.000000</td>\n",
       "      <td>1088.000000</td>\n",
       "      <td>1088.000000</td>\n",
       "      <td>1088.000000</td>\n",
       "      <td>1088.000000</td>\n",
       "      <td>1088.000000</td>\n",
       "      <td>1088.000000</td>\n",
       "      <td>1088.000000</td>\n",
       "      <td>1088.000000</td>\n",
       "      <td>1088.000000</td>\n",
       "      <td>1088.000000</td>\n",
       "      <td>1088.000000</td>\n",
       "      <td>1088.000000</td>\n",
       "      <td>1088.000000</td>\n",
       "    </tr>\n",
       "    <tr>\n",
       "      <th>mean</th>\n",
       "      <td>4.452206</td>\n",
       "      <td>0.015625</td>\n",
       "      <td>0.898897</td>\n",
       "      <td>0.085478</td>\n",
       "      <td>0.045956</td>\n",
       "      <td>0.089154</td>\n",
       "      <td>0.192096</td>\n",
       "      <td>0.034926</td>\n",
       "      <td>0.052390</td>\n",
       "      <td>0.026654</td>\n",
       "      <td>0.034926</td>\n",
       "      <td>0.028493</td>\n",
       "      <td>0.087316</td>\n",
       "      <td>0.026654</td>\n",
       "      <td>0.025735</td>\n",
       "      <td>0.046875</td>\n",
       "      <td>0.147978</td>\n",
       "      <td>0.005515</td>\n",
       "      <td>0.011949</td>\n",
       "      <td>0.008272</td>\n",
       "      <td>0.010110</td>\n",
       "      <td>0.010110</td>\n",
       "      <td>0.067096</td>\n",
       "      <td>0.784007</td>\n",
       "      <td>0.215993</td>\n",
       "      <td>0.023897</td>\n",
       "      <td>0.130515</td>\n",
       "      <td>0.845588</td>\n",
       "      <td>0.017463</td>\n",
       "      <td>0.006434</td>\n",
       "      <td>0.349265</td>\n",
       "      <td>0.615809</td>\n",
       "      <td>0.204044</td>\n",
       "      <td>0.297794</td>\n",
       "      <td>0.086397</td>\n",
       "      <td>0.260110</td>\n",
       "      <td>0.029412</td>\n",
       "      <td>0.021140</td>\n",
       "      <td>0.001838</td>\n",
       "      <td>0.000919</td>\n",
       "      <td>0.043199</td>\n",
       "      <td>1.768382</td>\n",
       "      <td>2.868566</td>\n",
       "      <td>2.628676</td>\n",
       "      <td>2.284926</td>\n",
       "    </tr>\n",
       "    <tr>\n",
       "      <th>std</th>\n",
       "      <td>3.688106</td>\n",
       "      <td>0.124077</td>\n",
       "      <td>0.301604</td>\n",
       "      <td>0.279720</td>\n",
       "      <td>0.209486</td>\n",
       "      <td>0.285098</td>\n",
       "      <td>0.394129</td>\n",
       "      <td>0.183678</td>\n",
       "      <td>0.222914</td>\n",
       "      <td>0.161145</td>\n",
       "      <td>0.183678</td>\n",
       "      <td>0.166452</td>\n",
       "      <td>0.282428</td>\n",
       "      <td>0.161145</td>\n",
       "      <td>0.158417</td>\n",
       "      <td>0.211468</td>\n",
       "      <td>0.355241</td>\n",
       "      <td>0.074090</td>\n",
       "      <td>0.108704</td>\n",
       "      <td>0.090616</td>\n",
       "      <td>0.100086</td>\n",
       "      <td>0.100086</td>\n",
       "      <td>0.250303</td>\n",
       "      <td>0.411698</td>\n",
       "      <td>0.411698</td>\n",
       "      <td>0.152799</td>\n",
       "      <td>0.337024</td>\n",
       "      <td>0.361509</td>\n",
       "      <td>0.131050</td>\n",
       "      <td>0.079989</td>\n",
       "      <td>0.476957</td>\n",
       "      <td>0.486627</td>\n",
       "      <td>0.403187</td>\n",
       "      <td>0.457499</td>\n",
       "      <td>0.281079</td>\n",
       "      <td>0.438896</td>\n",
       "      <td>0.169035</td>\n",
       "      <td>0.143916</td>\n",
       "      <td>0.042855</td>\n",
       "      <td>0.030317</td>\n",
       "      <td>0.203397</td>\n",
       "      <td>0.877833</td>\n",
       "      <td>1.091156</td>\n",
       "      <td>1.062008</td>\n",
       "      <td>1.259982</td>\n",
       "    </tr>\n",
       "    <tr>\n",
       "      <th>min</th>\n",
       "      <td>1.000000</td>\n",
       "      <td>0.000000</td>\n",
       "      <td>0.000000</td>\n",
       "      <td>0.000000</td>\n",
       "      <td>0.000000</td>\n",
       "      <td>0.000000</td>\n",
       "      <td>0.000000</td>\n",
       "      <td>0.000000</td>\n",
       "      <td>0.000000</td>\n",
       "      <td>0.000000</td>\n",
       "      <td>0.000000</td>\n",
       "      <td>0.000000</td>\n",
       "      <td>0.000000</td>\n",
       "      <td>0.000000</td>\n",
       "      <td>0.000000</td>\n",
       "      <td>0.000000</td>\n",
       "      <td>0.000000</td>\n",
       "      <td>0.000000</td>\n",
       "      <td>0.000000</td>\n",
       "      <td>0.000000</td>\n",
       "      <td>0.000000</td>\n",
       "      <td>0.000000</td>\n",
       "      <td>0.000000</td>\n",
       "      <td>0.000000</td>\n",
       "      <td>0.000000</td>\n",
       "      <td>0.000000</td>\n",
       "      <td>0.000000</td>\n",
       "      <td>0.000000</td>\n",
       "      <td>0.000000</td>\n",
       "      <td>0.000000</td>\n",
       "      <td>0.000000</td>\n",
       "      <td>0.000000</td>\n",
       "      <td>0.000000</td>\n",
       "      <td>0.000000</td>\n",
       "      <td>0.000000</td>\n",
       "      <td>0.000000</td>\n",
       "      <td>0.000000</td>\n",
       "      <td>0.000000</td>\n",
       "      <td>0.000000</td>\n",
       "      <td>0.000000</td>\n",
       "      <td>0.000000</td>\n",
       "      <td>1.000000</td>\n",
       "      <td>1.000000</td>\n",
       "      <td>1.000000</td>\n",
       "      <td>1.000000</td>\n",
       "    </tr>\n",
       "    <tr>\n",
       "      <th>25%</th>\n",
       "      <td>2.000000</td>\n",
       "      <td>0.000000</td>\n",
       "      <td>1.000000</td>\n",
       "      <td>0.000000</td>\n",
       "      <td>0.000000</td>\n",
       "      <td>0.000000</td>\n",
       "      <td>0.000000</td>\n",
       "      <td>0.000000</td>\n",
       "      <td>0.000000</td>\n",
       "      <td>0.000000</td>\n",
       "      <td>0.000000</td>\n",
       "      <td>0.000000</td>\n",
       "      <td>0.000000</td>\n",
       "      <td>0.000000</td>\n",
       "      <td>0.000000</td>\n",
       "      <td>0.000000</td>\n",
       "      <td>0.000000</td>\n",
       "      <td>0.000000</td>\n",
       "      <td>0.000000</td>\n",
       "      <td>0.000000</td>\n",
       "      <td>0.000000</td>\n",
       "      <td>0.000000</td>\n",
       "      <td>0.000000</td>\n",
       "      <td>1.000000</td>\n",
       "      <td>0.000000</td>\n",
       "      <td>0.000000</td>\n",
       "      <td>0.000000</td>\n",
       "      <td>1.000000</td>\n",
       "      <td>0.000000</td>\n",
       "      <td>0.000000</td>\n",
       "      <td>0.000000</td>\n",
       "      <td>0.000000</td>\n",
       "      <td>0.000000</td>\n",
       "      <td>0.000000</td>\n",
       "      <td>0.000000</td>\n",
       "      <td>0.000000</td>\n",
       "      <td>0.000000</td>\n",
       "      <td>0.000000</td>\n",
       "      <td>0.000000</td>\n",
       "      <td>0.000000</td>\n",
       "      <td>0.000000</td>\n",
       "      <td>1.000000</td>\n",
       "      <td>2.000000</td>\n",
       "      <td>2.000000</td>\n",
       "      <td>1.000000</td>\n",
       "    </tr>\n",
       "    <tr>\n",
       "      <th>50%</th>\n",
       "      <td>3.000000</td>\n",
       "      <td>0.000000</td>\n",
       "      <td>1.000000</td>\n",
       "      <td>0.000000</td>\n",
       "      <td>0.000000</td>\n",
       "      <td>0.000000</td>\n",
       "      <td>0.000000</td>\n",
       "      <td>0.000000</td>\n",
       "      <td>0.000000</td>\n",
       "      <td>0.000000</td>\n",
       "      <td>0.000000</td>\n",
       "      <td>0.000000</td>\n",
       "      <td>0.000000</td>\n",
       "      <td>0.000000</td>\n",
       "      <td>0.000000</td>\n",
       "      <td>0.000000</td>\n",
       "      <td>0.000000</td>\n",
       "      <td>0.000000</td>\n",
       "      <td>0.000000</td>\n",
       "      <td>0.000000</td>\n",
       "      <td>0.000000</td>\n",
       "      <td>0.000000</td>\n",
       "      <td>0.000000</td>\n",
       "      <td>1.000000</td>\n",
       "      <td>0.000000</td>\n",
       "      <td>0.000000</td>\n",
       "      <td>0.000000</td>\n",
       "      <td>1.000000</td>\n",
       "      <td>0.000000</td>\n",
       "      <td>0.000000</td>\n",
       "      <td>0.000000</td>\n",
       "      <td>1.000000</td>\n",
       "      <td>0.000000</td>\n",
       "      <td>0.000000</td>\n",
       "      <td>0.000000</td>\n",
       "      <td>0.000000</td>\n",
       "      <td>0.000000</td>\n",
       "      <td>0.000000</td>\n",
       "      <td>0.000000</td>\n",
       "      <td>0.000000</td>\n",
       "      <td>0.000000</td>\n",
       "      <td>2.000000</td>\n",
       "      <td>3.000000</td>\n",
       "      <td>2.000000</td>\n",
       "      <td>2.000000</td>\n",
       "    </tr>\n",
       "    <tr>\n",
       "      <th>75%</th>\n",
       "      <td>6.000000</td>\n",
       "      <td>0.000000</td>\n",
       "      <td>1.000000</td>\n",
       "      <td>0.000000</td>\n",
       "      <td>0.000000</td>\n",
       "      <td>0.000000</td>\n",
       "      <td>0.000000</td>\n",
       "      <td>0.000000</td>\n",
       "      <td>0.000000</td>\n",
       "      <td>0.000000</td>\n",
       "      <td>0.000000</td>\n",
       "      <td>0.000000</td>\n",
       "      <td>0.000000</td>\n",
       "      <td>0.000000</td>\n",
       "      <td>0.000000</td>\n",
       "      <td>0.000000</td>\n",
       "      <td>0.000000</td>\n",
       "      <td>0.000000</td>\n",
       "      <td>0.000000</td>\n",
       "      <td>0.000000</td>\n",
       "      <td>0.000000</td>\n",
       "      <td>0.000000</td>\n",
       "      <td>0.000000</td>\n",
       "      <td>1.000000</td>\n",
       "      <td>0.000000</td>\n",
       "      <td>0.000000</td>\n",
       "      <td>0.000000</td>\n",
       "      <td>1.000000</td>\n",
       "      <td>0.000000</td>\n",
       "      <td>0.000000</td>\n",
       "      <td>1.000000</td>\n",
       "      <td>1.000000</td>\n",
       "      <td>0.000000</td>\n",
       "      <td>1.000000</td>\n",
       "      <td>0.000000</td>\n",
       "      <td>1.000000</td>\n",
       "      <td>0.000000</td>\n",
       "      <td>0.000000</td>\n",
       "      <td>0.000000</td>\n",
       "      <td>0.000000</td>\n",
       "      <td>0.000000</td>\n",
       "      <td>2.000000</td>\n",
       "      <td>3.000000</td>\n",
       "      <td>3.000000</td>\n",
       "      <td>3.000000</td>\n",
       "    </tr>\n",
       "    <tr>\n",
       "      <th>max</th>\n",
       "      <td>16.000000</td>\n",
       "      <td>1.000000</td>\n",
       "      <td>1.000000</td>\n",
       "      <td>1.000000</td>\n",
       "      <td>1.000000</td>\n",
       "      <td>1.000000</td>\n",
       "      <td>1.000000</td>\n",
       "      <td>1.000000</td>\n",
       "      <td>1.000000</td>\n",
       "      <td>1.000000</td>\n",
       "      <td>1.000000</td>\n",
       "      <td>1.000000</td>\n",
       "      <td>1.000000</td>\n",
       "      <td>1.000000</td>\n",
       "      <td>1.000000</td>\n",
       "      <td>1.000000</td>\n",
       "      <td>1.000000</td>\n",
       "      <td>1.000000</td>\n",
       "      <td>1.000000</td>\n",
       "      <td>1.000000</td>\n",
       "      <td>1.000000</td>\n",
       "      <td>1.000000</td>\n",
       "      <td>1.000000</td>\n",
       "      <td>1.000000</td>\n",
       "      <td>1.000000</td>\n",
       "      <td>1.000000</td>\n",
       "      <td>1.000000</td>\n",
       "      <td>1.000000</td>\n",
       "      <td>1.000000</td>\n",
       "      <td>1.000000</td>\n",
       "      <td>1.000000</td>\n",
       "      <td>1.000000</td>\n",
       "      <td>1.000000</td>\n",
       "      <td>1.000000</td>\n",
       "      <td>1.000000</td>\n",
       "      <td>1.000000</td>\n",
       "      <td>1.000000</td>\n",
       "      <td>1.000000</td>\n",
       "      <td>1.000000</td>\n",
       "      <td>1.000000</td>\n",
       "      <td>1.000000</td>\n",
       "      <td>6.000000</td>\n",
       "      <td>5.000000</td>\n",
       "      <td>5.000000</td>\n",
       "      <td>5.000000</td>\n",
       "    </tr>\n",
       "  </tbody>\n",
       "</table>\n",
       "</div>"
      ],
      "text/plain": [
       "       participant_class        Other          Own  University property  \\\n",
       "count        1088.000000  1088.000000  1088.000000          1088.000000   \n",
       "mean            4.452206     0.015625     0.898897             0.085478   \n",
       "std             3.688106     0.124077     0.301604             0.279720   \n",
       "min             1.000000     0.000000     0.000000             0.000000   \n",
       "25%             2.000000     0.000000     1.000000             0.000000   \n",
       "50%             3.000000     0.000000     1.000000             0.000000   \n",
       "75%             6.000000     0.000000     1.000000             0.000000   \n",
       "max            16.000000     1.000000     1.000000             1.000000   \n",
       "\n",
       "             dep_2        dep_3        dep_4        dep_5        dep_6  \\\n",
       "count  1088.000000  1088.000000  1088.000000  1088.000000  1088.000000   \n",
       "mean      0.045956     0.089154     0.192096     0.034926     0.052390   \n",
       "std       0.209486     0.285098     0.394129     0.183678     0.222914   \n",
       "min       0.000000     0.000000     0.000000     0.000000     0.000000   \n",
       "25%       0.000000     0.000000     0.000000     0.000000     0.000000   \n",
       "50%       0.000000     0.000000     0.000000     0.000000     0.000000   \n",
       "75%       0.000000     0.000000     0.000000     0.000000     0.000000   \n",
       "max       1.000000     1.000000     1.000000     1.000000     1.000000   \n",
       "\n",
       "             dep_7        dep_8        dep_9       dep_10       dep_11  \\\n",
       "count  1088.000000  1088.000000  1088.000000  1088.000000  1088.000000   \n",
       "mean      0.026654     0.034926     0.028493     0.087316     0.026654   \n",
       "std       0.161145     0.183678     0.166452     0.282428     0.161145   \n",
       "min       0.000000     0.000000     0.000000     0.000000     0.000000   \n",
       "25%       0.000000     0.000000     0.000000     0.000000     0.000000   \n",
       "50%       0.000000     0.000000     0.000000     0.000000     0.000000   \n",
       "75%       0.000000     0.000000     0.000000     0.000000     0.000000   \n",
       "max       1.000000     1.000000     1.000000     1.000000     1.000000   \n",
       "\n",
       "            dep_12       dep_13       dep_14       dep_15       dep_16  \\\n",
       "count  1088.000000  1088.000000  1088.000000  1088.000000  1088.000000   \n",
       "mean      0.025735     0.046875     0.147978     0.005515     0.011949   \n",
       "std       0.158417     0.211468     0.355241     0.074090     0.108704   \n",
       "min       0.000000     0.000000     0.000000     0.000000     0.000000   \n",
       "25%       0.000000     0.000000     0.000000     0.000000     0.000000   \n",
       "50%       0.000000     0.000000     0.000000     0.000000     0.000000   \n",
       "75%       0.000000     0.000000     0.000000     0.000000     0.000000   \n",
       "max       1.000000     1.000000     1.000000     1.000000     1.000000   \n",
       "\n",
       "            dep_17       dep_18       dep_19       dep_20   com_user_1  \\\n",
       "count  1088.000000  1088.000000  1088.000000  1088.000000  1088.000000   \n",
       "mean      0.008272     0.010110     0.010110     0.067096     0.784007   \n",
       "std       0.090616     0.100086     0.100086     0.250303     0.411698   \n",
       "min       0.000000     0.000000     0.000000     0.000000     0.000000   \n",
       "25%       0.000000     0.000000     0.000000     0.000000     1.000000   \n",
       "50%       0.000000     0.000000     0.000000     0.000000     1.000000   \n",
       "75%       0.000000     0.000000     0.000000     0.000000     1.000000   \n",
       "max       1.000000     1.000000     1.000000     1.000000     1.000000   \n",
       "\n",
       "        com_user_2        com_1        com_2        com_3        gen_2  \\\n",
       "count  1088.000000  1088.000000  1088.000000  1088.000000  1088.000000   \n",
       "mean      0.215993     0.023897     0.130515     0.845588     0.017463   \n",
       "std       0.411698     0.152799     0.337024     0.361509     0.131050   \n",
       "min       0.000000     0.000000     0.000000     0.000000     0.000000   \n",
       "25%       0.000000     0.000000     0.000000     1.000000     0.000000   \n",
       "50%       0.000000     0.000000     0.000000     1.000000     0.000000   \n",
       "75%       0.000000     0.000000     0.000000     1.000000     0.000000   \n",
       "max       1.000000     1.000000     1.000000     1.000000     1.000000   \n",
       "\n",
       "             gen_3        gen_4        gen_5       race_2       race_3  \\\n",
       "count  1088.000000  1088.000000  1088.000000  1088.000000  1088.000000   \n",
       "mean      0.006434     0.349265     0.615809     0.204044     0.297794   \n",
       "std       0.079989     0.476957     0.486627     0.403187     0.457499   \n",
       "min       0.000000     0.000000     0.000000     0.000000     0.000000   \n",
       "25%       0.000000     0.000000     0.000000     0.000000     0.000000   \n",
       "50%       0.000000     0.000000     1.000000     0.000000     0.000000   \n",
       "75%       0.000000     1.000000     1.000000     0.000000     1.000000   \n",
       "max       1.000000     1.000000     1.000000     1.000000     1.000000   \n",
       "\n",
       "            race_4       race_5       race_6       race_7       race_8  \\\n",
       "count  1088.000000  1088.000000  1088.000000  1088.000000  1088.000000   \n",
       "mean      0.086397     0.260110     0.029412     0.021140     0.001838   \n",
       "std       0.281079     0.438896     0.169035     0.143916     0.042855   \n",
       "min       0.000000     0.000000     0.000000     0.000000     0.000000   \n",
       "25%       0.000000     0.000000     0.000000     0.000000     0.000000   \n",
       "50%       0.000000     0.000000     0.000000     0.000000     0.000000   \n",
       "75%       0.000000     1.000000     0.000000     0.000000     0.000000   \n",
       "max       1.000000     1.000000     1.000000     1.000000     1.000000   \n",
       "\n",
       "            race_9      race_10           os    processor       memory  \\\n",
       "count  1088.000000  1088.000000  1088.000000  1088.000000  1088.000000   \n",
       "mean      0.000919     0.043199     1.768382     2.868566     2.628676   \n",
       "std       0.030317     0.203397     0.877833     1.091156     1.062008   \n",
       "min       0.000000     0.000000     1.000000     1.000000     1.000000   \n",
       "25%       0.000000     0.000000     1.000000     2.000000     2.000000   \n",
       "50%       0.000000     0.000000     2.000000     3.000000     2.000000   \n",
       "75%       0.000000     0.000000     2.000000     3.000000     3.000000   \n",
       "max       1.000000     1.000000     6.000000     5.000000     5.000000   \n",
       "\n",
       "          harddisk  \n",
       "count  1088.000000  \n",
       "mean      2.284926  \n",
       "std       1.259982  \n",
       "min       1.000000  \n",
       "25%       1.000000  \n",
       "50%       2.000000  \n",
       "75%       3.000000  \n",
       "max       5.000000  "
      ]
     },
     "execution_count": 4,
     "metadata": {},
     "output_type": "execute_result"
    }
   ],
   "source": [
    "data.describe()"
   ]
  },
  {
   "cell_type": "code",
   "execution_count": 5,
   "metadata": {},
   "outputs": [],
   "source": [
    "# os_dummies = pd.get_dummies(data['os'])\n",
    "# os_dummies.head(1)"
   ]
  },
  {
   "cell_type": "code",
   "execution_count": 6,
   "metadata": {},
   "outputs": [],
   "source": [
    "# data['os_1'] = os_dummies.iloc[:, 0]\n",
    "# data['os_2'] = os_dummies.iloc[:, 1]\n",
    "# data['os_3'] = os_dummies.iloc[:, 2]\n",
    "# data['os_4'] = os_dummies.iloc[:, 3]\n",
    "# data['os_5'] = os_dummies.iloc[:, 4]\n",
    "# data['os_6'] = os_dummies.iloc[:, 5]\n"
   ]
  },
  {
   "cell_type": "code",
   "execution_count": 7,
   "metadata": {},
   "outputs": [],
   "source": [
    "# data.head()"
   ]
  },
  {
   "cell_type": "code",
   "execution_count": 8,
   "metadata": {},
   "outputs": [],
   "source": [
    "new_df = data[['participant_class', 'dep_2', 'dep_3', 'dep_4','dep_5','dep_6','dep_7', 'dep_8','dep_9','dep_10','dep_11',\n",
    "                 'dep_12','dep_13','dep_14','dep_15','dep_16','dep_17','dep_18','dep_19','dep_20','com_user_1','com_user_2',\n",
    "                 'com_1','com_2','com_3', 'os', 'memory']]\n",
    "#'os_1', 'os_2','os_3','os_4','os_5','os_6'"
   ]
  },
  {
   "cell_type": "code",
   "execution_count": 9,
   "metadata": {},
   "outputs": [
    {
     "data": {
      "text/html": [
       "<div>\n",
       "<style scoped>\n",
       "    .dataframe tbody tr th:only-of-type {\n",
       "        vertical-align: middle;\n",
       "    }\n",
       "\n",
       "    .dataframe tbody tr th {\n",
       "        vertical-align: top;\n",
       "    }\n",
       "\n",
       "    .dataframe thead th {\n",
       "        text-align: right;\n",
       "    }\n",
       "</style>\n",
       "<table border=\"1\" class=\"dataframe\">\n",
       "  <thead>\n",
       "    <tr style=\"text-align: right;\">\n",
       "      <th></th>\n",
       "      <th>participant_class</th>\n",
       "      <th>dep_2</th>\n",
       "      <th>dep_3</th>\n",
       "      <th>dep_4</th>\n",
       "      <th>dep_5</th>\n",
       "      <th>dep_6</th>\n",
       "      <th>dep_7</th>\n",
       "      <th>dep_8</th>\n",
       "      <th>dep_9</th>\n",
       "      <th>dep_10</th>\n",
       "      <th>dep_11</th>\n",
       "      <th>dep_12</th>\n",
       "      <th>dep_13</th>\n",
       "      <th>dep_14</th>\n",
       "      <th>dep_15</th>\n",
       "      <th>dep_16</th>\n",
       "      <th>dep_17</th>\n",
       "      <th>dep_18</th>\n",
       "      <th>dep_19</th>\n",
       "      <th>dep_20</th>\n",
       "      <th>com_user_1</th>\n",
       "      <th>com_user_2</th>\n",
       "      <th>com_1</th>\n",
       "      <th>com_2</th>\n",
       "      <th>com_3</th>\n",
       "      <th>os</th>\n",
       "      <th>memory</th>\n",
       "    </tr>\n",
       "  </thead>\n",
       "  <tbody>\n",
       "    <tr>\n",
       "      <th>0</th>\n",
       "      <td>11</td>\n",
       "      <td>1</td>\n",
       "      <td>0</td>\n",
       "      <td>0</td>\n",
       "      <td>0</td>\n",
       "      <td>0</td>\n",
       "      <td>0</td>\n",
       "      <td>0</td>\n",
       "      <td>0</td>\n",
       "      <td>0</td>\n",
       "      <td>0</td>\n",
       "      <td>0</td>\n",
       "      <td>0</td>\n",
       "      <td>0</td>\n",
       "      <td>0</td>\n",
       "      <td>0</td>\n",
       "      <td>0</td>\n",
       "      <td>0</td>\n",
       "      <td>0</td>\n",
       "      <td>0</td>\n",
       "      <td>1</td>\n",
       "      <td>0</td>\n",
       "      <td>0</td>\n",
       "      <td>1</td>\n",
       "      <td>0</td>\n",
       "      <td>1</td>\n",
       "      <td>1</td>\n",
       "    </tr>\n",
       "  </tbody>\n",
       "</table>\n",
       "</div>"
      ],
      "text/plain": [
       "   participant_class  dep_2  dep_3  dep_4  dep_5  dep_6  dep_7  dep_8  dep_9  \\\n",
       "0                 11      1      0      0      0      0      0      0      0   \n",
       "\n",
       "   dep_10  dep_11  dep_12  dep_13  dep_14  dep_15  dep_16  dep_17  dep_18  \\\n",
       "0       0       0       0       0       0       0       0       0       0   \n",
       "\n",
       "   dep_19  dep_20  com_user_1  com_user_2  com_1  com_2  com_3  os  memory  \n",
       "0       0       0           1           0      0      1      0   1       1  "
      ]
     },
     "execution_count": 9,
     "metadata": {},
     "output_type": "execute_result"
    }
   ],
   "source": [
    "new_df.head(1)"
   ]
  },
  {
   "cell_type": "code",
   "execution_count": 10,
   "metadata": {},
   "outputs": [],
   "source": [
    "#new_df_model.to_csv('data_for_lux.csv', index= False)"
   ]
  },
  {
   "cell_type": "markdown",
   "metadata": {},
   "source": [
    "# Model creation"
   ]
  },
  {
   "cell_type": "code",
   "execution_count": 11,
   "metadata": {},
   "outputs": [],
   "source": [
    "X = new_df.iloc[:,:-1].values\n",
    "y = new_df.iloc[:, -1].values"
   ]
  },
  {
   "cell_type": "code",
   "execution_count": 12,
   "metadata": {},
   "outputs": [
    {
     "data": {
      "text/plain": [
       "(1088, 26)"
      ]
     },
     "execution_count": 12,
     "metadata": {},
     "output_type": "execute_result"
    }
   ],
   "source": [
    "X.shape"
   ]
  },
  {
   "cell_type": "code",
   "execution_count": 13,
   "metadata": {},
   "outputs": [
    {
     "name": "stdout",
     "output_type": "stream",
     "text": [
      "[[11  1  0 ...  1  0  1]\n",
      " [ 4  0  1 ...  0  1  2]\n",
      " [ 4  0  1 ...  0  1  2]\n",
      " ...\n",
      " [ 1  0  0 ...  0  1  2]\n",
      " [16  0  1 ...  0  1  2]\n",
      " [ 1  0  0 ...  0  1  2]]\n"
     ]
    }
   ],
   "source": [
    "print(X)"
   ]
  },
  {
   "cell_type": "code",
   "execution_count": 14,
   "metadata": {},
   "outputs": [
    {
     "name": "stdout",
     "output_type": "stream",
     "text": [
      "[1 3 2 ... 2 2 4]\n"
     ]
    }
   ],
   "source": [
    "print(y)"
   ]
  },
  {
   "cell_type": "code",
   "execution_count": 15,
   "metadata": {},
   "outputs": [],
   "source": [
    "# new_df_model.os.value_counts()"
   ]
  },
  {
   "cell_type": "code",
   "execution_count": 16,
   "metadata": {},
   "outputs": [],
   "source": [
    "# new_df.processor.value_counts()"
   ]
  },
  {
   "cell_type": "code",
   "execution_count": 17,
   "metadata": {},
   "outputs": [
    {
     "data": {
      "text/plain": [
       "2    432\n",
       "3    324\n",
       "4    128\n",
       "1    127\n",
       "5     77\n",
       "Name: memory, dtype: int64"
      ]
     },
     "execution_count": 17,
     "metadata": {},
     "output_type": "execute_result"
    }
   ],
   "source": [
    "new_df.memory.value_counts()"
   ]
  },
  {
   "cell_type": "code",
   "execution_count": 18,
   "metadata": {},
   "outputs": [],
   "source": [
    "# new_df.harddisk.value_counts()"
   ]
  },
  {
   "cell_type": "code",
   "execution_count": 19,
   "metadata": {},
   "outputs": [
    {
     "data": {
      "image/png": "[encoded data removed]",
      "text/plain": [
       "<Figure size 432x288 with 1 Axes>"
      ]
     },
     "metadata": {
      "needs_background": "light"
     },
     "output_type": "display_data"
    }
   ],
   "source": [
    "hist = new_df.hist(column='memory')"
   ]
  },
  {
   "cell_type": "code",
   "execution_count": 20,
   "metadata": {},
   "outputs": [],
   "source": [
    "\n",
    "X_train, X_test, y_train, y_test = train_test_split(X, y, test_size = 0.2, random_state = 1, stratify = y)\n",
    "#stratify=y. This tells train_test_split to make sure that the training and test datasets contain examples of each class in\n",
    "#the same proportions as in the original dataset."
   ]
  },
  {
   "cell_type": "markdown",
   "metadata": {},
   "source": [
    "# Logistic Regression"
   ]
  },
  {
   "cell_type": "code",
   "execution_count": 21,
   "metadata": {},
   "outputs": [
    {
     "data": {
      "text/plain": [
       "LogisticRegression(C=1.0, class_weight=None, dual=False, fit_intercept=True,\n",
       "                   intercept_scaling=1, l1_ratio=None, max_iter=1000,\n",
       "                   multi_class='auto', n_jobs=None, penalty='l2',\n",
       "                   random_state=None, solver='lbfgs', tol=0.0001, verbose=0,\n",
       "                   warm_start=False)"
      ]
     },
     "execution_count": 21,
     "metadata": {},
     "output_type": "execute_result"
    }
   ],
   "source": [
    "\n",
    "log_regressor = LogisticRegression(max_iter=1000)\n",
    "log_regressor.fit(X_train, y_train)"
   ]
  },
  {
   "cell_type": "code",
   "execution_count": 22,
   "metadata": {},
   "outputs": [],
   "source": [
    "y_pred_test_log = log_regressor.predict(X_test)"
   ]
  },
  {
   "cell_type": "code",
   "execution_count": 23,
   "metadata": {},
   "outputs": [],
   "source": [
    "# print(y_pred_test_log)"
   ]
  },
  {
   "cell_type": "code",
   "execution_count": 24,
   "metadata": {},
   "outputs": [
    {
     "name": "stdout",
     "output_type": "stream",
     "text": [
      "Misclassified samples: 128\n",
      "Accuracy: 0.41\n"
     ]
    }
   ],
   "source": [
    "count_misclassified = (y_test != y_pred_test_log).sum()\n",
    "print('Misclassified samples: {}'.format(count_misclassified))\n",
    "accuracy_log = metrics.accuracy_score(y_test, y_pred_test_log)\n",
    "print('Accuracy: {:.2f}'.format(accuracy_log))\n"
   ]
  },
  {
   "cell_type": "code",
   "execution_count": 25,
   "metadata": {},
   "outputs": [
    {
     "name": "stdout",
     "output_type": "stream",
     "text": [
      "[[ 0 18  7  0  0]\n",
      " [ 0 74 13  0  0]\n",
      " [ 0 49 16  0  0]\n",
      " [ 0 16 10  0  0]\n",
      " [ 0 10  5  0  0]]\n",
      "Accuracy:  41.284403669724774\n",
      "              precision    recall  f1-score   support\n",
      "\n",
      "           1       0.00      0.00      0.00        25\n",
      "           2       0.44      0.85      0.58        87\n",
      "           3       0.31      0.25      0.28        65\n",
      "           4       0.00      0.00      0.00        26\n",
      "           5       0.00      0.00      0.00        15\n",
      "\n",
      "    accuracy                           0.41       218\n",
      "   macro avg       0.15      0.22      0.17       218\n",
      "weighted avg       0.27      0.41      0.31       218\n",
      "\n"
     ]
    },
    {
     "name": "stderr",
     "output_type": "stream",
     "text": [
      "C:\\Users\\Imtiaz\\anaconda3\\lib\\site-packages\\sklearn\\metrics\\_classification.py:1272: UndefinedMetricWarning: Precision and F-score are ill-defined and being set to 0.0 in labels with no predicted samples. Use `zero_division` parameter to control this behavior.\n",
      "  _warn_prf(average, modifier, msg_start, len(result))\n"
     ]
    }
   ],
   "source": [
    "from sklearn.metrics import confusion_matrix, accuracy_score, classification_report\n",
    "\n",
    "accuracy_score(y_test, y_pred_test_log)\n",
    "cm = confusion_matrix(y_test, y_pred_test_log)\n",
    "print(cm)\n",
    "print(\"Accuracy: \",metrics.accuracy_score(y_test, y_pred_test_log)*100)\n",
    "print(classification_report(y_test, y_pred_test_log))"
   ]
  },
  {
   "cell_type": "code",
   "execution_count": 26,
   "metadata": {},
   "outputs": [
    {
     "name": "stdout",
     "output_type": "stream",
     "text": [
      "Accuracy: 38.62 %\n",
      "Standard Deviation: 2.25 %\n"
     ]
    }
   ],
   "source": [
    "#k-fold\n",
    "accuracies1 = cross_val_score(estimator = log_regressor, X = X_train, y = y_train, cv = 10)\n",
    "print(\"Accuracy: {:.2f} %\".format(accuracies1.mean()*100))\n",
    "print(\"Standard Deviation: {:.2f} %\".format(accuracies1.std()*100))"
   ]
  },
  {
   "cell_type": "code",
   "execution_count": 27,
   "metadata": {},
   "outputs": [
    {
     "name": "stdout",
     "output_type": "stream",
     "text": [
      "Best Accuracy: 40.69 %\n",
      "Best Parameters: {'C': 0.5, 'max_iter': 100, 'penalty': 'l1', 'solver': 'saga'}\n"
     ]
    },
    {
     "name": "stderr",
     "output_type": "stream",
     "text": [
      "C:\\Users\\Imtiaz\\anaconda3\\lib\\site-packages\\sklearn\\linear_model\\_sag.py:330: ConvergenceWarning: The max_iter was reached which means the coef_ did not converge\n",
      "  \"the coef_ did not converge\", ConvergenceWarning)\n"
     ]
    }
   ],
   "source": [
    "# grid_search\n",
    "parameters = [{'penalty': ['l1', 'l2'], 'C': [0.25, 0.50, 0.75, 1.0], 'solver': ['newton-cg', 'lbfgs', 'liblinear', 'sag',\n",
    "                                                                                 'saga'], 'max_iter': [100, 200, 300, 400, 500]}]\n",
    "grid_search = GridSearchCV(estimator = log_regressor,\n",
    "                           param_grid = parameters,\n",
    "                           scoring = 'accuracy',\n",
    "                           cv = 10,\n",
    "                           n_jobs = -1)\n",
    "grid_search.fit(X_train, y_train)\n",
    "best_accuracy = grid_search.best_score_\n",
    "best_parameters = grid_search.best_params_\n",
    "print(\"Best Accuracy: {:.2f} %\".format(best_accuracy*100))\n",
    "print(\"Best Parameters:\", best_parameters)"
   ]
  },
  {
   "cell_type": "markdown",
   "metadata": {},
   "source": [
    "# Random Forest"
   ]
  },
  {
   "cell_type": "code",
   "execution_count": 28,
   "metadata": {},
   "outputs": [
    {
     "data": {
      "text/plain": [
       "RandomForestClassifier(bootstrap=True, ccp_alpha=0.0, class_weight=None,\n",
       "                       criterion='gini', max_depth=None, max_features='auto',\n",
       "                       max_leaf_nodes=None, max_samples=None,\n",
       "                       min_impurity_decrease=0.0, min_impurity_split=None,\n",
       "                       min_samples_leaf=1, min_samples_split=2,\n",
       "                       min_weight_fraction_leaf=0.0, n_estimators=100,\n",
       "                       n_jobs=None, oob_score=False, random_state=1, verbose=0,\n",
       "                       warm_start=False)"
      ]
     },
     "execution_count": 28,
     "metadata": {},
     "output_type": "execute_result"
    }
   ],
   "source": [
    "RFclassifier = RandomForestClassifier(random_state=1)\n",
    "RFclassifier.fit(X_train, y_train)"
   ]
  },
  {
   "cell_type": "code",
   "execution_count": 29,
   "metadata": {},
   "outputs": [],
   "source": [
    "y_pred_test_rf = RFclassifier.predict(X_test)"
   ]
  },
  {
   "cell_type": "code",
   "execution_count": 30,
   "metadata": {},
   "outputs": [],
   "source": [
    "#print(y_pred_test_rf)"
   ]
  },
  {
   "cell_type": "code",
   "execution_count": 31,
   "metadata": {},
   "outputs": [
    {
     "name": "stdout",
     "output_type": "stream",
     "text": [
      "[[ 3 12  8  1  1]\n",
      " [ 8 47 25  3  4]\n",
      " [ 2 38 19  3  3]\n",
      " [ 2 13  9  2  0]\n",
      " [ 2  5  5  1  2]]\n",
      "Accuracy:  33.48623853211009\n",
      "              precision    recall  f1-score   support\n",
      "\n",
      "           1       0.18      0.12      0.14        25\n",
      "           2       0.41      0.54      0.47        87\n",
      "           3       0.29      0.29      0.29        65\n",
      "           4       0.20      0.08      0.11        26\n",
      "           5       0.20      0.13      0.16        15\n",
      "\n",
      "    accuracy                           0.33       218\n",
      "   macro avg       0.25      0.23      0.23       218\n",
      "weighted avg       0.31      0.33      0.31       218\n",
      "\n"
     ]
    }
   ],
   "source": [
    "# from sklearn.metrics import accuracy_score, confusion_matrix, classification_report\n",
    "accuracy_score(y_test, y_pred_test_rf)\n",
    "cm = confusion_matrix(y_test, y_pred_test_rf)\n",
    "print(cm)\n",
    "print(\"Accuracy: \",metrics.accuracy_score(y_test, y_pred_test_rf)*100)\n",
    "print(classification_report(y_test, y_pred_test_rf))"
   ]
  },
  {
   "cell_type": "markdown",
   "metadata": {},
   "source": [
    "## K-fold cv"
   ]
  },
  {
   "cell_type": "code",
   "execution_count": 32,
   "metadata": {},
   "outputs": [
    {
     "name": "stdout",
     "output_type": "stream",
     "text": [
      "Accuracy: 33.56 %\n",
      "Standard Deviation: 4.39 %\n"
     ]
    }
   ],
   "source": [
    "accuracies2 = cross_val_score(estimator = RFclassifier, X = X_train, y = y_train, cv = 10)\n",
    "print(\"Accuracy: {:.2f} %\".format(accuracies2.mean()*100))\n",
    "print(\"Standard Deviation: {:.2f} %\".format(accuracies2.std()*100))"
   ]
  },
  {
   "cell_type": "markdown",
   "metadata": {},
   "source": [
    "## Grid search "
   ]
  },
  {
   "cell_type": "code",
   "execution_count": 33,
   "metadata": {},
   "outputs": [
    {
     "name": "stdout",
     "output_type": "stream",
     "text": [
      "Best Accuracy: 35.86 %\n",
      "Best Parameters: {'criterion': 'entropy', 'max_features': 0.4, 'n_estimators': 1000}\n"
     ]
    }
   ],
   "source": [
    "parameters = [{'n_estimators': [5, 10, 20, 50, 100, 300, 500, 1000], 'criterion': ['gini', 'entropy'],'max_features' : \n",
    "               ['auto', 'log2', 0.4,0.6, 0.8, 1.0]}]\n",
    "grid_search = GridSearchCV(estimator = RFclassifier,\n",
    "                           param_grid = parameters,\n",
    "                           scoring = 'accuracy',\n",
    "                           cv = 10,\n",
    "                           n_jobs = -1)\n",
    "grid_search.fit(X_train, y_train)\n",
    "best_accuracy = grid_search.best_score_\n",
    "best_parameters = grid_search.best_params_\n",
    "print(\"Best Accuracy: {:.2f} %\".format(best_accuracy*100))\n",
    "print(\"Best Parameters:\", best_parameters)"
   ]
  },
  {
   "cell_type": "code",
   "execution_count": 34,
   "metadata": {},
   "outputs": [],
   "source": [
    "# Get and reshape confusion matrix data\n",
    "# matrix = confusion_matrix(y_test, y_pred_test_rf)\n",
    "# matrix = matrix.astype('float') / matrix.sum(axis=1)[:, np.newaxis]\n",
    "\n",
    "# # Build the plot\n",
    "# plt.figure(figsize=(16,7))\n",
    "# sns.set(font_scale=1.4)\n",
    "# sns.heatmap(matrix, annot=True, annot_kws={'size':10},\n",
    "#             cmap=plt.cm.Greens, linewidths=0.2)\n",
    "\n",
    "# # Add labels to the plot\n",
    "# class_names = ['mac os', 'windows os', 'linux', 'chrome os','multiple os', 'other']\n",
    "# tick_marks = np.arange(len(class_names))\n",
    "# tick_marks2 = tick_marks + 0.5\n",
    "# plt.xticks(tick_marks, class_names, rotation=25)\n",
    "# plt.yticks(tick_marks2, class_names, rotation=0)\n",
    "# plt.xlabel('Predicted label')\n",
    "# plt.ylabel('True label')\n",
    "# plt.title('Confusion Matrix for Random Forest Model')\n",
    "# plt.show()"
   ]
  },
  {
   "cell_type": "code",
   "execution_count": 35,
   "metadata": {},
   "outputs": [],
   "source": [
    "# print(classification_report(y_test, y_pred_test_rf, zero_division = 'warn'))"
   ]
  },
  {
   "cell_type": "code",
   "execution_count": 36,
   "metadata": {},
   "outputs": [],
   "source": [
    "# set(y_test) - set(y_pred_test_rf)"
   ]
  },
  {
   "cell_type": "markdown",
   "metadata": {},
   "source": [
    "# KNeighborsClassifier"
   ]
  },
  {
   "cell_type": "code",
   "execution_count": 37,
   "metadata": {},
   "outputs": [
    {
     "data": {
      "text/plain": [
       "KNeighborsClassifier(algorithm='auto', leaf_size=30, metric='minkowski',\n",
       "                     metric_params=None, n_jobs=None, n_neighbors=5, p=2,\n",
       "                     weights='uniform')"
      ]
     },
     "execution_count": 37,
     "metadata": {},
     "output_type": "execute_result"
    }
   ],
   "source": [
    "knn = KNeighborsClassifier()\n",
    "knn.fit(X_train, y_train)"
   ]
  },
  {
   "cell_type": "code",
   "execution_count": 38,
   "metadata": {},
   "outputs": [
    {
     "name": "stdout",
     "output_type": "stream",
     "text": [
      "[[ 5 12  8  0  0]\n",
      " [ 8 50 26  2  1]\n",
      " [ 7 35 19  2  2]\n",
      " [ 3 17  6  0  0]\n",
      " [ 3  6  4  1  1]]\n",
      "Accuracy: : 0.34 %\n",
      "              precision    recall  f1-score   support\n",
      "\n",
      "           1       0.19      0.20      0.20        25\n",
      "           2       0.42      0.57      0.48        87\n",
      "           3       0.30      0.29      0.30        65\n",
      "           4       0.00      0.00      0.00        26\n",
      "           5       0.25      0.07      0.11        15\n",
      "\n",
      "    accuracy                           0.34       218\n",
      "   macro avg       0.23      0.23      0.22       218\n",
      "weighted avg       0.30      0.34      0.31       218\n",
      "\n"
     ]
    }
   ],
   "source": [
    "y_pred_test_knn = knn.predict(X_test)\n",
    "\n",
    "cm = confusion_matrix(y_test, y_pred_test_knn)\n",
    "print(cm)\n",
    "print(\"Accuracy: : {:.2f} %\".format(metrics.accuracy_score(y_test, y_pred_test_knn)))\n",
    "print(classification_report(y_test, y_pred_test_knn))"
   ]
  },
  {
   "cell_type": "markdown",
   "metadata": {},
   "source": [
    "## K-fold cv"
   ]
  },
  {
   "cell_type": "code",
   "execution_count": 39,
   "metadata": {},
   "outputs": [
    {
     "name": "stdout",
     "output_type": "stream",
     "text": [
      "Accuracy: 34.14 %\n",
      "Standard Deviation: 3.53 %\n"
     ]
    }
   ],
   "source": [
    "accuracies3 = cross_val_score(estimator = knn, X = X_train, y = y_train, cv = 10)\n",
    "print(\"Accuracy: {:.2f} %\".format(accuracies3.mean()*100))\n",
    "print(\"Standard Deviation: {:.2f} %\".format(accuracies3.std()*100))"
   ]
  },
  {
   "cell_type": "markdown",
   "metadata": {},
   "source": [
    "## Grid search "
   ]
  },
  {
   "cell_type": "code",
   "execution_count": 40,
   "metadata": {},
   "outputs": [
    {
     "name": "stdout",
     "output_type": "stream",
     "text": [
      "Best Accuracy: 41.26 %\n",
      "Best Parameters: {'n_neighbors': 45, 'weights': 'uniform'}\n"
     ]
    }
   ],
   "source": [
    "parameters = [{'n_neighbors': [36, 45, 46, 55, 56, 115, 116, 215, 216, 250, 275, 276, 315, 316], 'weights': \n",
    "               ['uniform', 'distance']}]\n",
    "grid_search = GridSearchCV(estimator = knn,\n",
    "                           param_grid = parameters,\n",
    "                           scoring = 'accuracy',\n",
    "                           cv = 10,\n",
    "                           n_jobs = -1)\n",
    "grid_search.fit(X_train, y_train)\n",
    "best_accuracy = grid_search.best_score_\n",
    "best_parameters = grid_search.best_params_\n",
    "print(\"Best Accuracy: {:.2f} %\".format(best_accuracy*100))\n",
    "print(\"Best Parameters:\", best_parameters)"
   ]
  },
  {
   "cell_type": "code",
   "execution_count": 41,
   "metadata": {},
   "outputs": [],
   "source": [
    "#Grid search"
   ]
  },
  {
   "cell_type": "markdown",
   "metadata": {},
   "source": [
    "# Decision tree"
   ]
  },
  {
   "cell_type": "code",
   "execution_count": 42,
   "metadata": {},
   "outputs": [
    {
     "data": {
      "text/plain": [
       "DecisionTreeClassifier(ccp_alpha=0.0, class_weight=None, criterion='gini',\n",
       "                       max_depth=None, max_features=None, max_leaf_nodes=None,\n",
       "                       min_impurity_decrease=0.0, min_impurity_split=None,\n",
       "                       min_samples_leaf=1, min_samples_split=2,\n",
       "                       min_weight_fraction_leaf=0.0, presort='deprecated',\n",
       "                       random_state=None, splitter='best')"
      ]
     },
     "execution_count": 42,
     "metadata": {},
     "output_type": "execute_result"
    }
   ],
   "source": [
    "decision_classifier = DecisionTreeClassifier()\n",
    "decision_classifier.fit(X_train, y_train)"
   ]
  },
  {
   "cell_type": "code",
   "execution_count": 43,
   "metadata": {},
   "outputs": [
    {
     "name": "stdout",
     "output_type": "stream",
     "text": [
      "[[ 3 12  8  1  1]\n",
      " [10 50 22  5  0]\n",
      " [ 5 36 19  4  1]\n",
      " [ 4 12  7  2  1]\n",
      " [ 2  6  4  2  1]]\n",
      "Accuracy: 0.34 %\n",
      "              precision    recall  f1-score   support\n",
      "\n",
      "           1       0.12      0.12      0.12        25\n",
      "           2       0.43      0.57      0.49        87\n",
      "           3       0.32      0.29      0.30        65\n",
      "           4       0.14      0.08      0.10        26\n",
      "           5       0.25      0.07      0.11        15\n",
      "\n",
      "    accuracy                           0.34       218\n",
      "   macro avg       0.25      0.23      0.22       218\n",
      "weighted avg       0.32      0.34      0.32       218\n",
      "\n"
     ]
    }
   ],
   "source": [
    "y_pred_test_decision = decision_classifier.predict(X_test)\n",
    "\n",
    "cm = confusion_matrix(y_test, y_pred_test_decision)\n",
    "print(cm)\n",
    "print(\"Accuracy: {:.2f} %\".format(metrics.accuracy_score(y_test, y_pred_test_decision)))\n",
    "print(classification_report(y_test, y_pred_test_decision))"
   ]
  },
  {
   "cell_type": "markdown",
   "metadata": {},
   "source": [
    "## K-fold cv"
   ]
  },
  {
   "cell_type": "code",
   "execution_count": 44,
   "metadata": {},
   "outputs": [
    {
     "name": "stdout",
     "output_type": "stream",
     "text": [
      "Accuracy: 35.98 %\n",
      "Standard Deviation: 3.98 %\n"
     ]
    }
   ],
   "source": [
    "accuracies4 = cross_val_score(estimator = decision_classifier, X = X_train, y = y_train, cv = 10)\n",
    "print(\"Accuracy: {:.2f} %\".format(accuracies4.mean()*100))\n",
    "print(\"Standard Deviation: {:.2f} %\".format(accuracies4.std()*100))"
   ]
  },
  {
   "cell_type": "markdown",
   "metadata": {},
   "source": [
    "## Grid search "
   ]
  },
  {
   "cell_type": "code",
   "execution_count": 45,
   "metadata": {},
   "outputs": [
    {
     "name": "stdout",
     "output_type": "stream",
     "text": [
      "Best Accuracy: 36.44 %\n",
      "Best Parameters: {'criterion': 'gini', 'max_features': 0.8}\n"
     ]
    }
   ],
   "source": [
    "parameters = [{'criterion': ['gini', 'entropy'],'max_features' : ['auto', 'log2', 0.4,0.6, 0.8, 1.0]}]\n",
    "grid_search = GridSearchCV(estimator = decision_classifier,\n",
    "                           param_grid = parameters,\n",
    "                           scoring = 'accuracy',\n",
    "                           cv = 10,\n",
    "                           n_jobs = -1)\n",
    "grid_search.fit(X_train, y_train)\n",
    "best_accuracy = grid_search.best_score_\n",
    "best_parameters = grid_search.best_params_\n",
    "print(\"Best Accuracy: {:.2f} %\".format(best_accuracy*100))\n",
    "print(\"Best Parameters:\", best_parameters)"
   ]
  },
  {
   "cell_type": "markdown",
   "metadata": {},
   "source": [
    "# XGBoost"
   ]
  },
  {
   "cell_type": "code",
   "execution_count": 46,
   "metadata": {},
   "outputs": [],
   "source": [
    "# from xgboost import XGBClassifier\n",
    "# xg_classifier = XGBClassifier()\n",
    "# xg_classifier.fit(X_train, y_train)"
   ]
  },
  {
   "cell_type": "code",
   "execution_count": null,
   "metadata": {},
   "outputs": [],
   "source": []
  },
  {
   "cell_type": "markdown",
   "metadata": {},
   "source": [
    "# SVM"
   ]
  },
  {
   "cell_type": "code",
   "execution_count": 47,
   "metadata": {},
   "outputs": [
    {
     "data": {
      "text/plain": [
       "SVC(C=1.0, break_ties=False, cache_size=200, class_weight=None, coef0=0.0,\n",
       "    decision_function_shape='ovr', degree=3, gamma='scale', kernel='rbf',\n",
       "    max_iter=-1, probability=False, random_state=None, shrinking=True,\n",
       "    tol=0.001, verbose=False)"
      ]
     },
     "execution_count": 47,
     "metadata": {},
     "output_type": "execute_result"
    }
   ],
   "source": [
    "from sklearn.svm import SVC\n",
    "svm = SVC()\n",
    "svm.fit(X_train, y_train)"
   ]
  },
  {
   "cell_type": "code",
   "execution_count": 48,
   "metadata": {},
   "outputs": [],
   "source": [
    "y_pred_test_svm = svm.predict(X_test)"
   ]
  },
  {
   "cell_type": "code",
   "execution_count": 49,
   "metadata": {},
   "outputs": [
    {
     "name": "stdout",
     "output_type": "stream",
     "text": [
      "[[ 0 25  0  0  0]\n",
      " [ 0 79  8  0  0]\n",
      " [ 0 52 13  0  0]\n",
      " [ 0 20  6  0  0]\n",
      " [ 0 13  2  0  0]]\n",
      "Accuracy:  0.42201834862385323\n",
      "              precision    recall  f1-score   support\n",
      "\n",
      "           1       0.00      0.00      0.00        25\n",
      "           2       0.42      0.91      0.57        87\n",
      "           3       0.45      0.20      0.28        65\n",
      "           4       0.00      0.00      0.00        26\n",
      "           5       0.00      0.00      0.00        15\n",
      "\n",
      "    accuracy                           0.42       218\n",
      "   macro avg       0.17      0.22      0.17       218\n",
      "weighted avg       0.30      0.42      0.31       218\n",
      "\n"
     ]
    },
    {
     "name": "stderr",
     "output_type": "stream",
     "text": [
      "C:\\Users\\Imtiaz\\anaconda3\\lib\\site-packages\\sklearn\\metrics\\_classification.py:1272: UndefinedMetricWarning: Precision and F-score are ill-defined and being set to 0.0 in labels with no predicted samples. Use `zero_division` parameter to control this behavior.\n",
      "  _warn_prf(average, modifier, msg_start, len(result))\n"
     ]
    }
   ],
   "source": [
    "#from sklearn.metrics import confusion_matrix, accuracy_score\n",
    "cm = confusion_matrix(y_test, y_pred_test_svm)\n",
    "print(cm)\n",
    "print(\"Accuracy: \",metrics.accuracy_score(y_test, y_pred_test_svm))\n",
    "print(classification_report(y_test, y_pred_test_svm))"
   ]
  },
  {
   "cell_type": "markdown",
   "metadata": {},
   "source": [
    "## K-fold cross validation"
   ]
  },
  {
   "cell_type": "code",
   "execution_count": 50,
   "metadata": {},
   "outputs": [
    {
     "name": "stdout",
     "output_type": "stream",
     "text": [
      "Accuracy: 40.46 %\n",
      "Standard Deviation: 2.29 %\n"
     ]
    }
   ],
   "source": [
    "accuracies5 = cross_val_score(estimator = svm, X = X_train, y = y_train, cv = 10)\n",
    "print(\"Accuracy: {:.2f} %\".format(accuracies5.mean()*100))\n",
    "print(\"Standard Deviation: {:.2f} %\".format(accuracies5.std()*100))"
   ]
  },
  {
   "cell_type": "markdown",
   "metadata": {},
   "source": [
    "## Grid search"
   ]
  },
  {
   "cell_type": "code",
   "execution_count": 51,
   "metadata": {},
   "outputs": [
    {
     "name": "stdout",
     "output_type": "stream",
     "text": [
      "Best Accuracy: 41.84 %\n",
      "Best Parameters: {'C': 1, 'gamma': 0.1, 'kernel': 'rbf'}\n"
     ]
    }
   ],
   "source": [
    "\n",
    "parameters = [{'C': [0.25, 0.5, 0.75, 1], 'kernel': ['linear']},\n",
    "              {'C': [0.25, 0.5, 0.75, 1], 'kernel': ['rbf'], 'gamma': [0.1, 0.2, 0.3, 0.4, 0.5, 0.6, 0.7, 0.8, 0.9]}]\n",
    "grid_search = GridSearchCV(estimator = svm,\n",
    "                           param_grid = parameters,\n",
    "                           scoring = 'accuracy',\n",
    "                           cv = 10,\n",
    "                           n_jobs = -1)\n",
    "grid_search.fit(X_train, y_train)\n",
    "best_accuracy = grid_search.best_score_\n",
    "best_parameters = grid_search.best_params_\n",
    "print(\"Best Accuracy: {:.2f} %\".format(best_accuracy*100))\n",
    "print(\"Best Parameters:\", best_parameters)"
   ]
  },
  {
   "cell_type": "markdown",
   "metadata": {},
   "source": [
    "# Ensembling all of the above or combination of them"
   ]
  },
  {
   "cell_type": "code",
   "execution_count": 71,
   "metadata": {},
   "outputs": [],
   "source": [
    "bagging1 = BaggingClassifier(base_estimator=decision_classifier)\n",
    "bagging2 = BaggingClassifier(base_estimator=knn)\n",
    "bagging3 = BaggingClassifier(base_estimator= RFclassifier)"
   ]
  },
  {
   "cell_type": "code",
   "execution_count": 72,
   "metadata": {},
   "outputs": [
    {
     "data": {
      "text/plain": [
       "BaggingClassifier(base_estimator=RandomForestClassifier(bootstrap=True,\n",
       "                                                        ccp_alpha=0.0,\n",
       "                                                        class_weight=None,\n",
       "                                                        criterion='gini',\n",
       "                                                        max_depth=None,\n",
       "                                                        max_features='auto',\n",
       "                                                        max_leaf_nodes=None,\n",
       "                                                        max_samples=None,\n",
       "                                                        min_impurity_decrease=0.0,\n",
       "                                                        min_impurity_split=None,\n",
       "                                                        min_samples_leaf=1,\n",
       "                                                        min_samples_split=2,\n",
       "                                                        min_weight_fraction_leaf=0.0,\n",
       "                                                        n_estimators=100,\n",
       "                                                        n_jobs=None,\n",
       "                                                        oob_score=False,\n",
       "                                                        random_state=1,\n",
       "                                                        verbose=0,\n",
       "                                                        warm_start=False),\n",
       "                  bootstrap=True, bootstrap_features=False, max_features=1.0,\n",
       "                  max_samples=1.0, n_estimators=10, n_jobs=None,\n",
       "                  oob_score=False, random_state=None, verbose=0,\n",
       "                  warm_start=False)"
      ]
     },
     "execution_count": 72,
     "metadata": {},
     "output_type": "execute_result"
    }
   ],
   "source": [
    "bagging1.fit(X_train, y_train)\n",
    "bagging2.fit(X_train, y_train)\n",
    "bagging3.fit(X_train, y_train)"
   ]
  },
  {
   "cell_type": "code",
   "execution_count": 73,
   "metadata": {},
   "outputs": [],
   "source": [
    "y_pred_test_bagging1 = bagging1.predict(X_test)\n",
    "y_pred_test_bagging2 = bagging2.predict(X_test)\n",
    "y_pred_test_bagging3 = bagging3.predict(X_test)"
   ]
  },
  {
   "cell_type": "code",
   "execution_count": 55,
   "metadata": {},
   "outputs": [
    {
     "name": "stdout",
     "output_type": "stream",
     "text": [
      "[[ 4  9  9  2  1]\n",
      " [ 7 47 24  4  5]\n",
      " [ 3 32 26  3  1]\n",
      " [ 2 12  8  2  2]\n",
      " [ 1  7  3  2  2]]\n",
      "Accuracy:  0.37155963302752293\n",
      "              precision    recall  f1-score   support\n",
      "\n",
      "           1       0.24      0.16      0.19        25\n",
      "           2       0.44      0.54      0.48        87\n",
      "           3       0.37      0.40      0.39        65\n",
      "           4       0.15      0.08      0.10        26\n",
      "           5       0.18      0.13      0.15        15\n",
      "\n",
      "    accuracy                           0.37       218\n",
      "   macro avg       0.28      0.26      0.26       218\n",
      "weighted avg       0.34      0.37      0.35       218\n",
      "\n"
     ]
    }
   ],
   "source": [
    "cm = confusion_matrix(y_test, y_pred_test_bagging1)\n",
    "print(cm)\n",
    "print(\"Accuracy: \",metrics.accuracy_score(y_test, y_pred_test_bagging1))\n",
    "print(classification_report(y_test, y_pred_test_bagging1))"
   ]
  },
  {
   "cell_type": "code",
   "execution_count": 56,
   "metadata": {},
   "outputs": [
    {
     "name": "stdout",
     "output_type": "stream",
     "text": [
      "[[ 4  8 11  2  0]\n",
      " [ 5 46 25  8  3]\n",
      " [ 3 36 23  3  0]\n",
      " [ 3 13  8  2  0]\n",
      " [ 1  5  6  2  1]]\n",
      "Accuracy:  0.3486238532110092\n",
      "              precision    recall  f1-score   support\n",
      "\n",
      "           1       0.25      0.16      0.20        25\n",
      "           2       0.43      0.53      0.47        87\n",
      "           3       0.32      0.35      0.33        65\n",
      "           4       0.12      0.08      0.09        26\n",
      "           5       0.25      0.07      0.11        15\n",
      "\n",
      "    accuracy                           0.35       218\n",
      "   macro avg       0.27      0.24      0.24       218\n",
      "weighted avg       0.32      0.35      0.33       218\n",
      "\n"
     ]
    }
   ],
   "source": [
    "cm = confusion_matrix(y_test, y_pred_test_bagging2)\n",
    "print(cm)\n",
    "print(\"Accuracy: \",metrics.accuracy_score(y_test, y_pred_test_bagging2))\n",
    "print(classification_report(y_test, y_pred_test_bagging2))"
   ]
  },
  {
   "cell_type": "code",
   "execution_count": 74,
   "metadata": {},
   "outputs": [
    {
     "name": "stdout",
     "output_type": "stream",
     "text": [
      "[[ 2 12 10  1  0]\n",
      " [ 6 44 31  4  2]\n",
      " [ 2 35 25  2  1]\n",
      " [ 2 11 11  2  0]\n",
      " [ 1  8  4  1  1]]\n",
      "Accuracy:  0.3394495412844037\n",
      "              precision    recall  f1-score   support\n",
      "\n",
      "           1       0.15      0.08      0.11        25\n",
      "           2       0.40      0.51      0.45        87\n",
      "           3       0.31      0.38      0.34        65\n",
      "           4       0.20      0.08      0.11        26\n",
      "           5       0.25      0.07      0.11        15\n",
      "\n",
      "    accuracy                           0.34       218\n",
      "   macro avg       0.26      0.22      0.22       218\n",
      "weighted avg       0.31      0.34      0.31       218\n",
      "\n"
     ]
    }
   ],
   "source": [
    "cm = confusion_matrix(y_test, y_pred_test_bagging3)\n",
    "print(cm)\n",
    "print(\"Accuracy: \",metrics.accuracy_score(y_test, y_pred_test_bagging3))\n",
    "print(classification_report(y_test, y_pred_test_bagging3))"
   ]
  },
  {
   "cell_type": "code",
   "execution_count": 57,
   "metadata": {},
   "outputs": [],
   "source": [
    "parameters = [{\n",
    " 'bootstrap': [True, False],\n",
    " 'bootstrap_features': [True, False],    \n",
    " 'n_estimators': [15, 20, 25, 30, 35, 40],\n",
    " 'max_samples' : [0.6, 0.8, 1.0],\n",
    " 'max_features': [0.5,0.6,0.7,0.8,0.9,1.0]  \n",
    "#  'base_estimator__bootstrap': [True, False],    \n",
    "#  'base_estimator__n_estimators': [100, 200, 300, 500, 1000],\n",
    "#  'base_estimator__max_features' : [0.6, 0.8, 1.0]\n",
    "}]"
   ]
  },
  {
   "cell_type": "code",
   "execution_count": 58,
   "metadata": {},
   "outputs": [
    {
     "name": "stdout",
     "output_type": "stream",
     "text": [
      "Best Accuracy: 40.46 %\n",
      "Best Parameters: {'bootstrap': False, 'bootstrap_features': True, 'max_features': 0.5, 'max_samples': 1.0, 'n_estimators': 20}\n"
     ]
    }
   ],
   "source": [
    "grid_search = GridSearchCV(bagging1, \n",
    "                           param_grid=parameters, \n",
    "                           scoring = 'accuracy',\n",
    "                           cv=10, n_jobs= -1)\n",
    "\n",
    "grid_search.fit(X_train, y_train)\n",
    "best_accuracy = grid_search.best_score_\n",
    "best_parameters = grid_search.best_params_\n",
    "print(\"Best Accuracy: {:.2f} %\".format(best_accuracy*100))\n",
    "print(\"Best Parameters:\", best_parameters)"
   ]
  },
  {
   "cell_type": "code",
   "execution_count": 59,
   "metadata": {},
   "outputs": [
    {
     "name": "stdout",
     "output_type": "stream",
     "text": [
      "Best Accuracy: 41.61 %\n",
      "Best Parameters: {'bootstrap': False, 'bootstrap_features': True, 'max_features': 0.6, 'max_samples': 0.6, 'n_estimators': 15}\n"
     ]
    }
   ],
   "source": [
    "grid_search = GridSearchCV(bagging2, \n",
    "                           param_grid=parameters, \n",
    "                           scoring = 'accuracy',\n",
    "                           cv=10, n_jobs= -1)\n",
    "\n",
    "grid_search.fit(X_train, y_train)\n",
    "best_accuracy = grid_search.best_score_\n",
    "best_parameters = grid_search.best_params_\n",
    "print(\"Best Accuracy: {:.2f} %\".format(best_accuracy*100))\n",
    "print(\"Best Parameters:\", best_parameters)"
   ]
  },
  {
   "cell_type": "code",
   "execution_count": 76,
   "metadata": {},
   "outputs": [
    {
     "ename": "KeyboardInterrupt",
     "evalue": "",
     "output_type": "error",
     "traceback": [
      "\u001b[1;31m---------------------------------------------------------------------------\u001b[0m",
      "\u001b[1;31mKeyboardInterrupt\u001b[0m                         Traceback (most recent call last)",
      "\u001b[1;32m<ipython-input-76-881d1f827cc7>\u001b[0m in \u001b[0;36m<module>\u001b[1;34m\u001b[0m\n\u001b[0;32m      4\u001b[0m                            cv=10, n_jobs= -1)\n\u001b[0;32m      5\u001b[0m \u001b[1;33m\u001b[0m\u001b[0m\n\u001b[1;32m----> 6\u001b[1;33m \u001b[0mgrid_search\u001b[0m\u001b[1;33m.\u001b[0m\u001b[0mfit\u001b[0m\u001b[1;33m(\u001b[0m\u001b[0mX_train\u001b[0m\u001b[1;33m,\u001b[0m \u001b[0my_train\u001b[0m\u001b[1;33m)\u001b[0m\u001b[1;33m\u001b[0m\u001b[1;33m\u001b[0m\u001b[0m\n\u001b[0m\u001b[0;32m      7\u001b[0m \u001b[0mbest_accuracy\u001b[0m \u001b[1;33m=\u001b[0m \u001b[0mgrid_search\u001b[0m\u001b[1;33m.\u001b[0m\u001b[0mbest_score_\u001b[0m\u001b[1;33m\u001b[0m\u001b[1;33m\u001b[0m\u001b[0m\n\u001b[0;32m      8\u001b[0m \u001b[0mbest_parameters\u001b[0m \u001b[1;33m=\u001b[0m \u001b[0mgrid_search\u001b[0m\u001b[1;33m.\u001b[0m\u001b[0mbest_params_\u001b[0m\u001b[1;33m\u001b[0m\u001b[1;33m\u001b[0m\u001b[0m\n",
      "\u001b[1;32m~\\anaconda3\\lib\\site-packages\\sklearn\\model_selection\\_search.py\u001b[0m in \u001b[0;36mfit\u001b[1;34m(self, X, y, groups, **fit_params)\u001b[0m\n\u001b[0;32m    708\u001b[0m                 \u001b[1;32mreturn\u001b[0m \u001b[0mresults\u001b[0m\u001b[1;33m\u001b[0m\u001b[1;33m\u001b[0m\u001b[0m\n\u001b[0;32m    709\u001b[0m \u001b[1;33m\u001b[0m\u001b[0m\n\u001b[1;32m--> 710\u001b[1;33m             \u001b[0mself\u001b[0m\u001b[1;33m.\u001b[0m\u001b[0m_run_search\u001b[0m\u001b[1;33m(\u001b[0m\u001b[0mevaluate_candidates\u001b[0m\u001b[1;33m)\u001b[0m\u001b[1;33m\u001b[0m\u001b[1;33m\u001b[0m\u001b[0m\n\u001b[0m\u001b[0;32m    711\u001b[0m \u001b[1;33m\u001b[0m\u001b[0m\n\u001b[0;32m    712\u001b[0m         \u001b[1;31m# For multi-metric evaluation, store the best_index_, best_params_ and\u001b[0m\u001b[1;33m\u001b[0m\u001b[1;33m\u001b[0m\u001b[1;33m\u001b[0m\u001b[0m\n",
      "\u001b[1;32m~\\anaconda3\\lib\\site-packages\\sklearn\\model_selection\\_search.py\u001b[0m in \u001b[0;36m_run_search\u001b[1;34m(self, evaluate_candidates)\u001b[0m\n\u001b[0;32m   1149\u001b[0m     \u001b[1;32mdef\u001b[0m \u001b[0m_run_search\u001b[0m\u001b[1;33m(\u001b[0m\u001b[0mself\u001b[0m\u001b[1;33m,\u001b[0m \u001b[0mevaluate_candidates\u001b[0m\u001b[1;33m)\u001b[0m\u001b[1;33m:\u001b[0m\u001b[1;33m\u001b[0m\u001b[1;33m\u001b[0m\u001b[0m\n\u001b[0;32m   1150\u001b[0m         \u001b[1;34m\"\"\"Search all candidates in param_grid\"\"\"\u001b[0m\u001b[1;33m\u001b[0m\u001b[1;33m\u001b[0m\u001b[0m\n\u001b[1;32m-> 1151\u001b[1;33m         \u001b[0mevaluate_candidates\u001b[0m\u001b[1;33m(\u001b[0m\u001b[0mParameterGrid\u001b[0m\u001b[1;33m(\u001b[0m\u001b[0mself\u001b[0m\u001b[1;33m.\u001b[0m\u001b[0mparam_grid\u001b[0m\u001b[1;33m)\u001b[0m\u001b[1;33m)\u001b[0m\u001b[1;33m\u001b[0m\u001b[1;33m\u001b[0m\u001b[0m\n\u001b[0m\u001b[0;32m   1152\u001b[0m \u001b[1;33m\u001b[0m\u001b[0m\n\u001b[0;32m   1153\u001b[0m \u001b[1;33m\u001b[0m\u001b[0m\n",
      "\u001b[1;32m~\\anaconda3\\lib\\site-packages\\sklearn\\model_selection\\_search.py\u001b[0m in \u001b[0;36mevaluate_candidates\u001b[1;34m(candidate_params)\u001b[0m\n\u001b[0;32m    687\u001b[0m                                \u001b[1;32mfor\u001b[0m \u001b[0mparameters\u001b[0m\u001b[1;33m,\u001b[0m \u001b[1;33m(\u001b[0m\u001b[0mtrain\u001b[0m\u001b[1;33m,\u001b[0m \u001b[0mtest\u001b[0m\u001b[1;33m)\u001b[0m\u001b[1;33m\u001b[0m\u001b[1;33m\u001b[0m\u001b[0m\n\u001b[0;32m    688\u001b[0m                                in product(candidate_params,\n\u001b[1;32m--> 689\u001b[1;33m                                           cv.split(X, y, groups)))\n\u001b[0m\u001b[0;32m    690\u001b[0m \u001b[1;33m\u001b[0m\u001b[0m\n\u001b[0;32m    691\u001b[0m                 \u001b[1;32mif\u001b[0m \u001b[0mlen\u001b[0m\u001b[1;33m(\u001b[0m\u001b[0mout\u001b[0m\u001b[1;33m)\u001b[0m \u001b[1;33m<\u001b[0m \u001b[1;36m1\u001b[0m\u001b[1;33m:\u001b[0m\u001b[1;33m\u001b[0m\u001b[1;33m\u001b[0m\u001b[0m\n",
      "\u001b[1;32m~\\anaconda3\\lib\\site-packages\\joblib\\parallel.py\u001b[0m in \u001b[0;36m__call__\u001b[1;34m(self, iterable)\u001b[0m\n\u001b[0;32m   1015\u001b[0m \u001b[1;33m\u001b[0m\u001b[0m\n\u001b[0;32m   1016\u001b[0m             \u001b[1;32mwith\u001b[0m \u001b[0mself\u001b[0m\u001b[1;33m.\u001b[0m\u001b[0m_backend\u001b[0m\u001b[1;33m.\u001b[0m\u001b[0mretrieval_context\u001b[0m\u001b[1;33m(\u001b[0m\u001b[1;33m)\u001b[0m\u001b[1;33m:\u001b[0m\u001b[1;33m\u001b[0m\u001b[1;33m\u001b[0m\u001b[0m\n\u001b[1;32m-> 1017\u001b[1;33m                 \u001b[0mself\u001b[0m\u001b[1;33m.\u001b[0m\u001b[0mretrieve\u001b[0m\u001b[1;33m(\u001b[0m\u001b[1;33m)\u001b[0m\u001b[1;33m\u001b[0m\u001b[1;33m\u001b[0m\u001b[0m\n\u001b[0m\u001b[0;32m   1018\u001b[0m             \u001b[1;31m# Make sure that we get a last message telling us we are done\u001b[0m\u001b[1;33m\u001b[0m\u001b[1;33m\u001b[0m\u001b[1;33m\u001b[0m\u001b[0m\n\u001b[0;32m   1019\u001b[0m             \u001b[0melapsed_time\u001b[0m \u001b[1;33m=\u001b[0m \u001b[0mtime\u001b[0m\u001b[1;33m.\u001b[0m\u001b[0mtime\u001b[0m\u001b[1;33m(\u001b[0m\u001b[1;33m)\u001b[0m \u001b[1;33m-\u001b[0m \u001b[0mself\u001b[0m\u001b[1;33m.\u001b[0m\u001b[0m_start_time\u001b[0m\u001b[1;33m\u001b[0m\u001b[1;33m\u001b[0m\u001b[0m\n",
      "\u001b[1;32m~\\anaconda3\\lib\\site-packages\\joblib\\parallel.py\u001b[0m in \u001b[0;36mretrieve\u001b[1;34m(self)\u001b[0m\n\u001b[0;32m    907\u001b[0m             \u001b[1;32mtry\u001b[0m\u001b[1;33m:\u001b[0m\u001b[1;33m\u001b[0m\u001b[1;33m\u001b[0m\u001b[0m\n\u001b[0;32m    908\u001b[0m                 \u001b[1;32mif\u001b[0m \u001b[0mgetattr\u001b[0m\u001b[1;33m(\u001b[0m\u001b[0mself\u001b[0m\u001b[1;33m.\u001b[0m\u001b[0m_backend\u001b[0m\u001b[1;33m,\u001b[0m \u001b[1;34m'supports_timeout'\u001b[0m\u001b[1;33m,\u001b[0m \u001b[1;32mFalse\u001b[0m\u001b[1;33m)\u001b[0m\u001b[1;33m:\u001b[0m\u001b[1;33m\u001b[0m\u001b[1;33m\u001b[0m\u001b[0m\n\u001b[1;32m--> 909\u001b[1;33m                     \u001b[0mself\u001b[0m\u001b[1;33m.\u001b[0m\u001b[0m_output\u001b[0m\u001b[1;33m.\u001b[0m\u001b[0mextend\u001b[0m\u001b[1;33m(\u001b[0m\u001b[0mjob\u001b[0m\u001b[1;33m.\u001b[0m\u001b[0mget\u001b[0m\u001b[1;33m(\u001b[0m\u001b[0mtimeout\u001b[0m\u001b[1;33m=\u001b[0m\u001b[0mself\u001b[0m\u001b[1;33m.\u001b[0m\u001b[0mtimeout\u001b[0m\u001b[1;33m)\u001b[0m\u001b[1;33m)\u001b[0m\u001b[1;33m\u001b[0m\u001b[1;33m\u001b[0m\u001b[0m\n\u001b[0m\u001b[0;32m    910\u001b[0m                 \u001b[1;32melse\u001b[0m\u001b[1;33m:\u001b[0m\u001b[1;33m\u001b[0m\u001b[1;33m\u001b[0m\u001b[0m\n\u001b[0;32m    911\u001b[0m                     \u001b[0mself\u001b[0m\u001b[1;33m.\u001b[0m\u001b[0m_output\u001b[0m\u001b[1;33m.\u001b[0m\u001b[0mextend\u001b[0m\u001b[1;33m(\u001b[0m\u001b[0mjob\u001b[0m\u001b[1;33m.\u001b[0m\u001b[0mget\u001b[0m\u001b[1;33m(\u001b[0m\u001b[1;33m)\u001b[0m\u001b[1;33m)\u001b[0m\u001b[1;33m\u001b[0m\u001b[1;33m\u001b[0m\u001b[0m\n",
      "\u001b[1;32m~\\anaconda3\\lib\\site-packages\\joblib\\_parallel_backends.py\u001b[0m in \u001b[0;36mwrap_future_result\u001b[1;34m(future, timeout)\u001b[0m\n\u001b[0;32m    560\u001b[0m         AsyncResults.get from multiprocessing.\"\"\"\n\u001b[0;32m    561\u001b[0m         \u001b[1;32mtry\u001b[0m\u001b[1;33m:\u001b[0m\u001b[1;33m\u001b[0m\u001b[1;33m\u001b[0m\u001b[0m\n\u001b[1;32m--> 562\u001b[1;33m             \u001b[1;32mreturn\u001b[0m \u001b[0mfuture\u001b[0m\u001b[1;33m.\u001b[0m\u001b[0mresult\u001b[0m\u001b[1;33m(\u001b[0m\u001b[0mtimeout\u001b[0m\u001b[1;33m=\u001b[0m\u001b[0mtimeout\u001b[0m\u001b[1;33m)\u001b[0m\u001b[1;33m\u001b[0m\u001b[1;33m\u001b[0m\u001b[0m\n\u001b[0m\u001b[0;32m    563\u001b[0m         \u001b[1;32mexcept\u001b[0m \u001b[0mLokyTimeoutError\u001b[0m\u001b[1;33m:\u001b[0m\u001b[1;33m\u001b[0m\u001b[1;33m\u001b[0m\u001b[0m\n\u001b[0;32m    564\u001b[0m             \u001b[1;32mraise\u001b[0m \u001b[0mTimeoutError\u001b[0m\u001b[1;33m(\u001b[0m\u001b[1;33m)\u001b[0m\u001b[1;33m\u001b[0m\u001b[1;33m\u001b[0m\u001b[0m\n",
      "\u001b[1;32m~\\anaconda3\\lib\\concurrent\\futures\\_base.py\u001b[0m in \u001b[0;36mresult\u001b[1;34m(self, timeout)\u001b[0m\n\u001b[0;32m    428\u001b[0m                 \u001b[1;32mreturn\u001b[0m \u001b[0mself\u001b[0m\u001b[1;33m.\u001b[0m\u001b[0m__get_result\u001b[0m\u001b[1;33m(\u001b[0m\u001b[1;33m)\u001b[0m\u001b[1;33m\u001b[0m\u001b[1;33m\u001b[0m\u001b[0m\n\u001b[0;32m    429\u001b[0m \u001b[1;33m\u001b[0m\u001b[0m\n\u001b[1;32m--> 430\u001b[1;33m             \u001b[0mself\u001b[0m\u001b[1;33m.\u001b[0m\u001b[0m_condition\u001b[0m\u001b[1;33m.\u001b[0m\u001b[0mwait\u001b[0m\u001b[1;33m(\u001b[0m\u001b[0mtimeout\u001b[0m\u001b[1;33m)\u001b[0m\u001b[1;33m\u001b[0m\u001b[1;33m\u001b[0m\u001b[0m\n\u001b[0m\u001b[0;32m    431\u001b[0m \u001b[1;33m\u001b[0m\u001b[0m\n\u001b[0;32m    432\u001b[0m             \u001b[1;32mif\u001b[0m \u001b[0mself\u001b[0m\u001b[1;33m.\u001b[0m\u001b[0m_state\u001b[0m \u001b[1;32min\u001b[0m \u001b[1;33m[\u001b[0m\u001b[0mCANCELLED\u001b[0m\u001b[1;33m,\u001b[0m \u001b[0mCANCELLED_AND_NOTIFIED\u001b[0m\u001b[1;33m]\u001b[0m\u001b[1;33m:\u001b[0m\u001b[1;33m\u001b[0m\u001b[1;33m\u001b[0m\u001b[0m\n",
      "\u001b[1;32m~\\anaconda3\\lib\\threading.py\u001b[0m in \u001b[0;36mwait\u001b[1;34m(self, timeout)\u001b[0m\n\u001b[0;32m    294\u001b[0m         \u001b[1;32mtry\u001b[0m\u001b[1;33m:\u001b[0m    \u001b[1;31m# restore state no matter what (e.g., KeyboardInterrupt)\u001b[0m\u001b[1;33m\u001b[0m\u001b[1;33m\u001b[0m\u001b[0m\n\u001b[0;32m    295\u001b[0m             \u001b[1;32mif\u001b[0m \u001b[0mtimeout\u001b[0m \u001b[1;32mis\u001b[0m \u001b[1;32mNone\u001b[0m\u001b[1;33m:\u001b[0m\u001b[1;33m\u001b[0m\u001b[1;33m\u001b[0m\u001b[0m\n\u001b[1;32m--> 296\u001b[1;33m                 \u001b[0mwaiter\u001b[0m\u001b[1;33m.\u001b[0m\u001b[0macquire\u001b[0m\u001b[1;33m(\u001b[0m\u001b[1;33m)\u001b[0m\u001b[1;33m\u001b[0m\u001b[1;33m\u001b[0m\u001b[0m\n\u001b[0m\u001b[0;32m    297\u001b[0m                 \u001b[0mgotit\u001b[0m \u001b[1;33m=\u001b[0m \u001b[1;32mTrue\u001b[0m\u001b[1;33m\u001b[0m\u001b[1;33m\u001b[0m\u001b[0m\n\u001b[0;32m    298\u001b[0m             \u001b[1;32melse\u001b[0m\u001b[1;33m:\u001b[0m\u001b[1;33m\u001b[0m\u001b[1;33m\u001b[0m\u001b[0m\n",
      "\u001b[1;31mKeyboardInterrupt\u001b[0m: "
     ]
    }
   ],
   "source": [
    "grid_search = GridSearchCV(bagging3, \n",
    "                           param_grid=parameters, \n",
    "                           scoring = 'accuracy',\n",
    "                           cv=10, n_jobs= -1)\n",
    "\n",
    "grid_search.fit(X_train, y_train)\n",
    "best_accuracy = grid_search.best_score_\n",
    "best_parameters = grid_search.best_params_\n",
    "print(\"Best Accuracy: {:.2f} %\".format(best_accuracy*100))\n",
    "print(\"Best Parameters:\", best_parameters)"
   ]
  },
  {
   "cell_type": "code",
   "execution_count": 60,
   "metadata": {},
   "outputs": [
    {
     "name": "stdout",
     "output_type": "stream",
     "text": [
      "Accuracy: 0.32 (+/- 0.01) [Decision Tree]\n",
      "Accuracy: 0.35 (+/- 0.04) [K-NN]\n",
      "Accuracy: 0.33 (+/- 0.00) [Bagging Tree]\n",
      "Accuracy: 0.35 (+/- 0.02) [Bagging K-NN]\n"
     ]
    },
    {
     "data": {
      "text/plain": [
       "<Figure size 720x576 with 0 Axes>"
      ]
     },
     "metadata": {},
     "output_type": "display_data"
    }
   ],
   "source": [
    "from mlxtend.plotting import plot_learning_curves\n",
    "from mlxtend.plotting import plot_decision_regions\n",
    "\n",
    "label = ['Decision Tree', 'K-NN', 'Bagging Tree', 'Bagging K-NN']\n",
    "clf_list = [decision_classifier, knn, bagging1, bagging2]\n",
    "\n",
    "fig = plt.figure(figsize=(10, 8))\n",
    "gs = gridspec.GridSpec(2, 2)\n",
    "grid = itertools.product([0,1],repeat=2)\n",
    "\n",
    "for clf, label, grd in zip(clf_list, label, grid):        \n",
    "    scores = cross_val_score(clf, X_train, y_train, cv=3, scoring='accuracy')\n",
    "#     print \"Accuracy: %.2f (+/- %.2f) [%s]\" %(scores.mean(), scores.std(), label)\n",
    "    print (\"Accuracy: {:.2f} (+/- {:.2f}) [{}]\".format(scores.mean(), scores.std(), label))\n",
    "\n",
    "        \n",
    "    clf.fit(X_train, y_train)\n",
    "#     ax = plt.subplot(gs[grd[0], grd[1]])\n",
    "#     fig = plot_decision_regions(X=X_train, y=y_train, clf=clf, legend=2)\n",
    "#     plt.title(label)\n",
    "\n",
    "# plt.show()"
   ]
  },
  {
   "cell_type": "code",
   "execution_count": 61,
   "metadata": {},
   "outputs": [
    {
     "data": {
      "image/png": "[encoded data removed]",
      "text/plain": [
       "<Figure size 432x288 with 1 Axes>"
      ]
     },
     "metadata": {
      "needs_background": "light"
     },
     "output_type": "display_data"
    }
   ],
   "source": [
    "plt.figure()\n",
    "plot_learning_curves(X_train, y_train, X_test, y_test, bagging1, print_model=False, style='ggplot')\n",
    "plt.show()"
   ]
  },
  {
   "cell_type": "code",
   "execution_count": 62,
   "metadata": {},
   "outputs": [],
   "source": [
    "#Ensemble Size\n",
    "# num_est = map(int, np.linspace(1,100,20))\n",
    "# bg_clf_cv_mean = []\n",
    "# bg_clf_cv_std = []\n",
    "# for n_est in num_est:    \n",
    "#     bg_clf = BaggingClassifier(base_estimator=decision_classifier, n_estimators=n_est, max_samples=0.8, max_features=0.8)\n",
    "#     scores = cross_val_score(bg_clf, X_train, y_train, cv=3, scoring='accuracy')\n",
    "#     bg_clf_cv_mean.append(scores.mean())\n",
    "#     bg_clf_cv_std.append(scores.std())"
   ]
  },
  {
   "cell_type": "code",
   "execution_count": 63,
   "metadata": {},
   "outputs": [],
   "source": [
    "# plt.figure()\n",
    "# (_, caps, _) = plt.errorbar(num_est, bg_clf_cv_mean, yerr=bg_clf_cv_std, c='blue', fmt='-o', capsize=5)\n",
    "# for cap in caps:\n",
    "#     cap.set_markeredgewidth(1)                                                                                                                                \n",
    "# plt.ylabel('Accuracy'); plt.xlabel('Ensemble Size'); plt.title('Bagging Tree Ensemble');\n",
    "# plt.show()"
   ]
  },
  {
   "cell_type": "markdown",
   "metadata": {},
   "source": [
    "# Stacking"
   ]
  },
  {
   "cell_type": "code",
   "execution_count": 64,
   "metadata": {},
   "outputs": [],
   "source": [
    "from mlxtend.classifier import StackingClassifier\n",
    "\n",
    "stacking_classifier = StackingClassifier(classifiers=[decision_classifier, RFclassifier, knn, svm], \n",
    "                          meta_classifier=log_regressor)\n",
    "# from sklearn.ensemble import StackingClassifier\n",
    "\n",
    "# stacking_classifier = StackingClassifier(estimators= [decision_classifier, RFclassifier, knn, svm], \n",
    "#                                          final_estimator= log_regressor,\n",
    "#                                         cv = 3)"
   ]
  },
  {
   "cell_type": "code",
   "execution_count": 65,
   "metadata": {},
   "outputs": [
    {
     "name": "stdout",
     "output_type": "stream",
     "text": [
      "Accuracy: 0.32 (+/- 0.01) [Decision Tree]\n",
      "Accuracy: 0.33 (+/- 0.01) [Random Forest]\n",
      "Accuracy: 0.35 (+/- 0.04) [KNN]\n",
      "Accuracy: 0.40 (+/- 0.02) [SVM]\n",
      "Accuracy: 0.36 (+/- 0.03) [StackingClassifier]\n"
     ]
    }
   ],
   "source": [
    "for clf, label in zip([decision_classifier, RFclassifier, knn, svm, stacking_classifier], \n",
    "                      ['Decision Tree',\n",
    "                       'Random Forest',\n",
    "                       'KNN', \n",
    "                       'SVM',\n",
    "                       'StackingClassifier']):\n",
    "\n",
    "    scores = cross_val_score(clf, X_train, y_train, \n",
    "                                              cv=3, scoring='accuracy')\n",
    "    print(\"Accuracy: %0.2f (+/- %0.2f) [%s]\" \n",
    "          % (scores.mean(), scores.std(), label))"
   ]
  },
  {
   "cell_type": "code",
   "execution_count": 66,
   "metadata": {},
   "outputs": [],
   "source": [
    "# label = ['Decision Tree', 'Random Forest', 'K-NN', 'SVM', 'StackingClassifier']\n",
    "# clf_list = [decision_classifier, RFclassifier, knn, svm, stacking_classifier]\n",
    "\n",
    "# fig = plt.figure(figsize=(10, 8))\n",
    "# gs = gridspec.GridSpec(2, 2)\n",
    "# grid = itertools.product([0,1],repeat=2)\n",
    "\n",
    "# for clf, label, grd in zip(clf_list, label, grid):        \n",
    "#     scores = cross_val_score(clf, X_train, y_train, cv=3, scoring='accuracy')\n",
    "# #     print \"Accuracy: %.2f (+/- %.2f) [%s]\" %(scores.mean(), scores.std(), label)\n",
    "#     print (\"Accuracy: {:.2f} (+/- {:.2f}) [{}]\".format(scores.mean(), scores.std(), label))\n",
    "\n",
    "        \n",
    "#     clf.fit(X_train, y_train)\n",
    "# #     ax = plt.subplot(gs[grd[0], grd[1]])\n",
    "# #     fig = plot_decision_regions(X=X_train, y=y_train, clf=clf, legend=2)\n",
    "# #     plt.title(label)\n",
    "\n",
    "# # plt.show()"
   ]
  },
  {
   "cell_type": "code",
   "execution_count": 67,
   "metadata": {},
   "outputs": [
    {
     "data": {
      "text/plain": [
       "StackingClassifier(average_probas=False,\n",
       "                   classifiers=[DecisionTreeClassifier(ccp_alpha=0.0,\n",
       "                                                       class_weight=None,\n",
       "                                                       criterion='gini',\n",
       "                                                       max_depth=None,\n",
       "                                                       max_features=None,\n",
       "                                                       max_leaf_nodes=None,\n",
       "                                                       min_impurity_decrease=0.0,\n",
       "                                                       min_impurity_split=None,\n",
       "                                                       min_samples_leaf=1,\n",
       "                                                       min_samples_split=2,\n",
       "                                                       min_weight_fraction_leaf=0.0,\n",
       "                                                       presort='deprecated',\n",
       "                                                       random_state=None,\n",
       "                                                       splitter='best'...\n",
       "                   meta_classifier=LogisticRegression(C=1.0, class_weight=None,\n",
       "                                                      dual=False,\n",
       "                                                      fit_intercept=True,\n",
       "                                                      intercept_scaling=1,\n",
       "                                                      l1_ratio=None,\n",
       "                                                      max_iter=1000,\n",
       "                                                      multi_class='auto',\n",
       "                                                      n_jobs=None, penalty='l2',\n",
       "                                                      random_state=None,\n",
       "                                                      solver='lbfgs',\n",
       "                                                      tol=0.0001, verbose=0,\n",
       "                                                      warm_start=False),\n",
       "                   store_train_meta_features=False, use_clones=True,\n",
       "                   use_features_in_secondary=False, use_probas=False,\n",
       "                   verbose=0)"
      ]
     },
     "execution_count": 67,
     "metadata": {},
     "output_type": "execute_result"
    }
   ],
   "source": [
    "stacking_classifier.fit(X_train, y_train)"
   ]
  },
  {
   "cell_type": "code",
   "execution_count": 68,
   "metadata": {},
   "outputs": [],
   "source": [
    "y_pred_test_stacking = stacking_classifier.predict(X_test)"
   ]
  },
  {
   "cell_type": "code",
   "execution_count": 69,
   "metadata": {},
   "outputs": [
    {
     "name": "stdout",
     "output_type": "stream",
     "text": [
      "[[ 3 12  9  1  0]\n",
      " [ 8 50 24  4  1]\n",
      " [ 5 35 23  1  1]\n",
      " [ 4 11 11  0  0]\n",
      " [ 1  6  6  0  2]]\n",
      "Accuracy:  0.3577981651376147\n",
      "              precision    recall  f1-score   support\n",
      "\n",
      "           1       0.14      0.12      0.13        25\n",
      "           2       0.44      0.57      0.50        87\n",
      "           3       0.32      0.35      0.33        65\n",
      "           4       0.00      0.00      0.00        26\n",
      "           5       0.50      0.13      0.21        15\n",
      "\n",
      "    accuracy                           0.36       218\n",
      "   macro avg       0.28      0.24      0.23       218\n",
      "weighted avg       0.32      0.36      0.33       218\n",
      "\n"
     ]
    }
   ],
   "source": [
    "cm = confusion_matrix(y_test, y_pred_test_stacking)\n",
    "print(cm)\n",
    "print(\"Accuracy: \",metrics.accuracy_score(y_test, y_pred_test_stacking))\n",
    "print(classification_report(y_test, y_pred_test_stacking))"
   ]
  },
  {
   "cell_type": "code",
   "execution_count": 70,
   "metadata": {},
   "outputs": [
    {
     "name": "stdout",
     "output_type": "stream",
     "text": [
      "Accuracy: 37.93 %\n",
      "Standard Deviation: 6.42 %\n"
     ]
    }
   ],
   "source": [
    "accuracies6 = cross_val_score(estimator = stacking_classifier, X = X_train, y = y_train, cv = 10)\n",
    "print(\"Accuracy: {:.2f} %\".format(accuracies6.mean()*100))\n",
    "print(\"Standard Deviation: {:.2f} %\".format(accuracies6.std()*100))"
   ]
  },
  {
   "cell_type": "code",
   "execution_count": null,
   "metadata": {},
   "outputs": [],
   "source": []
  }
 ],
 "metadata": {
  "kernelspec": {
   "display_name": "Python [conda env:root] *",
   "language": "python",
   "name": "conda-root-py"
  },
  "language_info": {
   "codemirror_mode": {
    "name": "ipython",
    "version": 3
   },
   "file_extension": ".py",
   "mimetype": "text/x-python",
   "name": "python",
   "nbconvert_exporter": "python",
   "pygments_lexer": "ipython3",
   "version": "3.7.6"
  },
  "latex_envs": {
   "LaTeX_envs_menu_present": true,
   "autoclose": false,
   "autocomplete": true,
   "bibliofile": "biblio.bib",
   "cite_by": "apalike",
   "current_citInitial": 1,
   "eqLabelWithNumbers": true,
   "eqNumInitial": 1,
   "hotkeys": {
    "equation": "Ctrl-E",
    "itemize": "Ctrl-I"
   },
   "labels_anchors": false,
   "latex_user_defs": false,
   "report_style_numbering": false,
   "user_envs_cfg": false
  },
  "toc": {
   "base_numbering": 1,
   "nav_menu": {},
   "number_sections": true,
   "sideBar": true,
   "skip_h1_title": false,
   "title_cell": "Table of Contents",
   "title_sidebar": "Contents",
   "toc_cell": false,
   "toc_position": {},
   "toc_section_display": true,
   "toc_window_display": false
  }
 },
 "nbformat": 4,
 "nbformat_minor": 4
}
